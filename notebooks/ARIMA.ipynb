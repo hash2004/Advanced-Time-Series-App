{
 "cells": [
  {
   "cell_type": "code",
   "execution_count": 1,
   "metadata": {},
   "outputs": [
    {
     "data": {
      "text/html": [
       "<div>\n",
       "<style scoped>\n",
       "    .dataframe tbody tr th:only-of-type {\n",
       "        vertical-align: middle;\n",
       "    }\n",
       "\n",
       "    .dataframe tbody tr th {\n",
       "        vertical-align: top;\n",
       "    }\n",
       "\n",
       "    .dataframe thead th {\n",
       "        text-align: right;\n",
       "    }\n",
       "</style>\n",
       "<table border=\"1\" class=\"dataframe\">\n",
       "  <thead>\n",
       "    <tr style=\"text-align: right;\">\n",
       "      <th></th>\n",
       "      <th>Datetime</th>\n",
       "      <th>COMED_MW_scaled</th>\n",
       "      <th>Season_encoded</th>\n",
       "      <th>Time_of_day_encoded</th>\n",
       "      <th>Holiday_encoded</th>\n",
       "    </tr>\n",
       "  </thead>\n",
       "  <tbody>\n",
       "    <tr>\n",
       "      <th>0</th>\n",
       "      <td>2011-01-01 01:00:00</td>\n",
       "      <td>-0.557143</td>\n",
       "      <td>3</td>\n",
       "      <td>3</td>\n",
       "      <td>1</td>\n",
       "    </tr>\n",
       "    <tr>\n",
       "      <th>1</th>\n",
       "      <td>2011-01-01 02:00:00</td>\n",
       "      <td>-0.688278</td>\n",
       "      <td>3</td>\n",
       "      <td>3</td>\n",
       "      <td>1</td>\n",
       "    </tr>\n",
       "    <tr>\n",
       "      <th>2</th>\n",
       "      <td>2011-01-01 03:00:00</td>\n",
       "      <td>-0.784249</td>\n",
       "      <td>3</td>\n",
       "      <td>3</td>\n",
       "      <td>1</td>\n",
       "    </tr>\n",
       "    <tr>\n",
       "      <th>3</th>\n",
       "      <td>2011-01-01 04:00:00</td>\n",
       "      <td>-0.883150</td>\n",
       "      <td>3</td>\n",
       "      <td>3</td>\n",
       "      <td>1</td>\n",
       "    </tr>\n",
       "    <tr>\n",
       "      <th>4</th>\n",
       "      <td>2011-01-01 05:00:00</td>\n",
       "      <td>-0.900366</td>\n",
       "      <td>3</td>\n",
       "      <td>3</td>\n",
       "      <td>1</td>\n",
       "    </tr>\n",
       "    <tr>\n",
       "      <th>...</th>\n",
       "      <td>...</td>\n",
       "      <td>...</td>\n",
       "      <td>...</td>\n",
       "      <td>...</td>\n",
       "      <td>...</td>\n",
       "    </tr>\n",
       "    <tr>\n",
       "      <th>66492</th>\n",
       "      <td>2018-08-02 20:00:00</td>\n",
       "      <td>1.935897</td>\n",
       "      <td>2</td>\n",
       "      <td>1</td>\n",
       "      <td>1</td>\n",
       "    </tr>\n",
       "    <tr>\n",
       "      <th>66493</th>\n",
       "      <td>2018-08-02 21:00:00</td>\n",
       "      <td>1.625641</td>\n",
       "      <td>2</td>\n",
       "      <td>1</td>\n",
       "      <td>1</td>\n",
       "    </tr>\n",
       "    <tr>\n",
       "      <th>66494</th>\n",
       "      <td>2018-08-02 22:00:00</td>\n",
       "      <td>1.441026</td>\n",
       "      <td>2</td>\n",
       "      <td>3</td>\n",
       "      <td>1</td>\n",
       "    </tr>\n",
       "    <tr>\n",
       "      <th>66495</th>\n",
       "      <td>2018-08-02 23:00:00</td>\n",
       "      <td>1.207326</td>\n",
       "      <td>2</td>\n",
       "      <td>3</td>\n",
       "      <td>1</td>\n",
       "    </tr>\n",
       "    <tr>\n",
       "      <th>66496</th>\n",
       "      <td>2018-08-03 00:00:00</td>\n",
       "      <td>0.799634</td>\n",
       "      <td>2</td>\n",
       "      <td>3</td>\n",
       "      <td>1</td>\n",
       "    </tr>\n",
       "  </tbody>\n",
       "</table>\n",
       "<p>66497 rows × 5 columns</p>\n",
       "</div>"
      ],
      "text/plain": [
       "                  Datetime  COMED_MW_scaled  Season_encoded  \\\n",
       "0      2011-01-01 01:00:00        -0.557143               3   \n",
       "1      2011-01-01 02:00:00        -0.688278               3   \n",
       "2      2011-01-01 03:00:00        -0.784249               3   \n",
       "3      2011-01-01 04:00:00        -0.883150               3   \n",
       "4      2011-01-01 05:00:00        -0.900366               3   \n",
       "...                    ...              ...             ...   \n",
       "66492  2018-08-02 20:00:00         1.935897               2   \n",
       "66493  2018-08-02 21:00:00         1.625641               2   \n",
       "66494  2018-08-02 22:00:00         1.441026               2   \n",
       "66495  2018-08-02 23:00:00         1.207326               2   \n",
       "66496  2018-08-03 00:00:00         0.799634               2   \n",
       "\n",
       "       Time_of_day_encoded  Holiday_encoded  \n",
       "0                        3                1  \n",
       "1                        3                1  \n",
       "2                        3                1  \n",
       "3                        3                1  \n",
       "4                        3                1  \n",
       "...                    ...              ...  \n",
       "66492                    1                1  \n",
       "66493                    1                1  \n",
       "66494                    3                1  \n",
       "66495                    3                1  \n",
       "66496                    3                1  \n",
       "\n",
       "[66497 rows x 5 columns]"
      ]
     },
     "execution_count": 1,
     "metadata": {},
     "output_type": "execute_result"
    }
   ],
   "source": [
    "import pandas as pd\n",
    "df = pd.read_csv('/home/hashim/Assignments/Sem6/DataMining/DM_Proj/data/COMED_hourly_preprocessed.csv')\n",
    "df"
   ]
  },
  {
   "cell_type": "code",
   "execution_count": 7,
   "metadata": {},
   "outputs": [],
   "source": [
    "#df = df.set_index('Datetime')\n",
    "#df\n",
    "# We could have set the index as Datetime, however, we will not be using the index for any operations and ARIMA model requires the data to be in a specific format."
   ]
  },
  {
   "cell_type": "code",
   "execution_count": 2,
   "metadata": {},
   "outputs": [
    {
     "name": "stdout",
     "output_type": "stream",
     "text": [
      "ADF Statistic: -14.831167\n",
      "p-value: 0.000000\n",
      "Critical Values:\n",
      "\t1%: -3.430\n",
      "\t5%: -2.862\n",
      "\t10%: -2.567\n",
      "Data is stationary\n"
     ]
    }
   ],
   "source": [
    "from statsmodels.tsa.stattools import adfuller\n",
    "result = adfuller(df['COMED_MW_scaled'])\n",
    "print('ADF Statistic: %f' % result[0])\n",
    "print('p-value: %f' % result[1])\n",
    "print('Critical Values:')\n",
    "for key, value in result[4].items():\n",
    "    print('\\t%s: %.3f' % (key, value))\n",
    "if result[1] > 0.05:\n",
    "    print('Data is not stationary')\n",
    "else:\n",
    "    print('Data is stationary')\n",
    "\n",
    "# No need to difference the data as it is already stationary"
   ]
  },
  {
   "cell_type": "code",
   "execution_count": 3,
   "metadata": {},
   "outputs": [
    {
     "data": {
      "image/png": "[encoded data removed]",
      "text/plain": [
       "<Figure size 640x480 with 1 Axes>"
      ]
     },
     "metadata": {},
     "output_type": "display_data"
    },
    {
     "data": {
      "image/png": "[encoded data removed]",
      "text/plain": [
       "<Figure size 640x480 with 1 Axes>"
      ]
     },
     "metadata": {},
     "output_type": "display_data"
    }
   ],
   "source": [
    "from statsmodels.graphics.tsaplots import plot_acf, plot_pacf\n",
    "import matplotlib.pyplot as plt\n",
    "plot_acf(df['COMED_MW_scaled'], lags=50)\n",
    "plt.show()\n",
    "plot_pacf(df['COMED_MW_scaled'], lags=50)\n",
    "plt.show()"
   ]
  },
  {
   "cell_type": "markdown",
   "metadata": {},
   "source": [
    "## So what is AutoCorrelation and Partial AutoCorrelation?\n",
    "### AutoCorrelation:\n",
    "is the correlation between the series and the same series lagged by x time units.\n",
    "### Partial AutoCorrelation:\n",
    "is the correlation between the series and the same series lagged by x time units but after eliminating the variations already explained by the intervening comparisons."
   ]
  },
  {
   "cell_type": "code",
   "execution_count": 14,
   "metadata": {},
   "outputs": [
    {
     "data": {
      "text/html": [
       "<div>\n",
       "<style scoped>\n",
       "    .dataframe tbody tr th:only-of-type {\n",
       "        vertical-align: middle;\n",
       "    }\n",
       "\n",
       "    .dataframe tbody tr th {\n",
       "        vertical-align: top;\n",
       "    }\n",
       "\n",
       "    .dataframe thead th {\n",
       "        text-align: right;\n",
       "    }\n",
       "</style>\n",
       "<table border=\"1\" class=\"dataframe\">\n",
       "  <thead>\n",
       "    <tr style=\"text-align: right;\">\n",
       "      <th></th>\n",
       "      <th>Datetime</th>\n",
       "      <th>COMED_MW_scaled</th>\n",
       "      <th>Season_encoded</th>\n",
       "      <th>Time_of_day_encoded</th>\n",
       "      <th>Holiday_encoded</th>\n",
       "    </tr>\n",
       "  </thead>\n",
       "  <tbody>\n",
       "    <tr>\n",
       "      <th>0</th>\n",
       "      <td>2011-01-01 01:00:00</td>\n",
       "      <td>-0.907578</td>\n",
       "      <td>3</td>\n",
       "      <td>3</td>\n",
       "      <td>1</td>\n",
       "    </tr>\n",
       "    <tr>\n",
       "      <th>1</th>\n",
       "      <td>2011-01-01 02:00:00</td>\n",
       "      <td>-0.953618</td>\n",
       "      <td>3</td>\n",
       "      <td>3</td>\n",
       "      <td>1</td>\n",
       "    </tr>\n",
       "    <tr>\n",
       "      <th>2</th>\n",
       "      <td>2011-01-01 03:00:00</td>\n",
       "      <td>-0.987313</td>\n",
       "      <td>3</td>\n",
       "      <td>3</td>\n",
       "      <td>1</td>\n",
       "    </tr>\n",
       "    <tr>\n",
       "      <th>3</th>\n",
       "      <td>2011-01-01 04:00:00</td>\n",
       "      <td>-1.022037</td>\n",
       "      <td>3</td>\n",
       "      <td>3</td>\n",
       "      <td>1</td>\n",
       "    </tr>\n",
       "    <tr>\n",
       "      <th>4</th>\n",
       "      <td>2011-01-01 05:00:00</td>\n",
       "      <td>-1.028081</td>\n",
       "      <td>3</td>\n",
       "      <td>3</td>\n",
       "      <td>1</td>\n",
       "    </tr>\n",
       "    <tr>\n",
       "      <th>...</th>\n",
       "      <td>...</td>\n",
       "      <td>...</td>\n",
       "      <td>...</td>\n",
       "      <td>...</td>\n",
       "      <td>...</td>\n",
       "    </tr>\n",
       "    <tr>\n",
       "      <th>66492</th>\n",
       "      <td>2018-08-02 20:00:00</td>\n",
       "      <td>1.764267</td>\n",
       "      <td>2</td>\n",
       "      <td>1</td>\n",
       "      <td>1</td>\n",
       "    </tr>\n",
       "    <tr>\n",
       "      <th>66493</th>\n",
       "      <td>2018-08-02 21:00:00</td>\n",
       "      <td>1.655338</td>\n",
       "      <td>2</td>\n",
       "      <td>1</td>\n",
       "      <td>1</td>\n",
       "    </tr>\n",
       "    <tr>\n",
       "      <th>66494</th>\n",
       "      <td>2018-08-02 22:00:00</td>\n",
       "      <td>-0.787778</td>\n",
       "      <td>2</td>\n",
       "      <td>3</td>\n",
       "      <td>1</td>\n",
       "    </tr>\n",
       "    <tr>\n",
       "      <th>66495</th>\n",
       "      <td>2018-08-02 23:00:00</td>\n",
       "      <td>-0.869829</td>\n",
       "      <td>2</td>\n",
       "      <td>3</td>\n",
       "      <td>1</td>\n",
       "    </tr>\n",
       "    <tr>\n",
       "      <th>66496</th>\n",
       "      <td>2018-08-03 00:00:00</td>\n",
       "      <td>-1.012967</td>\n",
       "      <td>2</td>\n",
       "      <td>3</td>\n",
       "      <td>1</td>\n",
       "    </tr>\n",
       "  </tbody>\n",
       "</table>\n",
       "<p>66497 rows × 5 columns</p>\n",
       "</div>"
      ],
      "text/plain": [
       "                  Datetime  COMED_MW_scaled  Season_encoded  \\\n",
       "0      2011-01-01 01:00:00        -0.907578               3   \n",
       "1      2011-01-01 02:00:00        -0.953618               3   \n",
       "2      2011-01-01 03:00:00        -0.987313               3   \n",
       "3      2011-01-01 04:00:00        -1.022037               3   \n",
       "4      2011-01-01 05:00:00        -1.028081               3   \n",
       "...                    ...              ...             ...   \n",
       "66492  2018-08-02 20:00:00         1.764267               2   \n",
       "66493  2018-08-02 21:00:00         1.655338               2   \n",
       "66494  2018-08-02 22:00:00        -0.787778               2   \n",
       "66495  2018-08-02 23:00:00        -0.869829               2   \n",
       "66496  2018-08-03 00:00:00        -1.012967               2   \n",
       "\n",
       "       Time_of_day_encoded  Holiday_encoded  \n",
       "0                        3                1  \n",
       "1                        3                1  \n",
       "2                        3                1  \n",
       "3                        3                1  \n",
       "4                        3                1  \n",
       "...                    ...              ...  \n",
       "66492                    1                1  \n",
       "66493                    1                1  \n",
       "66494                    3                1  \n",
       "66495                    3                1  \n",
       "66496                    3                1  \n",
       "\n",
       "[66497 rows x 5 columns]"
      ]
     },
     "execution_count": 14,
     "metadata": {},
     "output_type": "execute_result"
    }
   ],
   "source": [
    "# use PCA to fit all 4 columns into 1 column\n",
    "from sklearn.decomposition import PCA\n",
    "pca = PCA(n_components=1)\n",
    "df['COMED_MW_scaled'] = pca.fit_transform(df[['COMED_MW_scaled','Season_encoded','Time_of_day_encoded']])\n",
    "df\n",
    "# Since the ARIMA model uses only 1 column, we will use PCA to fit 3 columns into 1 column."
   ]
  },
  {
   "cell_type": "code",
   "execution_count": 15,
   "metadata": {},
   "outputs": [],
   "source": [
    "# Divide the DataFrame into training and testing data\n",
    "train = df.iloc[:int(0.8 * len(df))]\n",
    "test = df.iloc[int(0.8 * len(df)):]"
   ]
  },
  {
   "cell_type": "code",
   "execution_count": 16,
   "metadata": {},
   "outputs": [
    {
     "name": "stdout",
     "output_type": "stream",
     "text": [
      "Performing stepwise search to minimize aic\n",
      " ARIMA(2,1,2)(0,0,0)[0] intercept   : AIC=155189.962, Time=16.50 sec\n",
      " ARIMA(0,1,0)(0,0,0)[0] intercept   : AIC=155419.425, Time=3.11 sec\n",
      " ARIMA(1,1,0)(0,0,0)[0] intercept   : AIC=155365.957, Time=1.94 sec\n",
      " ARIMA(0,1,1)(0,0,0)[0] intercept   : AIC=155369.566, Time=2.85 sec\n",
      " ARIMA(0,1,0)(0,0,0)[0]             : AIC=155417.425, Time=0.41 sec\n",
      " ARIMA(1,1,2)(0,0,0)[0] intercept   : AIC=inf, Time=37.92 sec\n",
      " ARIMA(2,1,1)(0,0,0)[0] intercept   : AIC=inf, Time=37.67 sec\n",
      " ARIMA(3,1,2)(0,0,0)[0] intercept   : AIC=inf, Time=54.44 sec\n",
      " ARIMA(2,1,3)(0,0,0)[0] intercept   : AIC=inf, Time=51.11 sec\n",
      " ARIMA(1,1,1)(0,0,0)[0] intercept   : AIC=155219.987, Time=11.79 sec\n",
      " ARIMA(1,1,3)(0,0,0)[0] intercept   : AIC=155091.750, Time=25.28 sec\n",
      " ARIMA(0,1,3)(0,0,0)[0] intercept   : AIC=155249.792, Time=5.57 sec\n",
      " ARIMA(1,1,4)(0,0,0)[0] intercept   : AIC=152712.492, Time=43.30 sec\n",
      " ARIMA(0,1,4)(0,0,0)[0] intercept   : AIC=155240.964, Time=9.63 sec\n",
      " ARIMA(2,1,4)(0,0,0)[0] intercept   : AIC=inf, Time=65.54 sec\n",
      " ARIMA(1,1,5)(0,0,0)[0] intercept   : AIC=inf, Time=82.34 sec\n",
      " ARIMA(0,1,5)(0,0,0)[0] intercept   : AIC=inf, Time=67.92 sec\n",
      " ARIMA(2,1,5)(0,0,0)[0] intercept   : AIC=143052.564, Time=78.18 sec\n",
      " ARIMA(3,1,5)(0,0,0)[0] intercept   : AIC=inf, Time=80.64 sec\n",
      " ARIMA(3,1,4)(0,0,0)[0] intercept   : AIC=inf, Time=75.47 sec\n",
      " ARIMA(2,1,5)(0,0,0)[0]             : AIC=143094.577, Time=31.59 sec\n",
      "\n",
      "Best model:  ARIMA(2,1,5)(0,0,0)[0] intercept\n",
      "Total fit time: 783.201 seconds\n"
     ]
    },
    {
     "data": {
      "text/html": [
       "<table class=\"simpletable\">\n",
       "<caption>SARIMAX Results</caption>\n",
       "<tr>\n",
       "  <th>Dep. Variable:</th>           <td>y</td>        <th>  No. Observations:  </th>    <td>66497</td>  \n",
       "</tr>\n",
       "<tr>\n",
       "  <th>Model:</th>           <td>SARIMAX(2, 1, 5)</td> <th>  Log Likelihood     </th> <td>-71517.282</td>\n",
       "</tr>\n",
       "<tr>\n",
       "  <th>Date:</th>            <td>Sun, 12 May 2024</td> <th>  AIC                </th> <td>143052.564</td>\n",
       "</tr>\n",
       "<tr>\n",
       "  <th>Time:</th>                <td>22:03:49</td>     <th>  BIC                </th> <td>143134.508</td>\n",
       "</tr>\n",
       "<tr>\n",
       "  <th>Sample:</th>                  <td>0</td>        <th>  HQIC               </th> <td>143077.896</td>\n",
       "</tr>\n",
       "<tr>\n",
       "  <th></th>                     <td> - 66497</td>     <th>                     </th>      <td> </td>    \n",
       "</tr>\n",
       "<tr>\n",
       "  <th>Covariance Type:</th>        <td>opg</td>       <th>                     </th>      <td> </td>    \n",
       "</tr>\n",
       "</table>\n",
       "<table class=\"simpletable\">\n",
       "<tr>\n",
       "      <td></td>         <th>coef</th>     <th>std err</th>      <th>z</th>      <th>P>|z|</th>  <th>[0.025</th>    <th>0.975]</th>  \n",
       "</tr>\n",
       "<tr>\n",
       "  <th>intercept</th> <td>    0.0025</td> <td>    0.003</td> <td>    0.794</td> <td> 0.427</td> <td>   -0.004</td> <td>    0.009</td>\n",
       "</tr>\n",
       "<tr>\n",
       "  <th>ar.L1</th>     <td>    1.0996</td> <td>    0.010</td> <td>  111.054</td> <td> 0.000</td> <td>    1.080</td> <td>    1.119</td>\n",
       "</tr>\n",
       "<tr>\n",
       "  <th>ar.L2</th>     <td>   -0.6380</td> <td>    0.007</td> <td>  -86.904</td> <td> 0.000</td> <td>   -0.652</td> <td>   -0.624</td>\n",
       "</tr>\n",
       "<tr>\n",
       "  <th>ma.L1</th>     <td>   -1.2229</td> <td>    0.013</td> <td>  -93.590</td> <td> 0.000</td> <td>   -1.249</td> <td>   -1.197</td>\n",
       "</tr>\n",
       "<tr>\n",
       "  <th>ma.L2</th>     <td>    0.7746</td> <td>    0.014</td> <td>   56.584</td> <td> 0.000</td> <td>    0.748</td> <td>    0.801</td>\n",
       "</tr>\n",
       "<tr>\n",
       "  <th>ma.L3</th>     <td>   -0.0096</td> <td>    0.024</td> <td>   -0.408</td> <td> 0.684</td> <td>   -0.056</td> <td>    0.037</td>\n",
       "</tr>\n",
       "<tr>\n",
       "  <th>ma.L4</th>     <td>   -0.0115</td> <td>    0.028</td> <td>   -0.408</td> <td> 0.683</td> <td>   -0.067</td> <td>    0.044</td>\n",
       "</tr>\n",
       "<tr>\n",
       "  <th>ma.L5</th>     <td>    0.2319</td> <td>    0.020</td> <td>   11.438</td> <td> 0.000</td> <td>    0.192</td> <td>    0.272</td>\n",
       "</tr>\n",
       "<tr>\n",
       "  <th>sigma2</th>    <td>    0.5023</td> <td>    0.003</td> <td>  159.108</td> <td> 0.000</td> <td>    0.496</td> <td>    0.509</td>\n",
       "</tr>\n",
       "</table>\n",
       "<table class=\"simpletable\">\n",
       "<tr>\n",
       "  <th>Ljung-Box (L1) (Q):</th>     <td>0.20</td> <th>  Jarque-Bera (JB):  </th> <td>17962.03</td>\n",
       "</tr>\n",
       "<tr>\n",
       "  <th>Prob(Q):</th>                <td>0.66</td> <th>  Prob(JB):          </th>   <td>0.00</td>  \n",
       "</tr>\n",
       "<tr>\n",
       "  <th>Heteroskedasticity (H):</th> <td>1.01</td> <th>  Skew:              </th>   <td>0.09</td>  \n",
       "</tr>\n",
       "<tr>\n",
       "  <th>Prob(H) (two-sided):</th>    <td>0.71</td> <th>  Kurtosis:          </th>   <td>5.54</td>  \n",
       "</tr>\n",
       "</table><br/><br/>Warnings:<br/>[1] Covariance matrix calculated using the outer product of gradients (complex-step)."
      ],
      "text/latex": [
       "\\begin{center}\n",
       "\\begin{tabular}{lclc}\n",
       "\\toprule\n",
       "\\textbf{Dep. Variable:}          &        y         & \\textbf{  No. Observations:  } &   66497     \\\\\n",
       "\\textbf{Model:}                  & SARIMAX(2, 1, 5) & \\textbf{  Log Likelihood     } & -71517.282  \\\\\n",
       "\\textbf{Date:}                   & Sun, 12 May 2024 & \\textbf{  AIC                } & 143052.564  \\\\\n",
       "\\textbf{Time:}                   &     22:03:49     & \\textbf{  BIC                } & 143134.508  \\\\\n",
       "\\textbf{Sample:}                 &        0         & \\textbf{  HQIC               } & 143077.896  \\\\\n",
       "\\textbf{}                        &      - 66497     & \\textbf{                     } &             \\\\\n",
       "\\textbf{Covariance Type:}        &       opg        & \\textbf{                     } &             \\\\\n",
       "\\bottomrule\n",
       "\\end{tabular}\n",
       "\\begin{tabular}{lcccccc}\n",
       "                   & \\textbf{coef} & \\textbf{std err} & \\textbf{z} & \\textbf{P$> |$z$|$} & \\textbf{[0.025} & \\textbf{0.975]}  \\\\\n",
       "\\midrule\n",
       "\\textbf{intercept} &       0.0025  &        0.003     &     0.794  &         0.427        &       -0.004    &        0.009     \\\\\n",
       "\\textbf{ar.L1}     &       1.0996  &        0.010     &   111.054  &         0.000        &        1.080    &        1.119     \\\\\n",
       "\\textbf{ar.L2}     &      -0.6380  &        0.007     &   -86.904  &         0.000        &       -0.652    &       -0.624     \\\\\n",
       "\\textbf{ma.L1}     &      -1.2229  &        0.013     &   -93.590  &         0.000        &       -1.249    &       -1.197     \\\\\n",
       "\\textbf{ma.L2}     &       0.7746  &        0.014     &    56.584  &         0.000        &        0.748    &        0.801     \\\\\n",
       "\\textbf{ma.L3}     &      -0.0096  &        0.024     &    -0.408  &         0.684        &       -0.056    &        0.037     \\\\\n",
       "\\textbf{ma.L4}     &      -0.0115  &        0.028     &    -0.408  &         0.683        &       -0.067    &        0.044     \\\\\n",
       "\\textbf{ma.L5}     &       0.2319  &        0.020     &    11.438  &         0.000        &        0.192    &        0.272     \\\\\n",
       "\\textbf{sigma2}    &       0.5023  &        0.003     &   159.108  &         0.000        &        0.496    &        0.509     \\\\\n",
       "\\bottomrule\n",
       "\\end{tabular}\n",
       "\\begin{tabular}{lclc}\n",
       "\\textbf{Ljung-Box (L1) (Q):}     & 0.20 & \\textbf{  Jarque-Bera (JB):  } & 17962.03  \\\\\n",
       "\\textbf{Prob(Q):}                & 0.66 & \\textbf{  Prob(JB):          } &   0.00    \\\\\n",
       "\\textbf{Heteroskedasticity (H):} & 1.01 & \\textbf{  Skew:              } &   0.09    \\\\\n",
       "\\textbf{Prob(H) (two-sided):}    & 0.71 & \\textbf{  Kurtosis:          } &   5.54    \\\\\n",
       "\\bottomrule\n",
       "\\end{tabular}\n",
       "%\\caption{SARIMAX Results}\n",
       "\\end{center}\n",
       "\n",
       "Warnings: \\newline\n",
       " [1] Covariance matrix calculated using the outer product of gradients (complex-step)."
      ],
      "text/plain": [
       "<class 'statsmodels.iolib.summary.Summary'>\n",
       "\"\"\"\n",
       "                               SARIMAX Results                                \n",
       "==============================================================================\n",
       "Dep. Variable:                      y   No. Observations:                66497\n",
       "Model:               SARIMAX(2, 1, 5)   Log Likelihood              -71517.282\n",
       "Date:                Sun, 12 May 2024   AIC                         143052.564\n",
       "Time:                        22:03:49   BIC                         143134.508\n",
       "Sample:                             0   HQIC                        143077.896\n",
       "                              - 66497                                         \n",
       "Covariance Type:                  opg                                         \n",
       "==============================================================================\n",
       "                 coef    std err          z      P>|z|      [0.025      0.975]\n",
       "------------------------------------------------------------------------------\n",
       "intercept      0.0025      0.003      0.794      0.427      -0.004       0.009\n",
       "ar.L1          1.0996      0.010    111.054      0.000       1.080       1.119\n",
       "ar.L2         -0.6380      0.007    -86.904      0.000      -0.652      -0.624\n",
       "ma.L1         -1.2229      0.013    -93.590      0.000      -1.249      -1.197\n",
       "ma.L2          0.7746      0.014     56.584      0.000       0.748       0.801\n",
       "ma.L3         -0.0096      0.024     -0.408      0.684      -0.056       0.037\n",
       "ma.L4         -0.0115      0.028     -0.408      0.683      -0.067       0.044\n",
       "ma.L5          0.2319      0.020     11.438      0.000       0.192       0.272\n",
       "sigma2         0.5023      0.003    159.108      0.000       0.496       0.509\n",
       "===================================================================================\n",
       "Ljung-Box (L1) (Q):                   0.20   Jarque-Bera (JB):             17962.03\n",
       "Prob(Q):                              0.66   Prob(JB):                         0.00\n",
       "Heteroskedasticity (H):               1.01   Skew:                             0.09\n",
       "Prob(H) (two-sided):                  0.71   Kurtosis:                         5.54\n",
       "===================================================================================\n",
       "\n",
       "Warnings:\n",
       "[1] Covariance matrix calculated using the outer product of gradients (complex-step).\n",
       "\"\"\""
      ]
     },
     "execution_count": 16,
     "metadata": {},
     "output_type": "execute_result"
    }
   ],
   "source": [
    "from pmdarima import auto_arima\n",
    "stepwise_fit=auto_arima(df[\"COMED_MW_scaled\"], trace=True, suppress_warnings=True)\n",
    "stepwise_fit.summary()"
   ]
  },
  {
   "cell_type": "code",
   "execution_count": 34,
   "metadata": {},
   "outputs": [
    {
     "name": "stdout",
     "output_type": "stream",
     "text": [
      "{'p': 0, 'd': 0, 'q': 0, 'trend': 'n'} MSE: 2.719574531609435\n",
      "{'p': 0, 'd': 0, 'q': 1, 'trend': 'n'} MSE: 1.2159649704553932\n",
      "{'p': 0, 'd': 0, 'q': 0, 'trend': 't'} MSE: 2.719421597163649\n",
      "{'p': 0, 'd': 0, 'q': 0, 'trend': 'ct'} MSE: 2.7189607979418904\n",
      "{'p': 0, 'd': 0, 'q': 1, 'trend': 'c'} MSE: 1.215964969999815\n",
      "{'p': 0, 'd': 0, 'q': 0, 'trend': 'c'} MSE: 2.719574531633633\n",
      "{'p': 0, 'd': 0, 'q': 2, 'trend': 'n'} MSE: 0.8328800277860006\n"
     ]
    },
    {
     "name": "stderr",
     "output_type": "stream",
     "text": [
      "/home/hashim/.local/lib/python3.10/site-packages/statsmodels/base/model.py:607: ConvergenceWarning: Maximum Likelihood optimization failed to converge. Check mle_retvals\n",
      "  warnings.warn(\"Maximum Likelihood optimization failed to \"\n"
     ]
    },
    {
     "name": "stdout",
     "output_type": "stream",
     "text": [
      "{'p': 0, 'd': 0, 'q': 1, 'trend': 't'} MSE: 2.55870064373797\n"
     ]
    },
    {
     "name": "stderr",
     "output_type": "stream",
     "text": [
      "/home/hashim/.local/lib/python3.10/site-packages/statsmodels/base/model.py:607: ConvergenceWarning: Maximum Likelihood optimization failed to converge. Check mle_retvals\n",
      "  warnings.warn(\"Maximum Likelihood optimization failed to \"\n"
     ]
    },
    {
     "name": "stdout",
     "output_type": "stream",
     "text": [
      "{'p': 0, 'd': 0, 'q': 3, 'trend': 'n'} MSE: 0.6882202018177928\n",
      "{'p': 0, 'd': 0, 'q': 2, 'trend': 'c'} MSE: 0.8328800274067931\n",
      "{'p': 0, 'd': 0, 'q': 1, 'trend': 'ct'} MSE: 2.557658328267214\n"
     ]
    },
    {
     "name": "stderr",
     "output_type": "stream",
     "text": [
      "/home/hashim/.local/lib/python3.10/site-packages/statsmodels/base/model.py:607: ConvergenceWarning: Maximum Likelihood optimization failed to converge. Check mle_retvals\n",
      "  warnings.warn(\"Maximum Likelihood optimization failed to \"\n"
     ]
    },
    {
     "name": "stdout",
     "output_type": "stream",
     "text": [
      "{'p': 0, 'd': 0, 'q': 2, 'trend': 't'} MSE: 4.044631002564485\n",
      "{'p': 0, 'd': 0, 'q': 3, 'trend': 'c'} MSE: 0.6882202012553116\n"
     ]
    },
    {
     "name": "stderr",
     "output_type": "stream",
     "text": [
      "/home/hashim/.local/lib/python3.10/site-packages/statsmodels/base/model.py:607: ConvergenceWarning: Maximum Likelihood optimization failed to converge. Check mle_retvals\n",
      "  warnings.warn(\"Maximum Likelihood optimization failed to \"\n"
     ]
    },
    {
     "name": "stdout",
     "output_type": "stream",
     "text": [
      "{'p': 0, 'd': 0, 'q': 2, 'trend': 'ct'} MSE: 4.042194021081524\n",
      "{'p': 0, 'd': 0, 'q': 4, 'trend': 'n'} MSE: 0.5955605049161075\n"
     ]
    },
    {
     "name": "stderr",
     "output_type": "stream",
     "text": [
      "/home/hashim/.local/lib/python3.10/site-packages/statsmodels/base/model.py:607: ConvergenceWarning: Maximum Likelihood optimization failed to converge. Check mle_retvals\n",
      "  warnings.warn(\"Maximum Likelihood optimization failed to \"\n",
      "/home/hashim/.local/lib/python3.10/site-packages/statsmodels/base/model.py:607: ConvergenceWarning: Maximum Likelihood optimization failed to converge. Check mle_retvals\n",
      "  warnings.warn(\"Maximum Likelihood optimization failed to \"\n"
     ]
    },
    {
     "name": "stdout",
     "output_type": "stream",
     "text": [
      "{'p': 0, 'd': 0, 'q': 3, 'trend': 't'} MSE: 1.054190984286624\n",
      "{'p': 0, 'd': 0, 'q': 3, 'trend': 'ct'} MSE: 1.0537768080994088\n",
      "{'p': 0, 'd': 0, 'q': 5, 'trend': 'n'} MSE: 0.5917430936410741\n",
      "{'p': 0, 'd': 0, 'q': 4, 'trend': 'c'} MSE: 0.5955605041401146\n",
      "{'p': 0, 'd': 1, 'q': 0, 'trend': 'n'} MSE: 0.6061322895832235\n",
      "{'p': 0, 'd': 1, 'q': 0, 'trend': 'c'} MSE: inf\n"
     ]
    },
    {
     "name": "stderr",
     "output_type": "stream",
     "text": [
      "/home/hashim/.local/lib/python3.10/site-packages/statsmodels/base/model.py:607: ConvergenceWarning: Maximum Likelihood optimization failed to converge. Check mle_retvals\n",
      "  warnings.warn(\"Maximum Likelihood optimization failed to \"\n"
     ]
    },
    {
     "name": "stdout",
     "output_type": "stream",
     "text": [
      "{'p': 0, 'd': 0, 'q': 4, 'trend': 't'} MSE: 0.6675551251980512\n",
      "{'p': 0, 'd': 1, 'q': 0, 'trend': 'ct'} MSE: inf\n",
      "{'p': 0, 'd': 1, 'q': 1, 'trend': 'n'} MSE: 0.6056597622658552\n",
      "{'p': 0, 'd': 1, 'q': 1, 'trend': 'c'} MSE: inf\n",
      "{'p': 0, 'd': 1, 'q': 0, 'trend': 't'} MSE: 0.6061322894237343\n",
      "{'p': 0, 'd': 1, 'q': 1, 'trend': 'ct'} MSE: inf\n"
     ]
    },
    {
     "name": "stderr",
     "output_type": "stream",
     "text": [
      "/home/hashim/.local/lib/python3.10/site-packages/statsmodels/base/model.py:607: ConvergenceWarning: Maximum Likelihood optimization failed to converge. Check mle_retvals\n",
      "  warnings.warn(\"Maximum Likelihood optimization failed to \"\n"
     ]
    },
    {
     "name": "stdout",
     "output_type": "stream",
     "text": [
      "{'p': 0, 'd': 1, 'q': 2, 'trend': 'n'} MSE: 0.6049675045044436\n",
      "{'p': 0, 'd': 1, 'q': 2, 'trend': 'c'} MSE: inf\n",
      "{'p': 0, 'd': 1, 'q': 1, 'trend': 't'} MSE: 0.6056597621031928\n",
      "{'p': 0, 'd': 1, 'q': 2, 'trend': 'ct'} MSE: inf\n",
      "{'p': 0, 'd': 0, 'q': 4, 'trend': 'ct'} MSE: 0.6675088215672091\n",
      "{'p': 0, 'd': 1, 'q': 3, 'trend': 'c'} MSE: inf\n",
      "{'p': 0, 'd': 1, 'q': 3, 'trend': 'n'} MSE: 0.6045334418469884\n",
      "{'p': 0, 'd': 1, 'q': 3, 'trend': 'ct'} MSE: inf\n",
      "{'p': 0, 'd': 1, 'q': 2, 'trend': 't'} MSE: 0.6049675043398997\n",
      "{'p': 0, 'd': 1, 'q': 4, 'trend': 'c'} MSE: inf\n",
      "{'p': 0, 'd': 1, 'q': 4, 'trend': 'n'} MSE: 0.6044350056200287\n",
      "{'p': 0, 'd': 1, 'q': 4, 'trend': 'ct'} MSE: inf\n",
      "{'p': 0, 'd': 1, 'q': 3, 'trend': 't'} MSE: 0.6045334416545293\n",
      "{'p': 0, 'd': 1, 'q': 5, 'trend': 'c'} MSE: inf\n",
      "{'p': 0, 'd': 0, 'q': 5, 'trend': 'c'} MSE: 0.591743092605416\n",
      "{'p': 0, 'd': 1, 'q': 5, 'trend': 'ct'} MSE: inf\n",
      "{'p': 0, 'd': 0, 'q': 5, 'trend': 't'} MSE: 1.1138948642966797\n",
      "{'p': 0, 'd': 2, 'q': 0, 'trend': 'c'} MSE: inf\n",
      "{'p': 0, 'd': 2, 'q': 0, 'trend': 't'} MSE: inf\n",
      "{'p': 0, 'd': 2, 'q': 0, 'trend': 'ct'} MSE: inf\n",
      "{'p': 0, 'd': 2, 'q': 0, 'trend': 'n'} MSE: 1.1772496563212003\n",
      "{'p': 0, 'd': 2, 'q': 1, 'trend': 'c'} MSE: inf\n",
      "{'p': 0, 'd': 2, 'q': 1, 'trend': 't'} MSE: inf\n",
      "{'p': 0, 'd': 2, 'q': 1, 'trend': 'ct'} MSE: inf\n"
     ]
    },
    {
     "name": "stderr",
     "output_type": "stream",
     "text": [
      "/home/hashim/.local/lib/python3.10/site-packages/statsmodels/base/model.py:607: ConvergenceWarning: Maximum Likelihood optimization failed to converge. Check mle_retvals\n",
      "  warnings.warn(\"Maximum Likelihood optimization failed to \"\n"
     ]
    },
    {
     "name": "stdout",
     "output_type": "stream",
     "text": [
      "{'p': 0, 'd': 1, 'q': 4, 'trend': 't'} MSE: 0.6044350054023809\n",
      "{'p': 0, 'd': 2, 'q': 2, 'trend': 'c'} MSE: inf\n",
      "{'p': 0, 'd': 2, 'q': 2, 'trend': 't'} MSE: inf\n",
      "{'p': 0, 'd': 2, 'q': 2, 'trend': 'ct'} MSE: inf\n",
      "{'p': 0, 'd': 0, 'q': 5, 'trend': 'ct'} MSE: 1.1130132256309058\n",
      "{'p': 0, 'd': 2, 'q': 3, 'trend': 'c'} MSE: inf\n",
      "{'p': 0, 'd': 2, 'q': 3, 'trend': 't'} MSE: inf\n",
      "{'p': 0, 'd': 2, 'q': 3, 'trend': 'ct'} MSE: inf\n",
      "{'p': 0, 'd': 2, 'q': 1, 'trend': 'n'} MSE: 0.6062266487177156\n",
      "{'p': 0, 'd': 2, 'q': 4, 'trend': 'c'} MSE: inf\n",
      "{'p': 0, 'd': 2, 'q': 4, 'trend': 't'} MSE: inf\n",
      "{'p': 0, 'd': 2, 'q': 4, 'trend': 'ct'} MSE: inf\n",
      "{'p': 0, 'd': 2, 'q': 2, 'trend': 'n'} MSE: 0.6057560130138098\n",
      "{'p': 0, 'd': 2, 'q': 5, 'trend': 'c'} MSE: inf\n",
      "{'p': 0, 'd': 2, 'q': 5, 'trend': 't'} MSE: inf\n",
      "{'p': 0, 'd': 2, 'q': 5, 'trend': 'ct'} MSE: inf\n"
     ]
    },
    {
     "name": "stderr",
     "output_type": "stream",
     "text": [
      "/home/hashim/.local/lib/python3.10/site-packages/statsmodels/tsa/statespace/sarimax.py:978: UserWarning: Non-invertible starting MA parameters found. Using zeros as starting parameters.\n",
      "  warn('Non-invertible starting MA parameters found.'\n"
     ]
    },
    {
     "name": "stdout",
     "output_type": "stream",
     "text": [
      "{'p': 0, 'd': 3, 'q': 0, 'trend': 'n'} MSE: 3.540416697348272\n",
      "{'p': 0, 'd': 3, 'q': 0, 'trend': 'c'} MSE: inf\n",
      "{'p': 0, 'd': 3, 'q': 0, 'trend': 't'} MSE: inf\n",
      "{'p': 0, 'd': 3, 'q': 0, 'trend': 'ct'} MSE: inf\n"
     ]
    },
    {
     "name": "stderr",
     "output_type": "stream",
     "text": [
      "/home/hashim/.local/lib/python3.10/site-packages/statsmodels/tsa/statespace/sarimax.py:978: UserWarning: Non-invertible starting MA parameters found. Using zeros as starting parameters.\n",
      "  warn('Non-invertible starting MA parameters found.'\n"
     ]
    },
    {
     "name": "stdout",
     "output_type": "stream",
     "text": [
      "{'p': 0, 'd': 1, 'q': 5, 'trend': 'n'} MSE: 0.5690274699210043\n",
      "{'p': 0, 'd': 3, 'q': 1, 'trend': 'c'} MSE: inf\n",
      "{'p': 0, 'd': 3, 'q': 1, 'trend': 't'} MSE: inf\n",
      "{'p': 0, 'd': 3, 'q': 1, 'trend': 'ct'} MSE: inf\n"
     ]
    },
    {
     "name": "stderr",
     "output_type": "stream",
     "text": [
      "/home/hashim/.local/lib/python3.10/site-packages/statsmodels/tsa/statespace/sarimax.py:978: UserWarning: Non-invertible starting MA parameters found. Using zeros as starting parameters.\n",
      "  warn('Non-invertible starting MA parameters found.'\n"
     ]
    },
    {
     "name": "stdout",
     "output_type": "stream",
     "text": [
      "{'p': 0, 'd': 2, 'q': 4, 'trend': 'n'} MSE: 0.657021180682495\n",
      "{'p': 0, 'd': 3, 'q': 2, 'trend': 'c'} MSE: inf\n",
      "{'p': 0, 'd': 3, 'q': 2, 'trend': 't'} MSE: inf\n",
      "{'p': 0, 'd': 3, 'q': 2, 'trend': 'ct'} MSE: inf\n",
      "{'p': 0, 'd': 3, 'q': 1, 'trend': 'n'} MSE: 1.177454854748573\n",
      "{'p': 0, 'd': 3, 'q': 3, 'trend': 'c'} MSE: inf\n",
      "{'p': 0, 'd': 3, 'q': 3, 'trend': 't'} MSE: inf\n",
      "{'p': 0, 'd': 3, 'q': 3, 'trend': 'ct'} MSE: inf\n"
     ]
    },
    {
     "name": "stderr",
     "output_type": "stream",
     "text": [
      "/home/hashim/.local/lib/python3.10/site-packages/statsmodels/tsa/statespace/sarimax.py:978: UserWarning: Non-invertible starting MA parameters found. Using zeros as starting parameters.\n",
      "  warn('Non-invertible starting MA parameters found.'\n"
     ]
    },
    {
     "name": "stdout",
     "output_type": "stream",
     "text": [
      "{'p': 0, 'd': 2, 'q': 5, 'trend': 'n'} MSE: 0.6133406714084775\n",
      "{'p': 0, 'd': 3, 'q': 4, 'trend': 'c'} MSE: inf\n",
      "{'p': 0, 'd': 3, 'q': 4, 'trend': 't'} MSE: inf\n",
      "{'p': 0, 'd': 3, 'q': 4, 'trend': 'ct'} MSE: inf\n",
      "{'p': 0, 'd': 3, 'q': 2, 'trend': 'n'} MSE: 0.6080251502599852\n",
      "{'p': 0, 'd': 3, 'q': 5, 'trend': 'c'} MSE: inf\n",
      "{'p': 0, 'd': 3, 'q': 5, 'trend': 't'} MSE: inf\n",
      "{'p': 0, 'd': 3, 'q': 5, 'trend': 'ct'} MSE: inf\n"
     ]
    },
    {
     "name": "stderr",
     "output_type": "stream",
     "text": [
      "/home/hashim/.local/lib/python3.10/site-packages/statsmodels/tsa/statespace/sarimax.py:978: UserWarning: Non-invertible starting MA parameters found. Using zeros as starting parameters.\n",
      "  warn('Non-invertible starting MA parameters found.'\n"
     ]
    },
    {
     "name": "stdout",
     "output_type": "stream",
     "text": [
      "{'p': 0, 'd': 3, 'q': 3, 'trend': 'n'} MSE: 0.7141703144648845\n",
      "{'p': 0, 'd': 4, 'q': 0, 'trend': 'c'} MSE: inf\n",
      "{'p': 0, 'd': 4, 'q': 0, 'trend': 't'} MSE: inf\n",
      "{'p': 0, 'd': 4, 'q': 0, 'trend': 'ct'} MSE: inf\n",
      "{'p': 0, 'd': 4, 'q': 0, 'trend': 'n'} MSE: 11.819533202167577\n",
      "{'p': 0, 'd': 4, 'q': 1, 'trend': 'c'} MSE: inf\n",
      "{'p': 0, 'd': 4, 'q': 1, 'trend': 't'} MSE: inf\n",
      "{'p': 0, 'd': 4, 'q': 1, 'trend': 'ct'} MSE: inf\n"
     ]
    },
    {
     "name": "stderr",
     "output_type": "stream",
     "text": [
      "/home/hashim/.local/lib/python3.10/site-packages/statsmodels/tsa/statespace/sarimax.py:978: UserWarning: Non-invertible starting MA parameters found. Using zeros as starting parameters.\n",
      "  warn('Non-invertible starting MA parameters found.'\n"
     ]
    },
    {
     "name": "stdout",
     "output_type": "stream",
     "text": [
      "{'p': 0, 'd': 4, 'q': 2, 'trend': 'n'} MSE: 1.3198188563335387\n",
      "{'p': 0, 'd': 4, 'q': 2, 'trend': 'c'} MSE: inf\n",
      "{'p': 0, 'd': 4, 'q': 2, 'trend': 't'} MSE: inf\n",
      "{'p': 0, 'd': 4, 'q': 2, 'trend': 'ct'} MSE: inf\n",
      "{'p': 0, 'd': 2, 'q': 3, 'trend': 'n'} MSE: 0.6050608790160605\n",
      "{'p': 0, 'd': 4, 'q': 3, 'trend': 'c'} MSE: inf\n",
      "{'p': 0, 'd': 4, 'q': 3, 'trend': 't'} MSE: inf\n",
      "{'p': 0, 'd': 4, 'q': 3, 'trend': 'ct'} MSE: inf\n"
     ]
    },
    {
     "name": "stderr",
     "output_type": "stream",
     "text": [
      "/home/hashim/.local/lib/python3.10/site-packages/statsmodels/tsa/statespace/sarimax.py:978: UserWarning: Non-invertible starting MA parameters found. Using zeros as starting parameters.\n",
      "  warn('Non-invertible starting MA parameters found.'\n"
     ]
    },
    {
     "name": "stdout",
     "output_type": "stream",
     "text": [
      "{'p': 0, 'd': 4, 'q': 1, 'trend': 'n'} MSE: 3.541002006913736\n",
      "{'p': 0, 'd': 4, 'q': 4, 'trend': 'c'} MSE: inf\n",
      "{'p': 0, 'd': 4, 'q': 4, 'trend': 't'} MSE: inf\n",
      "{'p': 0, 'd': 4, 'q': 4, 'trend': 'ct'} MSE: inf\n"
     ]
    },
    {
     "name": "stderr",
     "output_type": "stream",
     "text": [
      "/home/hashim/.local/lib/python3.10/site-packages/statsmodels/tsa/statespace/sarimax.py:978: UserWarning: Non-invertible starting MA parameters found. Using zeros as starting parameters.\n",
      "  warn('Non-invertible starting MA parameters found.'\n"
     ]
    },
    {
     "name": "stdout",
     "output_type": "stream",
     "text": [
      "{'p': 0, 'd': 3, 'q': 4, 'trend': 'n'} MSE: 0.6061456455327927\n",
      "{'p': 0, 'd': 4, 'q': 5, 'trend': 'c'} MSE: inf\n",
      "{'p': 0, 'd': 4, 'q': 5, 'trend': 't'} MSE: inf\n",
      "{'p': 0, 'd': 4, 'q': 5, 'trend': 'ct'} MSE: inf\n"
     ]
    },
    {
     "name": "stderr",
     "output_type": "stream",
     "text": [
      "/home/hashim/.local/lib/python3.10/site-packages/statsmodels/tsa/statespace/sarimax.py:978: UserWarning: Non-invertible starting MA parameters found. Using zeros as starting parameters.\n",
      "  warn('Non-invertible starting MA parameters found.'\n"
     ]
    },
    {
     "name": "stdout",
     "output_type": "stream",
     "text": [
      "{'p': 0, 'd': 5, 'q': 0, 'trend': 'n'} MSE: 41.400641202561616\n",
      "{'p': 0, 'd': 5, 'q': 0, 'trend': 'c'} MSE: inf\n",
      "{'p': 0, 'd': 5, 'q': 0, 'trend': 't'} MSE: inf\n",
      "{'p': 0, 'd': 5, 'q': 0, 'trend': 'ct'} MSE: inf\n"
     ]
    },
    {
     "name": "stderr",
     "output_type": "stream",
     "text": [
      "/home/hashim/.local/lib/python3.10/site-packages/statsmodels/tsa/statespace/sarimax.py:978: UserWarning: Non-invertible starting MA parameters found. Using zeros as starting parameters.\n",
      "  warn('Non-invertible starting MA parameters found.'\n"
     ]
    },
    {
     "name": "stdout",
     "output_type": "stream",
     "text": [
      "{'p': 0, 'd': 1, 'q': 5, 'trend': 't'} MSE: 0.5690274503428332\n",
      "{'p': 0, 'd': 5, 'q': 1, 'trend': 'c'} MSE: inf\n",
      "{'p': 0, 'd': 5, 'q': 1, 'trend': 't'} MSE: inf\n",
      "{'p': 0, 'd': 5, 'q': 1, 'trend': 'ct'} MSE: inf\n"
     ]
    },
    {
     "name": "stderr",
     "output_type": "stream",
     "text": [
      "/home/hashim/.local/lib/python3.10/site-packages/statsmodels/base/model.py:607: ConvergenceWarning: Maximum Likelihood optimization failed to converge. Check mle_retvals\n",
      "  warnings.warn(\"Maximum Likelihood optimization failed to \"\n",
      "/home/hashim/.local/lib/python3.10/site-packages/statsmodels/tsa/statespace/sarimax.py:978: UserWarning: Non-invertible starting MA parameters found. Using zeros as starting parameters.\n",
      "  warn('Non-invertible starting MA parameters found.'\n"
     ]
    },
    {
     "name": "stdout",
     "output_type": "stream",
     "text": [
      "{'p': 0, 'd': 4, 'q': 3, 'trend': 'n'} MSE: 0.7156645357314113\n",
      "{'p': 0, 'd': 5, 'q': 2, 'trend': 'c'} MSE: inf\n",
      "{'p': 0, 'd': 5, 'q': 2, 'trend': 't'} MSE: inf\n",
      "{'p': 0, 'd': 5, 'q': 2, 'trend': 'ct'} MSE: inf\n"
     ]
    },
    {
     "name": "stderr",
     "output_type": "stream",
     "text": [
      "/home/hashim/.local/lib/python3.10/site-packages/statsmodels/tsa/statespace/sarimax.py:978: UserWarning: Non-invertible starting MA parameters found. Using zeros as starting parameters.\n",
      "  warn('Non-invertible starting MA parameters found.'\n"
     ]
    },
    {
     "name": "stdout",
     "output_type": "stream",
     "text": [
      "{'p': 0, 'd': 3, 'q': 5, 'trend': 'n'} MSE: 0.6563321801016024\n",
      "{'p': 0, 'd': 5, 'q': 3, 'trend': 'c'} MSE: inf\n",
      "{'p': 0, 'd': 5, 'q': 3, 'trend': 't'} MSE: inf\n",
      "{'p': 0, 'd': 5, 'q': 3, 'trend': 'ct'} MSE: inf\n"
     ]
    },
    {
     "name": "stderr",
     "output_type": "stream",
     "text": [
      "/home/hashim/.local/lib/python3.10/site-packages/statsmodels/tsa/statespace/sarimax.py:978: UserWarning: Non-invertible starting MA parameters found. Using zeros as starting parameters.\n",
      "  warn('Non-invertible starting MA parameters found.'\n"
     ]
    },
    {
     "name": "stdout",
     "output_type": "stream",
     "text": [
      "{'p': 0, 'd': 5, 'q': 1, 'trend': 'n'} MSE: 11.822133589487235\n",
      "{'p': 0, 'd': 5, 'q': 4, 'trend': 'c'} MSE: inf\n",
      "{'p': 0, 'd': 5, 'q': 4, 'trend': 't'} MSE: inf\n",
      "{'p': 0, 'd': 5, 'q': 4, 'trend': 'ct'} MSE: inf\n",
      "{'p': 0, 'd': 5, 'q': 2, 'trend': 'n'} MSE: 3.54517900985319\n",
      "{'p': 0, 'd': 5, 'q': 5, 'trend': 'c'} MSE: inf\n",
      "{'p': 0, 'd': 5, 'q': 5, 'trend': 't'} MSE: inf\n",
      "{'p': 0, 'd': 5, 'q': 5, 'trend': 'ct'} MSE: inf\n",
      "{'p': 1, 'd': 0, 'q': 0, 'trend': 'n'} MSE: 0.5723604875302764\n",
      "{'p': 1, 'd': 0, 'q': 0, 'trend': 'c'} MSE: 0.5723604875168598\n",
      "{'p': 0, 'd': 4, 'q': 4, 'trend': 'n'} MSE: 0.7145412928844317\n"
     ]
    },
    {
     "name": "stderr",
     "output_type": "stream",
     "text": [
      "/home/hashim/.local/lib/python3.10/site-packages/statsmodels/base/model.py:607: ConvergenceWarning: Maximum Likelihood optimization failed to converge. Check mle_retvals\n",
      "  warnings.warn(\"Maximum Likelihood optimization failed to \"\n"
     ]
    },
    {
     "name": "stdout",
     "output_type": "stream",
     "text": [
      "{'p': 0, 'd': 4, 'q': 5, 'trend': 'n'} MSE: 0.7129223015797959\n",
      "{'p': 1, 'd': 0, 'q': 0, 'trend': 'ct'} MSE: 0.5723537952069611\n",
      "{'p': 1, 'd': 0, 'q': 0, 'trend': 't'} MSE: 0.572358515854966\n",
      "{'p': 1, 'd': 0, 'q': 1, 'trend': 'n'} MSE: 0.5686029548004741\n"
     ]
    },
    {
     "name": "stderr",
     "output_type": "stream",
     "text": [
      "/home/hashim/.local/lib/python3.10/site-packages/statsmodels/base/model.py:607: ConvergenceWarning: Maximum Likelihood optimization failed to converge. Check mle_retvals\n",
      "  warnings.warn(\"Maximum Likelihood optimization failed to \"\n"
     ]
    },
    {
     "name": "stdout",
     "output_type": "stream",
     "text": [
      "{'p': 1, 'd': 0, 'q': 1, 'trend': 't'} MSE: 0.5686187559919528\n",
      "{'p': 1, 'd': 0, 'q': 1, 'trend': 'c'} MSE: 0.5686029512342936\n",
      "{'p': 1, 'd': 0, 'q': 2, 'trend': 'n'} MSE: 0.5644942271970504\n",
      "{'p': 1, 'd': 0, 'q': 1, 'trend': 'ct'} MSE: 0.568613259213525\n"
     ]
    },
    {
     "name": "stderr",
     "output_type": "stream",
     "text": [
      "/home/hashim/.local/lib/python3.10/site-packages/statsmodels/base/model.py:607: ConvergenceWarning: Maximum Likelihood optimization failed to converge. Check mle_retvals\n",
      "  warnings.warn(\"Maximum Likelihood optimization failed to \"\n"
     ]
    },
    {
     "name": "stdout",
     "output_type": "stream",
     "text": [
      "{'p': 0, 'd': 5, 'q': 3, 'trend': 'n'} MSE: 1.320854528390865\n",
      "{'p': 1, 'd': 0, 'q': 2, 'trend': 'c'} MSE: 0.564494224218252\n",
      "{'p': 1, 'd': 0, 'q': 3, 'trend': 'n'} MSE: 0.5609763269809545\n"
     ]
    },
    {
     "name": "stderr",
     "output_type": "stream",
     "text": [
      "/home/hashim/.local/lib/python3.10/site-packages/statsmodels/base/model.py:607: ConvergenceWarning: Maximum Likelihood optimization failed to converge. Check mle_retvals\n",
      "  warnings.warn(\"Maximum Likelihood optimization failed to \"\n"
     ]
    },
    {
     "name": "stdout",
     "output_type": "stream",
     "text": [
      "{'p': 1, 'd': 0, 'q': 2, 'trend': 't'} MSE: 0.5647527517946046\n"
     ]
    },
    {
     "name": "stderr",
     "output_type": "stream",
     "text": [
      "/home/hashim/.local/lib/python3.10/site-packages/statsmodels/base/model.py:607: ConvergenceWarning: Maximum Likelihood optimization failed to converge. Check mle_retvals\n",
      "  warnings.warn(\"Maximum Likelihood optimization failed to \"\n"
     ]
    },
    {
     "name": "stdout",
     "output_type": "stream",
     "text": [
      "{'p': 0, 'd': 5, 'q': 4, 'trend': 'n'} MSE: 0.7487940823321508\n"
     ]
    },
    {
     "name": "stderr",
     "output_type": "stream",
     "text": [
      "/home/hashim/.local/lib/python3.10/site-packages/statsmodels/base/model.py:607: ConvergenceWarning: Maximum Likelihood optimization failed to converge. Check mle_retvals\n",
      "  warnings.warn(\"Maximum Likelihood optimization failed to \"\n"
     ]
    },
    {
     "name": "stdout",
     "output_type": "stream",
     "text": [
      "{'p': 1, 'd': 0, 'q': 2, 'trend': 'ct'} MSE: 0.5647468526620556\n",
      "{'p': 1, 'd': 0, 'q': 3, 'trend': 'c'} MSE: 0.5609763229372949\n",
      "{'p': 1, 'd': 0, 'q': 3, 'trend': 't'} MSE: 0.5774639791280131\n",
      "{'p': 1, 'd': 0, 'q': 4, 'trend': 'n'} MSE: 0.5603469519380561\n"
     ]
    },
    {
     "name": "stderr",
     "output_type": "stream",
     "text": [
      "/home/hashim/.local/lib/python3.10/site-packages/statsmodels/base/model.py:607: ConvergenceWarning: Maximum Likelihood optimization failed to converge. Check mle_retvals\n",
      "  warnings.warn(\"Maximum Likelihood optimization failed to \"\n"
     ]
    },
    {
     "name": "stdout",
     "output_type": "stream",
     "text": [
      "{'p': 0, 'd': 5, 'q': 5, 'trend': 'n'} MSE: 0.7553855451311002\n",
      "{'p': 1, 'd': 0, 'q': 3, 'trend': 'ct'} MSE: 0.5774789634405789\n",
      "{'p': 1, 'd': 0, 'q': 4, 'trend': 'c'} MSE: 0.5603469478368804\n",
      "{'p': 1, 'd': 0, 'q': 4, 'trend': 't'} MSE: 0.578967970954067\n",
      "{'p': 1, 'd': 1, 'q': 0, 'trend': 'n'} MSE: 0.6056268906685134\n",
      "{'p': 1, 'd': 1, 'q': 0, 'trend': 'c'} MSE: inf\n"
     ]
    },
    {
     "name": "stderr",
     "output_type": "stream",
     "text": [
      "/home/hashim/.local/lib/python3.10/site-packages/statsmodels/tsa/statespace/sarimax.py:966: UserWarning: Non-stationary starting autoregressive parameters found. Using zeros as starting parameters.\n",
      "  warn('Non-stationary starting autoregressive parameters'\n",
      "/home/hashim/.local/lib/python3.10/site-packages/statsmodels/tsa/statespace/sarimax.py:978: UserWarning: Non-invertible starting MA parameters found. Using zeros as starting parameters.\n",
      "  warn('Non-invertible starting MA parameters found.'\n"
     ]
    },
    {
     "name": "stdout",
     "output_type": "stream",
     "text": [
      "{'p': 1, 'd': 0, 'q': 5, 'trend': 'n'} MSE: 0.5578839744261793\n",
      "{'p': 1, 'd': 1, 'q': 0, 'trend': 'ct'} MSE: inf\n"
     ]
    },
    {
     "name": "stderr",
     "output_type": "stream",
     "text": [
      "/home/hashim/.local/lib/python3.10/site-packages/statsmodels/tsa/statespace/sarimax.py:966: UserWarning: Non-stationary starting autoregressive parameters found. Using zeros as starting parameters.\n",
      "  warn('Non-stationary starting autoregressive parameters'\n"
     ]
    },
    {
     "name": "stdout",
     "output_type": "stream",
     "text": [
      "{'p': 1, 'd': 1, 'q': 0, 'trend': 't'} MSE: 0.6056268905602636\n",
      "{'p': 1, 'd': 1, 'q': 1, 'trend': 'c'} MSE: inf\n"
     ]
    },
    {
     "name": "stderr",
     "output_type": "stream",
     "text": [
      "/home/hashim/.local/lib/python3.10/site-packages/statsmodels/tsa/statespace/sarimax.py:978: UserWarning: Non-invertible starting MA parameters found. Using zeros as starting parameters.\n",
      "  warn('Non-invertible starting MA parameters found.'\n"
     ]
    },
    {
     "name": "stdout",
     "output_type": "stream",
     "text": [
      "{'p': 1, 'd': 0, 'q': 4, 'trend': 'ct'} MSE: 0.5790011044110726\n",
      "{'p': 1, 'd': 1, 'q': 1, 'trend': 'ct'} MSE: inf\n",
      "{'p': 1, 'd': 1, 'q': 1, 'trend': 'n'} MSE: 0.6042807091032514\n",
      "{'p': 1, 'd': 1, 'q': 2, 'trend': 'c'} MSE: inf\n",
      "{'p': 1, 'd': 0, 'q': 5, 'trend': 't'} MSE: 0.5664526270691757\n",
      "{'p': 1, 'd': 1, 'q': 2, 'trend': 'ct'} MSE: inf\n",
      "{'p': 1, 'd': 1, 'q': 2, 'trend': 'n'} MSE: 0.5634331097472395\n",
      "{'p': 1, 'd': 1, 'q': 3, 'trend': 'c'} MSE: inf\n",
      "{'p': 1, 'd': 1, 'q': 1, 'trend': 't'} MSE: 0.6042807088784846\n",
      "{'p': 1, 'd': 1, 'q': 3, 'trend': 'ct'} MSE: inf\n",
      "{'p': 1, 'd': 0, 'q': 5, 'trend': 'ct'} MSE: 0.5664554043645315\n",
      "{'p': 1, 'd': 1, 'q': 4, 'trend': 'c'} MSE: inf\n",
      "{'p': 1, 'd': 0, 'q': 5, 'trend': 'c'} MSE: 0.5578839690406535\n",
      "{'p': 1, 'd': 1, 'q': 4, 'trend': 'ct'} MSE: inf\n",
      "{'p': 1, 'd': 1, 'q': 3, 'trend': 'n'} MSE: 0.6030801114252342\n",
      "{'p': 1, 'd': 1, 'q': 5, 'trend': 'c'} MSE: inf\n",
      "{'p': 1, 'd': 1, 'q': 4, 'trend': 'n'} MSE: 0.5818615264625836\n",
      "{'p': 1, 'd': 1, 'q': 5, 'trend': 'ct'} MSE: inf\n",
      "{'p': 1, 'd': 2, 'q': 0, 'trend': 'n'} MSE: 0.8785805693715955\n",
      "{'p': 1, 'd': 2, 'q': 0, 'trend': 'c'} MSE: inf\n",
      "{'p': 1, 'd': 2, 'q': 0, 'trend': 't'} MSE: inf\n",
      "{'p': 1, 'd': 2, 'q': 0, 'trend': 'ct'} MSE: inf\n",
      "{'p': 1, 'd': 1, 'q': 3, 'trend': 't'} MSE: 0.6030801110702104\n",
      "{'p': 1, 'd': 2, 'q': 1, 'trend': 'c'} MSE: inf\n",
      "{'p': 1, 'd': 2, 'q': 1, 'trend': 't'} MSE: inf\n",
      "{'p': 1, 'd': 2, 'q': 1, 'trend': 'ct'} MSE: inf\n",
      "{'p': 1, 'd': 1, 'q': 2, 'trend': 't'} MSE: 0.563433083120383\n",
      "{'p': 1, 'd': 2, 'q': 2, 'trend': 'c'} MSE: inf\n",
      "{'p': 1, 'd': 2, 'q': 2, 'trend': 't'} MSE: inf\n",
      "{'p': 1, 'd': 2, 'q': 2, 'trend': 'ct'} MSE: inf\n",
      "{'p': 1, 'd': 2, 'q': 1, 'trend': 'n'} MSE: 0.6057235864056242\n",
      "{'p': 1, 'd': 2, 'q': 3, 'trend': 'c'} MSE: inf\n",
      "{'p': 1, 'd': 2, 'q': 3, 'trend': 't'} MSE: inf\n",
      "{'p': 1, 'd': 2, 'q': 3, 'trend': 'ct'} MSE: inf\n",
      "{'p': 1, 'd': 1, 'q': 5, 'trend': 'n'} MSE: 0.5533723540446432\n",
      "{'p': 1, 'd': 2, 'q': 4, 'trend': 'c'} MSE: inf\n",
      "{'p': 1, 'd': 2, 'q': 4, 'trend': 't'} MSE: inf\n",
      "{'p': 1, 'd': 2, 'q': 4, 'trend': 'ct'} MSE: inf\n",
      "{'p': 1, 'd': 2, 'q': 2, 'trend': 'n'} MSE: 0.6045810077900882\n",
      "{'p': 1, 'd': 2, 'q': 5, 'trend': 'c'} MSE: inf\n",
      "{'p': 1, 'd': 2, 'q': 5, 'trend': 't'} MSE: inf\n",
      "{'p': 1, 'd': 2, 'q': 5, 'trend': 'ct'} MSE: inf\n",
      "{'p': 1, 'd': 3, 'q': 0, 'trend': 'n'} MSE: 1.9546650642993646\n",
      "{'p': 1, 'd': 3, 'q': 0, 'trend': 'c'} MSE: inf\n",
      "{'p': 1, 'd': 3, 'q': 0, 'trend': 't'} MSE: inf\n",
      "{'p': 1, 'd': 3, 'q': 0, 'trend': 'ct'} MSE: inf\n"
     ]
    },
    {
     "name": "stderr",
     "output_type": "stream",
     "text": [
      "/home/hashim/.local/lib/python3.10/site-packages/statsmodels/tsa/statespace/sarimax.py:978: UserWarning: Non-invertible starting MA parameters found. Using zeros as starting parameters.\n",
      "  warn('Non-invertible starting MA parameters found.'\n"
     ]
    },
    {
     "name": "stdout",
     "output_type": "stream",
     "text": [
      "{'p': 1, 'd': 1, 'q': 4, 'trend': 't'} MSE: 0.5818615253395283\n",
      "{'p': 1, 'd': 3, 'q': 1, 'trend': 'c'} MSE: inf\n",
      "{'p': 1, 'd': 3, 'q': 1, 'trend': 't'} MSE: inf\n",
      "{'p': 1, 'd': 3, 'q': 1, 'trend': 'ct'} MSE: inf\n"
     ]
    },
    {
     "name": "stderr",
     "output_type": "stream",
     "text": [
      "/home/hashim/.local/lib/python3.10/site-packages/statsmodels/tsa/statespace/sarimax.py:978: UserWarning: Non-invertible starting MA parameters found. Using zeros as starting parameters.\n",
      "  warn('Non-invertible starting MA parameters found.'\n"
     ]
    },
    {
     "name": "stdout",
     "output_type": "stream",
     "text": [
      "{'p': 1, 'd': 3, 'q': 1, 'trend': 'n'} MSE: 0.8787305356911979\n",
      "{'p': 1, 'd': 3, 'q': 2, 'trend': 'c'} MSE: inf\n",
      "{'p': 1, 'd': 3, 'q': 2, 'trend': 't'} MSE: inf\n",
      "{'p': 1, 'd': 3, 'q': 2, 'trend': 'ct'} MSE: inf\n",
      "{'p': 1, 'd': 2, 'q': 5, 'trend': 'n'} MSE: 0.653301146274364\n",
      "{'p': 1, 'd': 3, 'q': 3, 'trend': 'c'} MSE: inf\n",
      "{'p': 1, 'd': 3, 'q': 3, 'trend': 't'} MSE: inf\n",
      "{'p': 1, 'd': 3, 'q': 3, 'trend': 'ct'} MSE: inf\n",
      "{'p': 1, 'd': 2, 'q': 3, 'trend': 'n'} MSE: 0.5984977764301821\n",
      "{'p': 1, 'd': 3, 'q': 4, 'trend': 'c'} MSE: inf\n",
      "{'p': 1, 'd': 3, 'q': 4, 'trend': 't'} MSE: inf\n",
      "{'p': 1, 'd': 3, 'q': 4, 'trend': 'ct'} MSE: inf\n"
     ]
    },
    {
     "name": "stderr",
     "output_type": "stream",
     "text": [
      "/home/hashim/.local/lib/python3.10/site-packages/statsmodels/base/model.py:607: ConvergenceWarning: Maximum Likelihood optimization failed to converge. Check mle_retvals\n",
      "  warnings.warn(\"Maximum Likelihood optimization failed to \"\n"
     ]
    },
    {
     "name": "stdout",
     "output_type": "stream",
     "text": [
      "{'p': 1, 'd': 2, 'q': 4, 'trend': 'n'} MSE: 0.6024505240733479\n",
      "{'p': 1, 'd': 3, 'q': 5, 'trend': 'c'} MSE: inf\n",
      "{'p': 1, 'd': 3, 'q': 5, 'trend': 't'} MSE: inf\n",
      "{'p': 1, 'd': 3, 'q': 5, 'trend': 'ct'} MSE: inf\n"
     ]
    },
    {
     "name": "stderr",
     "output_type": "stream",
     "text": [
      "/home/hashim/.local/lib/python3.10/site-packages/statsmodels/tsa/statespace/sarimax.py:978: UserWarning: Non-invertible starting MA parameters found. Using zeros as starting parameters.\n",
      "  warn('Non-invertible starting MA parameters found.'\n"
     ]
    },
    {
     "name": "stdout",
     "output_type": "stream",
     "text": [
      "{'p': 1, 'd': 4, 'q': 0, 'trend': 'n'} MSE: 5.145783255984257\n",
      "{'p': 1, 'd': 4, 'q': 0, 'trend': 'c'} MSE: inf\n",
      "{'p': 1, 'd': 4, 'q': 0, 'trend': 't'} MSE: inf\n",
      "{'p': 1, 'd': 4, 'q': 0, 'trend': 'ct'} MSE: inf\n"
     ]
    },
    {
     "name": "stderr",
     "output_type": "stream",
     "text": [
      "/home/hashim/.local/lib/python3.10/site-packages/statsmodels/tsa/statespace/sarimax.py:978: UserWarning: Non-invertible starting MA parameters found. Using zeros as starting parameters.\n",
      "  warn('Non-invertible starting MA parameters found.'\n"
     ]
    },
    {
     "name": "stdout",
     "output_type": "stream",
     "text": [
      "{'p': 1, 'd': 3, 'q': 4, 'trend': 'n'} MSE: 0.6000357960644561\n",
      "{'p': 1, 'd': 4, 'q': 1, 'trend': 'c'} MSE: inf\n",
      "{'p': 1, 'd': 4, 'q': 1, 'trend': 't'} MSE: inf\n",
      "{'p': 1, 'd': 4, 'q': 1, 'trend': 'ct'} MSE: inf\n"
     ]
    },
    {
     "name": "stderr",
     "output_type": "stream",
     "text": [
      "/home/hashim/.local/lib/python3.10/site-packages/statsmodels/tsa/statespace/sarimax.py:978: UserWarning: Non-invertible starting MA parameters found. Using zeros as starting parameters.\n",
      "  warn('Non-invertible starting MA parameters found.'\n"
     ]
    },
    {
     "name": "stdout",
     "output_type": "stream",
     "text": [
      "{'p': 1, 'd': 3, 'q': 2, 'trend': 'n'} MSE: 0.6062859259947259\n",
      "{'p': 1, 'd': 4, 'q': 2, 'trend': 'c'} MSE: inf\n",
      "{'p': 1, 'd': 4, 'q': 2, 'trend': 't'} MSE: inf\n",
      "{'p': 1, 'd': 4, 'q': 2, 'trend': 'ct'} MSE: inf\n"
     ]
    },
    {
     "name": "stderr",
     "output_type": "stream",
     "text": [
      "/home/hashim/.local/lib/python3.10/site-packages/statsmodels/base/model.py:607: ConvergenceWarning: Maximum Likelihood optimization failed to converge. Check mle_retvals\n",
      "  warnings.warn(\"Maximum Likelihood optimization failed to \"\n",
      "/home/hashim/.local/lib/python3.10/site-packages/statsmodels/tsa/statespace/sarimax.py:978: UserWarning: Non-invertible starting MA parameters found. Using zeros as starting parameters.\n",
      "  warn('Non-invertible starting MA parameters found.'\n"
     ]
    },
    {
     "name": "stdout",
     "output_type": "stream",
     "text": [
      "{'p': 1, 'd': 4, 'q': 1, 'trend': 'n'} MSE: 1.9550094236072622\n",
      "{'p': 1, 'd': 4, 'q': 3, 'trend': 'c'} MSE: inf\n",
      "{'p': 1, 'd': 4, 'q': 3, 'trend': 't'} MSE: inf\n",
      "{'p': 1, 'd': 4, 'q': 3, 'trend': 'ct'} MSE: inf\n",
      "{'p': 1, 'd': 1, 'q': 5, 'trend': 't'} MSE: 0.5560866377288821\n",
      "{'p': 1, 'd': 4, 'q': 4, 'trend': 'c'} MSE: inf\n"
     ]
    },
    {
     "name": "stderr",
     "output_type": "stream",
     "text": [
      "/home/hashim/.local/lib/python3.10/site-packages/statsmodels/tsa/statespace/sarimax.py:978: UserWarning: Non-invertible starting MA parameters found. Using zeros as starting parameters.\n",
      "  warn('Non-invertible starting MA parameters found.'\n"
     ]
    },
    {
     "name": "stdout",
     "output_type": "stream",
     "text": [
      "{'p': 1, 'd': 4, 'q': 4, 'trend': 't'} MSE: inf\n",
      "{'p': 1, 'd': 4, 'q': 4, 'trend': 'ct'} MSE: inf\n",
      "{'p': 1, 'd': 3, 'q': 5, 'trend': 'n'} MSE: 0.6116614160612972\n",
      "{'p': 1, 'd': 4, 'q': 5, 'trend': 'c'} MSE: inf\n",
      "{'p': 1, 'd': 4, 'q': 5, 'trend': 't'} MSE: inf\n",
      "{'p': 1, 'd': 4, 'q': 5, 'trend': 'ct'} MSE: inf\n"
     ]
    },
    {
     "name": "stderr",
     "output_type": "stream",
     "text": [
      "/home/hashim/.local/lib/python3.10/site-packages/statsmodels/tsa/statespace/sarimax.py:978: UserWarning: Non-invertible starting MA parameters found. Using zeros as starting parameters.\n",
      "  warn('Non-invertible starting MA parameters found.'\n"
     ]
    },
    {
     "name": "stdout",
     "output_type": "stream",
     "text": [
      "{'p': 1, 'd': 4, 'q': 2, 'trend': 'n'} MSE: 0.8804561723989571\n",
      "{'p': 1, 'd': 5, 'q': 0, 'trend': 'c'} MSE: inf\n",
      "{'p': 1, 'd': 5, 'q': 0, 'trend': 't'} MSE: inf\n",
      "{'p': 1, 'd': 5, 'q': 0, 'trend': 'ct'} MSE: inf\n"
     ]
    },
    {
     "name": "stderr",
     "output_type": "stream",
     "text": [
      "/home/hashim/.local/lib/python3.10/site-packages/statsmodels/tsa/statespace/sarimax.py:978: UserWarning: Non-invertible starting MA parameters found. Using zeros as starting parameters.\n",
      "  warn('Non-invertible starting MA parameters found.'\n"
     ]
    },
    {
     "name": "stdout",
     "output_type": "stream",
     "text": [
      "{'p': 1, 'd': 5, 'q': 0, 'trend': 'n'} MSE: 14.84424035386238\n",
      "{'p': 1, 'd': 5, 'q': 1, 'trend': 'c'} MSE: inf\n",
      "{'p': 1, 'd': 5, 'q': 1, 'trend': 't'} MSE: inf\n",
      "{'p': 1, 'd': 5, 'q': 1, 'trend': 'ct'} MSE: inf\n"
     ]
    },
    {
     "name": "stderr",
     "output_type": "stream",
     "text": [
      "/home/hashim/.local/lib/python3.10/site-packages/statsmodels/base/model.py:607: ConvergenceWarning: Maximum Likelihood optimization failed to converge. Check mle_retvals\n",
      "  warnings.warn(\"Maximum Likelihood optimization failed to \"\n",
      "/home/hashim/.local/lib/python3.10/site-packages/statsmodels/tsa/statespace/sarimax.py:978: UserWarning: Non-invertible starting MA parameters found. Using zeros as starting parameters.\n",
      "  warn('Non-invertible starting MA parameters found.'\n"
     ]
    },
    {
     "name": "stdout",
     "output_type": "stream",
     "text": [
      "{'p': 1, 'd': 3, 'q': 3, 'trend': 'n'} MSE: 0.6008257041051062\n",
      "{'p': 1, 'd': 5, 'q': 2, 'trend': 'c'} MSE: inf\n",
      "{'p': 1, 'd': 5, 'q': 2, 'trend': 't'} MSE: inf\n",
      "{'p': 1, 'd': 5, 'q': 2, 'trend': 'ct'} MSE: inf\n"
     ]
    },
    {
     "name": "stderr",
     "output_type": "stream",
     "text": [
      "/home/hashim/.local/lib/python3.10/site-packages/statsmodels/tsa/statespace/sarimax.py:978: UserWarning: Non-invertible starting MA parameters found. Using zeros as starting parameters.\n",
      "  warn('Non-invertible starting MA parameters found.'\n"
     ]
    },
    {
     "name": "stdout",
     "output_type": "stream",
     "text": [
      "{'p': 1, 'd': 5, 'q': 1, 'trend': 'n'} MSE: 5.146827271787393\n",
      "{'p': 1, 'd': 5, 'q': 3, 'trend': 'c'} MSE: inf\n",
      "{'p': 1, 'd': 5, 'q': 3, 'trend': 't'} MSE: inf\n",
      "{'p': 1, 'd': 5, 'q': 3, 'trend': 'ct'} MSE: inf\n"
     ]
    },
    {
     "name": "stderr",
     "output_type": "stream",
     "text": [
      "/home/hashim/.local/lib/python3.10/site-packages/statsmodels/base/model.py:607: ConvergenceWarning: Maximum Likelihood optimization failed to converge. Check mle_retvals\n",
      "  warnings.warn(\"Maximum Likelihood optimization failed to \"\n",
      "/home/hashim/.local/lib/python3.10/site-packages/statsmodels/tsa/statespace/sarimax.py:978: UserWarning: Non-invertible starting MA parameters found. Using zeros as starting parameters.\n",
      "  warn('Non-invertible starting MA parameters found.'\n"
     ]
    },
    {
     "name": "stdout",
     "output_type": "stream",
     "text": [
      "{'p': 1, 'd': 4, 'q': 3, 'trend': 'n'} MSE: 1.2900242305298373\n",
      "{'p': 1, 'd': 5, 'q': 4, 'trend': 'c'} MSE: inf\n",
      "{'p': 1, 'd': 5, 'q': 4, 'trend': 't'} MSE: inf\n",
      "{'p': 1, 'd': 5, 'q': 4, 'trend': 'ct'} MSE: inf\n",
      "{'p': 1, 'd': 5, 'q': 2, 'trend': 'n'} MSE: 1.9575855164251634\n",
      "{'p': 1, 'd': 5, 'q': 5, 'trend': 'c'} MSE: inf\n",
      "{'p': 1, 'd': 5, 'q': 5, 'trend': 't'} MSE: inf\n",
      "{'p': 1, 'd': 5, 'q': 5, 'trend': 'ct'} MSE: inf\n",
      "{'p': 2, 'd': 0, 'q': 0, 'trend': 'n'} MSE: 0.5677669992539172\n",
      "{'p': 2, 'd': 0, 'q': 0, 'trend': 'c'} MSE: 0.5677669992140686\n"
     ]
    },
    {
     "name": "stderr",
     "output_type": "stream",
     "text": [
      "/home/hashim/.local/lib/python3.10/site-packages/statsmodels/base/model.py:607: ConvergenceWarning: Maximum Likelihood optimization failed to converge. Check mle_retvals\n",
      "  warnings.warn(\"Maximum Likelihood optimization failed to \"\n",
      "/home/hashim/.local/lib/python3.10/site-packages/statsmodels/base/model.py:607: ConvergenceWarning: Maximum Likelihood optimization failed to converge. Check mle_retvals\n",
      "  warnings.warn(\"Maximum Likelihood optimization failed to \"\n"
     ]
    },
    {
     "name": "stdout",
     "output_type": "stream",
     "text": [
      "{'p': 1, 'd': 4, 'q': 5, 'trend': 'n'} MSE: 0.7063913690442982\n"
     ]
    },
    {
     "name": "stderr",
     "output_type": "stream",
     "text": [
      "/home/hashim/.local/lib/python3.10/site-packages/statsmodels/tsa/statespace/sarimax.py:966: UserWarning: Non-stationary starting autoregressive parameters found. Using zeros as starting parameters.\n",
      "  warn('Non-stationary starting autoregressive parameters'\n",
      "/home/hashim/.local/lib/python3.10/site-packages/statsmodels/tsa/statespace/sarimax.py:978: UserWarning: Non-invertible starting MA parameters found. Using zeros as starting parameters.\n",
      "  warn('Non-invertible starting MA parameters found.'\n"
     ]
    },
    {
     "name": "stdout",
     "output_type": "stream",
     "text": [
      "{'p': 1, 'd': 4, 'q': 4, 'trend': 'n'} MSE: 0.7083668896267346\n"
     ]
    },
    {
     "name": "stderr",
     "output_type": "stream",
     "text": [
      "/home/hashim/.local/lib/python3.10/site-packages/statsmodels/tsa/statespace/sarimax.py:966: UserWarning: Non-stationary starting autoregressive parameters found. Using zeros as starting parameters.\n",
      "  warn('Non-stationary starting autoregressive parameters'\n",
      "/home/hashim/.local/lib/python3.10/site-packages/statsmodels/tsa/statespace/sarimax.py:978: UserWarning: Non-invertible starting MA parameters found. Using zeros as starting parameters.\n",
      "  warn('Non-invertible starting MA parameters found.'\n"
     ]
    },
    {
     "name": "stdout",
     "output_type": "stream",
     "text": [
      "{'p': 2, 'd': 0, 'q': 0, 'trend': 't'} MSE: 0.5677646716892328\n"
     ]
    },
    {
     "name": "stderr",
     "output_type": "stream",
     "text": [
      "/home/hashim/.local/lib/python3.10/site-packages/statsmodels/tsa/statespace/sarimax.py:966: UserWarning: Non-stationary starting autoregressive parameters found. Using zeros as starting parameters.\n",
      "  warn('Non-stationary starting autoregressive parameters'\n",
      "/home/hashim/.local/lib/python3.10/site-packages/statsmodels/tsa/statespace/sarimax.py:978: UserWarning: Non-invertible starting MA parameters found. Using zeros as starting parameters.\n",
      "  warn('Non-invertible starting MA parameters found.'\n"
     ]
    },
    {
     "name": "stdout",
     "output_type": "stream",
     "text": [
      "{'p': 2, 'd': 0, 'q': 1, 'trend': 'n'} MSE: 0.536218952494941\n"
     ]
    },
    {
     "name": "stderr",
     "output_type": "stream",
     "text": [
      "/home/hashim/.local/lib/python3.10/site-packages/statsmodels/base/model.py:607: ConvergenceWarning: Maximum Likelihood optimization failed to converge. Check mle_retvals\n",
      "  warnings.warn(\"Maximum Likelihood optimization failed to \"\n",
      "/home/hashim/.local/lib/python3.10/site-packages/statsmodels/tsa/statespace/sarimax.py:966: UserWarning: Non-stationary starting autoregressive parameters found. Using zeros as starting parameters.\n",
      "  warn('Non-stationary starting autoregressive parameters'\n",
      "/home/hashim/.local/lib/python3.10/site-packages/statsmodels/tsa/statespace/sarimax.py:978: UserWarning: Non-invertible starting MA parameters found. Using zeros as starting parameters.\n",
      "  warn('Non-invertible starting MA parameters found.'\n"
     ]
    },
    {
     "name": "stdout",
     "output_type": "stream",
     "text": [
      "{'p': 2, 'd': 0, 'q': 0, 'trend': 'ct'} MSE: 0.5677588780988105\n"
     ]
    },
    {
     "name": "stderr",
     "output_type": "stream",
     "text": [
      "/home/hashim/.local/lib/python3.10/site-packages/statsmodels/base/model.py:607: ConvergenceWarning: Maximum Likelihood optimization failed to converge. Check mle_retvals\n",
      "  warnings.warn(\"Maximum Likelihood optimization failed to \"\n",
      "/home/hashim/.local/lib/python3.10/site-packages/statsmodels/tsa/statespace/sarimax.py:966: UserWarning: Non-stationary starting autoregressive parameters found. Using zeros as starting parameters.\n",
      "  warn('Non-stationary starting autoregressive parameters'\n",
      "/home/hashim/.local/lib/python3.10/site-packages/statsmodels/tsa/statespace/sarimax.py:978: UserWarning: Non-invertible starting MA parameters found. Using zeros as starting parameters.\n",
      "  warn('Non-invertible starting MA parameters found.'\n"
     ]
    },
    {
     "name": "stdout",
     "output_type": "stream",
     "text": [
      "{'p': 2, 'd': 0, 'q': 1, 'trend': 't'} MSE: 2.7194209364894957\n"
     ]
    },
    {
     "name": "stderr",
     "output_type": "stream",
     "text": [
      "/home/hashim/.local/lib/python3.10/site-packages/statsmodels/tsa/statespace/sarimax.py:966: UserWarning: Non-stationary starting autoregressive parameters found. Using zeros as starting parameters.\n",
      "  warn('Non-stationary starting autoregressive parameters'\n",
      "/home/hashim/.local/lib/python3.10/site-packages/statsmodels/tsa/statespace/sarimax.py:978: UserWarning: Non-invertible starting MA parameters found. Using zeros as starting parameters.\n",
      "  warn('Non-invertible starting MA parameters found.'\n"
     ]
    },
    {
     "name": "stdout",
     "output_type": "stream",
     "text": [
      "{'p': 2, 'd': 0, 'q': 1, 'trend': 'c'} MSE: 0.5362189539782942\n"
     ]
    },
    {
     "name": "stderr",
     "output_type": "stream",
     "text": [
      "/home/hashim/.local/lib/python3.10/site-packages/statsmodels/base/model.py:607: ConvergenceWarning: Maximum Likelihood optimization failed to converge. Check mle_retvals\n",
      "  warnings.warn(\"Maximum Likelihood optimization failed to \"\n",
      "/home/hashim/.local/lib/python3.10/site-packages/statsmodels/tsa/statespace/sarimax.py:966: UserWarning: Non-stationary starting autoregressive parameters found. Using zeros as starting parameters.\n",
      "  warn('Non-stationary starting autoregressive parameters'\n",
      "/home/hashim/.local/lib/python3.10/site-packages/statsmodels/tsa/statespace/sarimax.py:978: UserWarning: Non-invertible starting MA parameters found. Using zeros as starting parameters.\n",
      "  warn('Non-invertible starting MA parameters found.'\n"
     ]
    },
    {
     "name": "stdout",
     "output_type": "stream",
     "text": [
      "{'p': 2, 'd': 0, 'q': 1, 'trend': 'ct'} MSE: 2.718960137270638\n"
     ]
    },
    {
     "name": "stderr",
     "output_type": "stream",
     "text": [
      "/home/hashim/.local/lib/python3.10/site-packages/statsmodels/base/model.py:607: ConvergenceWarning: Maximum Likelihood optimization failed to converge. Check mle_retvals\n",
      "  warnings.warn(\"Maximum Likelihood optimization failed to \"\n",
      "/home/hashim/.local/lib/python3.10/site-packages/statsmodels/tsa/statespace/sarimax.py:966: UserWarning: Non-stationary starting autoregressive parameters found. Using zeros as starting parameters.\n",
      "  warn('Non-stationary starting autoregressive parameters'\n",
      "/home/hashim/.local/lib/python3.10/site-packages/statsmodels/tsa/statespace/sarimax.py:978: UserWarning: Non-invertible starting MA parameters found. Using zeros as starting parameters.\n",
      "  warn('Non-invertible starting MA parameters found.'\n"
     ]
    },
    {
     "name": "stdout",
     "output_type": "stream",
     "text": [
      "{'p': 1, 'd': 5, 'q': 3, 'trend': 'n'} MSE: 0.8991918374326692\n"
     ]
    },
    {
     "name": "stderr",
     "output_type": "stream",
     "text": [
      "/home/hashim/.local/lib/python3.10/site-packages/statsmodels/base/model.py:607: ConvergenceWarning: Maximum Likelihood optimization failed to converge. Check mle_retvals\n",
      "  warnings.warn(\"Maximum Likelihood optimization failed to \"\n",
      "/home/hashim/.local/lib/python3.10/site-packages/statsmodels/tsa/statespace/sarimax.py:966: UserWarning: Non-stationary starting autoregressive parameters found. Using zeros as starting parameters.\n",
      "  warn('Non-stationary starting autoregressive parameters'\n",
      "/home/hashim/.local/lib/python3.10/site-packages/statsmodels/tsa/statespace/sarimax.py:978: UserWarning: Non-invertible starting MA parameters found. Using zeros as starting parameters.\n",
      "  warn('Non-invertible starting MA parameters found.'\n"
     ]
    },
    {
     "name": "stdout",
     "output_type": "stream",
     "text": [
      "{'p': 1, 'd': 5, 'q': 4, 'trend': 'n'} MSE: 1.2042611109999954\n"
     ]
    },
    {
     "name": "stderr",
     "output_type": "stream",
     "text": [
      "/home/hashim/.local/lib/python3.10/site-packages/statsmodels/tsa/statespace/sarimax.py:966: UserWarning: Non-stationary starting autoregressive parameters found. Using zeros as starting parameters.\n",
      "  warn('Non-stationary starting autoregressive parameters'\n",
      "/home/hashim/.local/lib/python3.10/site-packages/statsmodels/tsa/statespace/sarimax.py:978: UserWarning: Non-invertible starting MA parameters found. Using zeros as starting parameters.\n",
      "  warn('Non-invertible starting MA parameters found.'\n"
     ]
    },
    {
     "name": "stdout",
     "output_type": "stream",
     "text": [
      "{'p': 2, 'd': 0, 'q': 2, 'trend': 'n'} MSE: 0.5274229711422576\n"
     ]
    },
    {
     "name": "stderr",
     "output_type": "stream",
     "text": [
      "/home/hashim/.local/lib/python3.10/site-packages/statsmodels/base/model.py:607: ConvergenceWarning: Maximum Likelihood optimization failed to converge. Check mle_retvals\n",
      "  warnings.warn(\"Maximum Likelihood optimization failed to \"\n",
      "/home/hashim/.local/lib/python3.10/site-packages/statsmodels/tsa/statespace/sarimax.py:966: UserWarning: Non-stationary starting autoregressive parameters found. Using zeros as starting parameters.\n",
      "  warn('Non-stationary starting autoregressive parameters'\n",
      "/home/hashim/.local/lib/python3.10/site-packages/statsmodels/tsa/statespace/sarimax.py:978: UserWarning: Non-invertible starting MA parameters found. Using zeros as starting parameters.\n",
      "  warn('Non-invertible starting MA parameters found.'\n"
     ]
    },
    {
     "name": "stdout",
     "output_type": "stream",
     "text": [
      "{'p': 2, 'd': 0, 'q': 2, 'trend': 't'} MSE: 2.7194209364894957\n"
     ]
    },
    {
     "name": "stderr",
     "output_type": "stream",
     "text": [
      "/home/hashim/.local/lib/python3.10/site-packages/statsmodels/base/model.py:607: ConvergenceWarning: Maximum Likelihood optimization failed to converge. Check mle_retvals\n",
      "  warnings.warn(\"Maximum Likelihood optimization failed to \"\n",
      "/home/hashim/.local/lib/python3.10/site-packages/statsmodels/base/model.py:607: ConvergenceWarning: Maximum Likelihood optimization failed to converge. Check mle_retvals\n",
      "  warnings.warn(\"Maximum Likelihood optimization failed to \"\n"
     ]
    },
    {
     "name": "stdout",
     "output_type": "stream",
     "text": [
      "{'p': 2, 'd': 0, 'q': 2, 'trend': 'ct'} MSE: 2.718960137270638\n"
     ]
    },
    {
     "name": "stderr",
     "output_type": "stream",
     "text": [
      "/home/hashim/.local/lib/python3.10/site-packages/statsmodels/tsa/statespace/sarimax.py:966: UserWarning: Non-stationary starting autoregressive parameters found. Using zeros as starting parameters.\n",
      "  warn('Non-stationary starting autoregressive parameters'\n",
      "/home/hashim/.local/lib/python3.10/site-packages/statsmodels/tsa/statespace/sarimax.py:978: UserWarning: Non-invertible starting MA parameters found. Using zeros as starting parameters.\n",
      "  warn('Non-invertible starting MA parameters found.'\n"
     ]
    },
    {
     "name": "stdout",
     "output_type": "stream",
     "text": [
      "{'p': 1, 'd': 5, 'q': 5, 'trend': 'n'} MSE: 0.713170664709466\n"
     ]
    },
    {
     "name": "stderr",
     "output_type": "stream",
     "text": [
      "/home/hashim/.local/lib/python3.10/site-packages/statsmodels/base/model.py:607: ConvergenceWarning: Maximum Likelihood optimization failed to converge. Check mle_retvals\n",
      "  warnings.warn(\"Maximum Likelihood optimization failed to \"\n"
     ]
    },
    {
     "name": "stdout",
     "output_type": "stream",
     "text": [
      "{'p': 2, 'd': 0, 'q': 3, 'trend': 'n'} MSE: 0.411484645855694\n"
     ]
    },
    {
     "name": "stderr",
     "output_type": "stream",
     "text": [
      "/home/hashim/.local/lib/python3.10/site-packages/statsmodels/base/model.py:607: ConvergenceWarning: Maximum Likelihood optimization failed to converge. Check mle_retvals\n",
      "  warnings.warn(\"Maximum Likelihood optimization failed to \"\n"
     ]
    },
    {
     "name": "stdout",
     "output_type": "stream",
     "text": [
      "{'p': 2, 'd': 0, 'q': 2, 'trend': 'c'} MSE: 0.5274229673141438\n",
      "{'p': 2, 'd': 0, 'q': 3, 'trend': 't'} MSE: 2.7194209364894957\n"
     ]
    },
    {
     "name": "stderr",
     "output_type": "stream",
     "text": [
      "/home/hashim/.local/lib/python3.10/site-packages/statsmodels/base/model.py:607: ConvergenceWarning: Maximum Likelihood optimization failed to converge. Check mle_retvals\n",
      "  warnings.warn(\"Maximum Likelihood optimization failed to \"\n"
     ]
    },
    {
     "name": "stdout",
     "output_type": "stream",
     "text": [
      "{'p': 2, 'd': 0, 'q': 3, 'trend': 'ct'} MSE: 2.718960137270638\n",
      "{'p': 2, 'd': 0, 'q': 4, 'trend': 'n'} MSE: 0.39523381931042967\n"
     ]
    },
    {
     "name": "stderr",
     "output_type": "stream",
     "text": [
      "/home/hashim/.local/lib/python3.10/site-packages/statsmodels/base/model.py:607: ConvergenceWarning: Maximum Likelihood optimization failed to converge. Check mle_retvals\n",
      "  warnings.warn(\"Maximum Likelihood optimization failed to \"\n"
     ]
    },
    {
     "name": "stdout",
     "output_type": "stream",
     "text": [
      "{'p': 2, 'd': 0, 'q': 4, 'trend': 't'} MSE: 0.5186829839269702\n",
      "{'p': 2, 'd': 0, 'q': 5, 'trend': 'n'} MSE: 0.45927077053584475\n"
     ]
    },
    {
     "name": "stderr",
     "output_type": "stream",
     "text": [
      "/home/hashim/.local/lib/python3.10/site-packages/statsmodels/base/model.py:607: ConvergenceWarning: Maximum Likelihood optimization failed to converge. Check mle_retvals\n",
      "  warnings.warn(\"Maximum Likelihood optimization failed to \"\n"
     ]
    },
    {
     "name": "stdout",
     "output_type": "stream",
     "text": [
      "{'p': 2, 'd': 0, 'q': 4, 'trend': 'ct'} MSE: 0.5186648137377331\n",
      "{'p': 2, 'd': 1, 'q': 0, 'trend': 'n'} MSE: 0.6048748441942775\n",
      "{'p': 2, 'd': 1, 'q': 0, 'trend': 'c'} MSE: inf\n",
      "{'p': 2, 'd': 1, 'q': 0, 'trend': 't'} MSE: 0.6048748440877568\n",
      "{'p': 2, 'd': 1, 'q': 0, 'trend': 'ct'} MSE: inf\n"
     ]
    },
    {
     "name": "stderr",
     "output_type": "stream",
     "text": [
      "/home/hashim/.local/lib/python3.10/site-packages/statsmodels/base/model.py:607: ConvergenceWarning: Maximum Likelihood optimization failed to converge. Check mle_retvals\n",
      "  warnings.warn(\"Maximum Likelihood optimization failed to \"\n"
     ]
    },
    {
     "name": "stdout",
     "output_type": "stream",
     "text": [
      "{'p': 2, 'd': 0, 'q': 3, 'trend': 'c'} MSE: 0.4114846441822627\n",
      "{'p': 2, 'd': 1, 'q': 1, 'trend': 'c'} MSE: inf\n"
     ]
    },
    {
     "name": "stderr",
     "output_type": "stream",
     "text": [
      "/home/hashim/.local/lib/python3.10/site-packages/statsmodels/tsa/statespace/sarimax.py:966: UserWarning: Non-stationary starting autoregressive parameters found. Using zeros as starting parameters.\n",
      "  warn('Non-stationary starting autoregressive parameters'\n"
     ]
    },
    {
     "name": "stdout",
     "output_type": "stream",
     "text": [
      "{'p': 2, 'd': 1, 'q': 1, 'trend': 'n'} MSE: 0.5622108779671302\n",
      "{'p': 2, 'd': 1, 'q': 1, 'trend': 'ct'} MSE: inf\n"
     ]
    },
    {
     "name": "stderr",
     "output_type": "stream",
     "text": [
      "/home/hashim/.local/lib/python3.10/site-packages/statsmodels/tsa/statespace/sarimax.py:978: UserWarning: Non-invertible starting MA parameters found. Using zeros as starting parameters.\n",
      "  warn('Non-invertible starting MA parameters found.'\n",
      "/home/hashim/.local/lib/python3.10/site-packages/statsmodels/tsa/statespace/sarimax.py:966: UserWarning: Non-stationary starting autoregressive parameters found. Using zeros as starting parameters.\n",
      "  warn('Non-stationary starting autoregressive parameters'\n",
      "/home/hashim/.local/lib/python3.10/site-packages/statsmodels/tsa/statespace/sarimax.py:978: UserWarning: Non-invertible starting MA parameters found. Using zeros as starting parameters.\n",
      "  warn('Non-invertible starting MA parameters found.'\n"
     ]
    },
    {
     "name": "stdout",
     "output_type": "stream",
     "text": [
      "{'p': 2, 'd': 1, 'q': 2, 'trend': 'n'} MSE: 0.6039715792696014\n",
      "{'p': 2, 'd': 1, 'q': 2, 'trend': 'c'} MSE: inf\n",
      "{'p': 2, 'd': 0, 'q': 4, 'trend': 'c'} MSE: 0.39523381830392146\n",
      "{'p': 2, 'd': 1, 'q': 2, 'trend': 'ct'} MSE: inf\n"
     ]
    },
    {
     "name": "stderr",
     "output_type": "stream",
     "text": [
      "/home/hashim/.local/lib/python3.10/site-packages/statsmodels/base/model.py:607: ConvergenceWarning: Maximum Likelihood optimization failed to converge. Check mle_retvals\n",
      "  warnings.warn(\"Maximum Likelihood optimization failed to \"\n"
     ]
    },
    {
     "name": "stdout",
     "output_type": "stream",
     "text": [
      "{'p': 2, 'd': 0, 'q': 5, 'trend': 'c'} MSE: 0.45927076635623204\n",
      "{'p': 2, 'd': 1, 'q': 3, 'trend': 'c'} MSE: inf\n",
      "{'p': 2, 'd': 0, 'q': 5, 'trend': 't'} MSE: 0.5202379560029403\n",
      "{'p': 2, 'd': 1, 'q': 3, 'trend': 'ct'} MSE: inf\n",
      "{'p': 2, 'd': 0, 'q': 5, 'trend': 'ct'} MSE: 0.5201843359807611\n",
      "{'p': 2, 'd': 1, 'q': 4, 'trend': 'c'} MSE: inf\n",
      "{'p': 2, 'd': 1, 'q': 1, 'trend': 't'} MSE: 0.5622109093370147\n",
      "{'p': 2, 'd': 1, 'q': 4, 'trend': 'ct'} MSE: inf\n"
     ]
    },
    {
     "name": "stderr",
     "output_type": "stream",
     "text": [
      "/home/hashim/.local/lib/python3.10/site-packages/statsmodels/tsa/statespace/sarimax.py:978: UserWarning: Non-invertible starting MA parameters found. Using zeros as starting parameters.\n",
      "  warn('Non-invertible starting MA parameters found.'\n"
     ]
    },
    {
     "name": "stdout",
     "output_type": "stream",
     "text": [
      "{'p': 2, 'd': 1, 'q': 2, 'trend': 't'} MSE: 0.603971579083751\n",
      "{'p': 2, 'd': 1, 'q': 5, 'trend': 'c'} MSE: inf\n"
     ]
    },
    {
     "name": "stderr",
     "output_type": "stream",
     "text": [
      "/home/hashim/.local/lib/python3.10/site-packages/statsmodels/tsa/statespace/sarimax.py:978: UserWarning: Non-invertible starting MA parameters found. Using zeros as starting parameters.\n",
      "  warn('Non-invertible starting MA parameters found.'\n"
     ]
    },
    {
     "name": "stdout",
     "output_type": "stream",
     "text": [
      "{'p': 2, 'd': 1, 'q': 4, 'trend': 'n'} MSE: 0.5544123577721416\n",
      "{'p': 2, 'd': 1, 'q': 5, 'trend': 'ct'} MSE: inf\n",
      "{'p': 2, 'd': 2, 'q': 0, 'trend': 'n'} MSE: 0.7812386413706465\n",
      "{'p': 2, 'd': 2, 'q': 0, 'trend': 'c'} MSE: inf\n",
      "{'p': 2, 'd': 2, 'q': 0, 'trend': 't'} MSE: inf\n",
      "{'p': 2, 'd': 2, 'q': 0, 'trend': 'ct'} MSE: inf\n",
      "{'p': 2, 'd': 1, 'q': 3, 'trend': 'n'} MSE: 0.5498466807378989\n",
      "{'p': 2, 'd': 2, 'q': 1, 'trend': 'c'} MSE: inf\n",
      "{'p': 2, 'd': 2, 'q': 1, 'trend': 't'} MSE: inf\n",
      "{'p': 2, 'd': 2, 'q': 1, 'trend': 'ct'} MSE: inf\n",
      "{'p': 2, 'd': 2, 'q': 1, 'trend': 'n'} MSE: 0.6049708961198202\n",
      "{'p': 2, 'd': 2, 'q': 2, 'trend': 'c'} MSE: inf\n",
      "{'p': 2, 'd': 2, 'q': 2, 'trend': 't'} MSE: inf\n",
      "{'p': 2, 'd': 2, 'q': 2, 'trend': 'ct'} MSE: inf\n"
     ]
    },
    {
     "name": "stderr",
     "output_type": "stream",
     "text": [
      "/home/hashim/.local/lib/python3.10/site-packages/statsmodels/base/model.py:607: ConvergenceWarning: Maximum Likelihood optimization failed to converge. Check mle_retvals\n",
      "  warnings.warn(\"Maximum Likelihood optimization failed to \"\n"
     ]
    },
    {
     "name": "stdout",
     "output_type": "stream",
     "text": [
      "{'p': 2, 'd': 2, 'q': 2, 'trend': 'n'} MSE: 0.6045552014609757\n",
      "{'p': 2, 'd': 2, 'q': 3, 'trend': 'c'} MSE: inf\n",
      "{'p': 2, 'd': 2, 'q': 3, 'trend': 't'} MSE: inf\n",
      "{'p': 2, 'd': 2, 'q': 3, 'trend': 'ct'} MSE: inf\n",
      "{'p': 2, 'd': 1, 'q': 5, 'trend': 'n'} MSE: 0.5034701143894441\n",
      "{'p': 2, 'd': 2, 'q': 4, 'trend': 'c'} MSE: inf\n",
      "{'p': 2, 'd': 2, 'q': 4, 'trend': 't'} MSE: inf\n",
      "{'p': 2, 'd': 2, 'q': 4, 'trend': 'ct'} MSE: inf\n",
      "{'p': 2, 'd': 1, 'q': 3, 'trend': 't'} MSE: 0.5498466843662925\n",
      "{'p': 2, 'd': 2, 'q': 5, 'trend': 'c'} MSE: inf\n",
      "{'p': 2, 'd': 2, 'q': 5, 'trend': 't'} MSE: inf\n",
      "{'p': 2, 'd': 2, 'q': 5, 'trend': 'ct'} MSE: inf\n",
      "{'p': 2, 'd': 3, 'q': 0, 'trend': 'n'} MSE: 1.459866669445066\n",
      "{'p': 2, 'd': 3, 'q': 0, 'trend': 'c'} MSE: inf\n",
      "{'p': 2, 'd': 3, 'q': 0, 'trend': 't'} MSE: inf\n",
      "{'p': 2, 'd': 3, 'q': 0, 'trend': 'ct'} MSE: inf\n",
      "{'p': 2, 'd': 3, 'q': 1, 'trend': 'n'} MSE: 0.7813782712177062\n",
      "{'p': 2, 'd': 3, 'q': 1, 'trend': 'c'} MSE: inf\n",
      "{'p': 2, 'd': 3, 'q': 1, 'trend': 't'} MSE: inf\n",
      "{'p': 2, 'd': 3, 'q': 1, 'trend': 'ct'} MSE: inf\n"
     ]
    },
    {
     "name": "stderr",
     "output_type": "stream",
     "text": [
      "/home/hashim/.local/lib/python3.10/site-packages/statsmodels/tsa/statespace/sarimax.py:966: UserWarning: Non-stationary starting autoregressive parameters found. Using zeros as starting parameters.\n",
      "  warn('Non-stationary starting autoregressive parameters'\n",
      "/home/hashim/.local/lib/python3.10/site-packages/statsmodels/tsa/statespace/sarimax.py:978: UserWarning: Non-invertible starting MA parameters found. Using zeros as starting parameters.\n",
      "  warn('Non-invertible starting MA parameters found.'\n",
      "/home/hashim/.local/lib/python3.10/site-packages/statsmodels/base/model.py:607: ConvergenceWarning: Maximum Likelihood optimization failed to converge. Check mle_retvals\n",
      "  warnings.warn(\"Maximum Likelihood optimization failed to \"\n",
      "/home/hashim/.local/lib/python3.10/site-packages/statsmodels/tsa/statespace/sarimax.py:978: UserWarning: Non-invertible starting MA parameters found. Using zeros as starting parameters.\n",
      "  warn('Non-invertible starting MA parameters found.'\n"
     ]
    },
    {
     "name": "stdout",
     "output_type": "stream",
     "text": [
      "{'p': 2, 'd': 1, 'q': 4, 'trend': 't'} MSE: 0.5550630301268578\n",
      "{'p': 2, 'd': 3, 'q': 2, 'trend': 'c'} MSE: inf\n",
      "{'p': 2, 'd': 3, 'q': 2, 'trend': 't'} MSE: inf\n",
      "{'p': 2, 'd': 3, 'q': 2, 'trend': 'ct'} MSE: inf\n",
      "{'p': 2, 'd': 2, 'q': 5, 'trend': 'n'} MSE: 0.52861475500778\n",
      "{'p': 2, 'd': 3, 'q': 3, 'trend': 'c'} MSE: inf\n",
      "{'p': 2, 'd': 3, 'q': 3, 'trend': 't'} MSE: inf\n",
      "{'p': 2, 'd': 3, 'q': 3, 'trend': 'ct'} MSE: inf\n"
     ]
    },
    {
     "name": "stderr",
     "output_type": "stream",
     "text": [
      "/home/hashim/.local/lib/python3.10/site-packages/statsmodels/base/model.py:607: ConvergenceWarning: Maximum Likelihood optimization failed to converge. Check mle_retvals\n",
      "  warnings.warn(\"Maximum Likelihood optimization failed to \"\n"
     ]
    },
    {
     "name": "stdout",
     "output_type": "stream",
     "text": [
      "{'p': 2, 'd': 2, 'q': 3, 'trend': 'n'} MSE: 0.5144079830992878\n",
      "{'p': 2, 'd': 3, 'q': 4, 'trend': 'c'} MSE: inf\n",
      "{'p': 2, 'd': 3, 'q': 4, 'trend': 't'} MSE: inf\n",
      "{'p': 2, 'd': 3, 'q': 4, 'trend': 'ct'} MSE: inf\n"
     ]
    },
    {
     "name": "stderr",
     "output_type": "stream",
     "text": [
      "/home/hashim/.local/lib/python3.10/site-packages/statsmodels/base/model.py:607: ConvergenceWarning: Maximum Likelihood optimization failed to converge. Check mle_retvals\n",
      "  warnings.warn(\"Maximum Likelihood optimization failed to \"\n"
     ]
    },
    {
     "name": "stdout",
     "output_type": "stream",
     "text": [
      "{'p': 2, 'd': 2, 'q': 4, 'trend': 'n'} MSE: 0.5360683943884905\n",
      "{'p': 2, 'd': 3, 'q': 5, 'trend': 'c'} MSE: inf\n",
      "{'p': 2, 'd': 3, 'q': 5, 'trend': 't'} MSE: inf\n",
      "{'p': 2, 'd': 3, 'q': 5, 'trend': 'ct'} MSE: inf\n",
      "{'p': 2, 'd': 4, 'q': 0, 'trend': 'n'} MSE: 3.281986357526795\n",
      "{'p': 2, 'd': 4, 'q': 0, 'trend': 'c'} MSE: inf\n",
      "{'p': 2, 'd': 4, 'q': 0, 'trend': 't'} MSE: inf\n",
      "{'p': 2, 'd': 4, 'q': 0, 'trend': 'ct'} MSE: inf\n"
     ]
    },
    {
     "name": "stderr",
     "output_type": "stream",
     "text": [
      "/home/hashim/.local/lib/python3.10/site-packages/statsmodels/tsa/statespace/sarimax.py:978: UserWarning: Non-invertible starting MA parameters found. Using zeros as starting parameters.\n",
      "  warn('Non-invertible starting MA parameters found.'\n"
     ]
    },
    {
     "name": "stdout",
     "output_type": "stream",
     "text": [
      "{'p': 2, 'd': 3, 'q': 3, 'trend': 'n'} MSE: 0.5997828685763266\n",
      "{'p': 2, 'd': 4, 'q': 1, 'trend': 'c'} MSE: inf\n",
      "{'p': 2, 'd': 4, 'q': 1, 'trend': 't'} MSE: inf\n",
      "{'p': 2, 'd': 4, 'q': 1, 'trend': 'ct'} MSE: inf\n"
     ]
    },
    {
     "name": "stderr",
     "output_type": "stream",
     "text": [
      "/home/hashim/.local/lib/python3.10/site-packages/statsmodels/tsa/statespace/sarimax.py:978: UserWarning: Non-invertible starting MA parameters found. Using zeros as starting parameters.\n",
      "  warn('Non-invertible starting MA parameters found.'\n"
     ]
    },
    {
     "name": "stdout",
     "output_type": "stream",
     "text": [
      "{'p': 2, 'd': 3, 'q': 2, 'trend': 'n'} MSE: 0.6072989244249113\n",
      "{'p': 2, 'd': 4, 'q': 2, 'trend': 'c'} MSE: inf\n",
      "{'p': 2, 'd': 4, 'q': 2, 'trend': 't'} MSE: inf\n",
      "{'p': 2, 'd': 4, 'q': 2, 'trend': 'ct'} MSE: inf\n"
     ]
    },
    {
     "name": "stderr",
     "output_type": "stream",
     "text": [
      "/home/hashim/.local/lib/python3.10/site-packages/statsmodels/base/model.py:607: ConvergenceWarning: Maximum Likelihood optimization failed to converge. Check mle_retvals\n",
      "  warnings.warn(\"Maximum Likelihood optimization failed to \"\n",
      "/home/hashim/.local/lib/python3.10/site-packages/statsmodels/tsa/statespace/sarimax.py:978: UserWarning: Non-invertible starting MA parameters found. Using zeros as starting parameters.\n",
      "  warn('Non-invertible starting MA parameters found.'\n"
     ]
    },
    {
     "name": "stdout",
     "output_type": "stream",
     "text": [
      "{'p': 2, 'd': 1, 'q': 5, 'trend': 't'} MSE: 0.5033037679590601\n",
      "{'p': 2, 'd': 4, 'q': 3, 'trend': 'c'} MSE: inf\n",
      "{'p': 2, 'd': 4, 'q': 3, 'trend': 't'} MSE: inf\n",
      "{'p': 2, 'd': 4, 'q': 3, 'trend': 'ct'} MSE: inf\n",
      "{'p': 2, 'd': 4, 'q': 2, 'trend': 'n'} MSE: 0.7832356724175574\n",
      "{'p': 2, 'd': 4, 'q': 4, 'trend': 'c'} MSE: inf\n",
      "{'p': 2, 'd': 4, 'q': 4, 'trend': 't'} MSE: inf\n",
      "{'p': 2, 'd': 4, 'q': 4, 'trend': 'ct'} MSE: inf\n"
     ]
    },
    {
     "name": "stderr",
     "output_type": "stream",
     "text": [
      "/home/hashim/.local/lib/python3.10/site-packages/statsmodels/tsa/statespace/sarimax.py:978: UserWarning: Non-invertible starting MA parameters found. Using zeros as starting parameters.\n",
      "  warn('Non-invertible starting MA parameters found.'\n"
     ]
    },
    {
     "name": "stdout",
     "output_type": "stream",
     "text": [
      "{'p': 2, 'd': 4, 'q': 3, 'trend': 'n'} MSE: 1.0245720154370301\n",
      "{'p': 2, 'd': 4, 'q': 5, 'trend': 'c'} MSE: inf\n",
      "{'p': 2, 'd': 4, 'q': 5, 'trend': 't'} MSE: inf\n",
      "{'p': 2, 'd': 4, 'q': 5, 'trend': 'ct'} MSE: inf\n",
      "{'p': 2, 'd': 4, 'q': 1, 'trend': 'n'} MSE: 1.4601496784972001\n",
      "{'p': 2, 'd': 5, 'q': 0, 'trend': 'c'} MSE: inf\n",
      "{'p': 2, 'd': 5, 'q': 0, 'trend': 't'} MSE: inf\n",
      "{'p': 2, 'd': 5, 'q': 0, 'trend': 'ct'} MSE: inf\n"
     ]
    },
    {
     "name": "stderr",
     "output_type": "stream",
     "text": [
      "/home/hashim/.local/lib/python3.10/site-packages/statsmodels/tsa/statespace/sarimax.py:978: UserWarning: Non-invertible starting MA parameters found. Using zeros as starting parameters.\n",
      "  warn('Non-invertible starting MA parameters found.'\n"
     ]
    },
    {
     "name": "stdout",
     "output_type": "stream",
     "text": [
      "{'p': 2, 'd': 5, 'q': 0, 'trend': 'n'} MSE: 8.387994967937653\n",
      "{'p': 2, 'd': 5, 'q': 1, 'trend': 'c'} MSE: inf\n",
      "{'p': 2, 'd': 5, 'q': 1, 'trend': 't'} MSE: inf\n",
      "{'p': 2, 'd': 5, 'q': 1, 'trend': 'ct'} MSE: inf\n"
     ]
    },
    {
     "name": "stderr",
     "output_type": "stream",
     "text": [
      "/home/hashim/.local/lib/python3.10/site-packages/statsmodels/base/model.py:607: ConvergenceWarning: Maximum Likelihood optimization failed to converge. Check mle_retvals\n",
      "  warnings.warn(\"Maximum Likelihood optimization failed to \"\n",
      "/home/hashim/.local/lib/python3.10/site-packages/statsmodels/tsa/statespace/sarimax.py:978: UserWarning: Non-invertible starting MA parameters found. Using zeros as starting parameters.\n",
      "  warn('Non-invertible starting MA parameters found.'\n"
     ]
    },
    {
     "name": "stdout",
     "output_type": "stream",
     "text": [
      "{'p': 2, 'd': 3, 'q': 4, 'trend': 'n'} MSE: 0.5517417079888876\n",
      "{'p': 2, 'd': 5, 'q': 2, 'trend': 'c'} MSE: inf\n",
      "{'p': 2, 'd': 5, 'q': 2, 'trend': 't'} MSE: inf\n",
      "{'p': 2, 'd': 5, 'q': 2, 'trend': 'ct'} MSE: inf\n"
     ]
    },
    {
     "name": "stderr",
     "output_type": "stream",
     "text": [
      "/home/hashim/.local/lib/python3.10/site-packages/statsmodels/base/model.py:607: ConvergenceWarning: Maximum Likelihood optimization failed to converge. Check mle_retvals\n",
      "  warnings.warn(\"Maximum Likelihood optimization failed to \"\n",
      "/home/hashim/.local/lib/python3.10/site-packages/statsmodels/tsa/statespace/sarimax.py:978: UserWarning: Non-invertible starting MA parameters found. Using zeros as starting parameters.\n",
      "  warn('Non-invertible starting MA parameters found.'\n"
     ]
    },
    {
     "name": "stdout",
     "output_type": "stream",
     "text": [
      "{'p': 2, 'd': 3, 'q': 5, 'trend': 'n'} MSE: 0.5648668398709211\n",
      "{'p': 2, 'd': 5, 'q': 3, 'trend': 'c'} MSE: inf\n",
      "{'p': 2, 'd': 5, 'q': 3, 'trend': 't'} MSE: inf\n",
      "{'p': 2, 'd': 5, 'q': 3, 'trend': 'ct'} MSE: inf\n",
      "{'p': 2, 'd': 5, 'q': 1, 'trend': 'n'} MSE: 3.2829314628096675\n",
      "{'p': 2, 'd': 5, 'q': 4, 'trend': 'c'} MSE: inf\n",
      "{'p': 2, 'd': 5, 'q': 4, 'trend': 't'} MSE: inf\n",
      "{'p': 2, 'd': 5, 'q': 4, 'trend': 'ct'} MSE: inf\n"
     ]
    },
    {
     "name": "stderr",
     "output_type": "stream",
     "text": [
      "/home/hashim/.local/lib/python3.10/site-packages/statsmodels/tsa/statespace/sarimax.py:978: UserWarning: Non-invertible starting MA parameters found. Using zeros as starting parameters.\n",
      "  warn('Non-invertible starting MA parameters found.'\n"
     ]
    },
    {
     "name": "stdout",
     "output_type": "stream",
     "text": [
      "{'p': 2, 'd': 5, 'q': 2, 'trend': 'n'} MSE: 1.462534571772421\n",
      "{'p': 2, 'd': 5, 'q': 5, 'trend': 'c'} MSE: inf\n",
      "{'p': 2, 'd': 5, 'q': 5, 'trend': 't'} MSE: inf\n",
      "{'p': 2, 'd': 5, 'q': 5, 'trend': 'ct'} MSE: inf\n",
      "{'p': 3, 'd': 0, 'q': 0, 'trend': 'n'} MSE: 0.561593850865967\n",
      "{'p': 3, 'd': 0, 'q': 0, 'trend': 'c'} MSE: 0.5615938508283558\n"
     ]
    },
    {
     "name": "stderr",
     "output_type": "stream",
     "text": [
      "/home/hashim/.local/lib/python3.10/site-packages/statsmodels/base/model.py:607: ConvergenceWarning: Maximum Likelihood optimization failed to converge. Check mle_retvals\n",
      "  warnings.warn(\"Maximum Likelihood optimization failed to \"\n"
     ]
    },
    {
     "name": "stdout",
     "output_type": "stream",
     "text": [
      "{'p': 2, 'd': 4, 'q': 4, 'trend': 'n'} MSE: 0.7071445429997644\n",
      "{'p': 3, 'd': 0, 'q': 0, 'trend': 't'} MSE: 0.5615910281804383\n",
      "{'p': 3, 'd': 0, 'q': 0, 'trend': 'ct'} MSE: 0.5615837393486695\n",
      "{'p': 3, 'd': 0, 'q': 1, 'trend': 'n'} MSE: 0.5303131812940793\n"
     ]
    },
    {
     "name": "stderr",
     "output_type": "stream",
     "text": [
      "/home/hashim/.local/lib/python3.10/site-packages/statsmodels/base/model.py:607: ConvergenceWarning: Maximum Likelihood optimization failed to converge. Check mle_retvals\n",
      "  warnings.warn(\"Maximum Likelihood optimization failed to \"\n"
     ]
    },
    {
     "name": "stdout",
     "output_type": "stream",
     "text": [
      "{'p': 2, 'd': 4, 'q': 5, 'trend': 'n'} MSE: 0.6665548157852129\n"
     ]
    },
    {
     "name": "stderr",
     "output_type": "stream",
     "text": [
      "/home/hashim/.local/lib/python3.10/site-packages/statsmodels/base/model.py:607: ConvergenceWarning: Maximum Likelihood optimization failed to converge. Check mle_retvals\n",
      "  warnings.warn(\"Maximum Likelihood optimization failed to \"\n",
      "/home/hashim/.local/lib/python3.10/site-packages/statsmodels/tsa/statespace/sarimax.py:966: UserWarning: Non-stationary starting autoregressive parameters found. Using zeros as starting parameters.\n",
      "  warn('Non-stationary starting autoregressive parameters'\n",
      "/home/hashim/.local/lib/python3.10/site-packages/statsmodels/tsa/statespace/sarimax.py:978: UserWarning: Non-invertible starting MA parameters found. Using zeros as starting parameters.\n",
      "  warn('Non-invertible starting MA parameters found.'\n"
     ]
    },
    {
     "name": "stdout",
     "output_type": "stream",
     "text": [
      "{'p': 2, 'd': 5, 'q': 3, 'trend': 'n'} MSE: 0.989455388220725\n"
     ]
    },
    {
     "name": "stderr",
     "output_type": "stream",
     "text": [
      "/home/hashim/.local/lib/python3.10/site-packages/statsmodels/base/model.py:607: ConvergenceWarning: Maximum Likelihood optimization failed to converge. Check mle_retvals\n",
      "  warnings.warn(\"Maximum Likelihood optimization failed to \"\n",
      "/home/hashim/.local/lib/python3.10/site-packages/statsmodels/tsa/statespace/sarimax.py:966: UserWarning: Non-stationary starting autoregressive parameters found. Using zeros as starting parameters.\n",
      "  warn('Non-stationary starting autoregressive parameters'\n",
      "/home/hashim/.local/lib/python3.10/site-packages/statsmodels/tsa/statespace/sarimax.py:978: UserWarning: Non-invertible starting MA parameters found. Using zeros as starting parameters.\n",
      "  warn('Non-invertible starting MA parameters found.'\n"
     ]
    },
    {
     "name": "stdout",
     "output_type": "stream",
     "text": [
      "{'p': 3, 'd': 0, 'q': 1, 'trend': 't'} MSE: 0.5652223655052525\n"
     ]
    },
    {
     "name": "stderr",
     "output_type": "stream",
     "text": [
      "/home/hashim/.local/lib/python3.10/site-packages/statsmodels/tsa/statespace/sarimax.py:966: UserWarning: Non-stationary starting autoregressive parameters found. Using zeros as starting parameters.\n",
      "  warn('Non-stationary starting autoregressive parameters'\n",
      "/home/hashim/.local/lib/python3.10/site-packages/statsmodels/tsa/statespace/sarimax.py:978: UserWarning: Non-invertible starting MA parameters found. Using zeros as starting parameters.\n",
      "  warn('Non-invertible starting MA parameters found.'\n"
     ]
    },
    {
     "name": "stdout",
     "output_type": "stream",
     "text": [
      "{'p': 3, 'd': 0, 'q': 1, 'trend': 'c'} MSE: 0.5303131751260217\n"
     ]
    },
    {
     "name": "stderr",
     "output_type": "stream",
     "text": [
      "/home/hashim/.local/lib/python3.10/site-packages/statsmodels/base/model.py:607: ConvergenceWarning: Maximum Likelihood optimization failed to converge. Check mle_retvals\n",
      "  warnings.warn(\"Maximum Likelihood optimization failed to \"\n",
      "/home/hashim/.local/lib/python3.10/site-packages/statsmodels/tsa/statespace/sarimax.py:966: UserWarning: Non-stationary starting autoregressive parameters found. Using zeros as starting parameters.\n",
      "  warn('Non-stationary starting autoregressive parameters'\n",
      "/home/hashim/.local/lib/python3.10/site-packages/statsmodels/tsa/statespace/sarimax.py:978: UserWarning: Non-invertible starting MA parameters found. Using zeros as starting parameters.\n",
      "  warn('Non-invertible starting MA parameters found.'\n"
     ]
    },
    {
     "name": "stdout",
     "output_type": "stream",
     "text": [
      "{'p': 2, 'd': 5, 'q': 5, 'trend': 'n'} MSE: 1.1708615647025145\n"
     ]
    },
    {
     "name": "stderr",
     "output_type": "stream",
     "text": [
      "/home/hashim/.local/lib/python3.10/site-packages/statsmodels/base/model.py:607: ConvergenceWarning: Maximum Likelihood optimization failed to converge. Check mle_retvals\n",
      "  warnings.warn(\"Maximum Likelihood optimization failed to \"\n",
      "/home/hashim/.local/lib/python3.10/site-packages/statsmodels/tsa/statespace/sarimax.py:966: UserWarning: Non-stationary starting autoregressive parameters found. Using zeros as starting parameters.\n",
      "  warn('Non-stationary starting autoregressive parameters'\n",
      "/home/hashim/.local/lib/python3.10/site-packages/statsmodels/tsa/statespace/sarimax.py:978: UserWarning: Non-invertible starting MA parameters found. Using zeros as starting parameters.\n",
      "  warn('Non-invertible starting MA parameters found.'\n"
     ]
    },
    {
     "name": "stdout",
     "output_type": "stream",
     "text": [
      "{'p': 3, 'd': 0, 'q': 1, 'trend': 'ct'} MSE: 0.565216000520375\n"
     ]
    },
    {
     "name": "stderr",
     "output_type": "stream",
     "text": [
      "/home/hashim/.local/lib/python3.10/site-packages/statsmodels/tsa/statespace/sarimax.py:966: UserWarning: Non-stationary starting autoregressive parameters found. Using zeros as starting parameters.\n",
      "  warn('Non-stationary starting autoregressive parameters'\n",
      "/home/hashim/.local/lib/python3.10/site-packages/statsmodels/tsa/statespace/sarimax.py:978: UserWarning: Non-invertible starting MA parameters found. Using zeros as starting parameters.\n",
      "  warn('Non-invertible starting MA parameters found.'\n"
     ]
    },
    {
     "name": "stdout",
     "output_type": "stream",
     "text": [
      "{'p': 2, 'd': 5, 'q': 4, 'trend': 'n'} MSE: 1.038808183445352\n"
     ]
    },
    {
     "name": "stderr",
     "output_type": "stream",
     "text": [
      "/home/hashim/.local/lib/python3.10/site-packages/statsmodels/base/model.py:607: ConvergenceWarning: Maximum Likelihood optimization failed to converge. Check mle_retvals\n",
      "  warnings.warn(\"Maximum Likelihood optimization failed to \"\n"
     ]
    },
    {
     "name": "stdout",
     "output_type": "stream",
     "text": [
      "{'p': 3, 'd': 0, 'q': 2, 'trend': 't'} MSE: 2.7194209364894957\n"
     ]
    },
    {
     "name": "stderr",
     "output_type": "stream",
     "text": [
      "/home/hashim/.local/lib/python3.10/site-packages/statsmodels/tsa/statespace/sarimax.py:966: UserWarning: Non-stationary starting autoregressive parameters found. Using zeros as starting parameters.\n",
      "  warn('Non-stationary starting autoregressive parameters'\n",
      "/home/hashim/.local/lib/python3.10/site-packages/statsmodels/tsa/statespace/sarimax.py:978: UserWarning: Non-invertible starting MA parameters found. Using zeros as starting parameters.\n",
      "  warn('Non-invertible starting MA parameters found.'\n",
      "/home/hashim/.local/lib/python3.10/site-packages/statsmodels/base/model.py:607: ConvergenceWarning: Maximum Likelihood optimization failed to converge. Check mle_retvals\n",
      "  warnings.warn(\"Maximum Likelihood optimization failed to \"\n"
     ]
    },
    {
     "name": "stdout",
     "output_type": "stream",
     "text": [
      "{'p': 3, 'd': 0, 'q': 2, 'trend': 'n'} MSE: 0.5293000864136068\n"
     ]
    },
    {
     "name": "stderr",
     "output_type": "stream",
     "text": [
      "/home/hashim/.local/lib/python3.10/site-packages/statsmodels/tsa/statespace/sarimax.py:966: UserWarning: Non-stationary starting autoregressive parameters found. Using zeros as starting parameters.\n",
      "  warn('Non-stationary starting autoregressive parameters'\n",
      "/home/hashim/.local/lib/python3.10/site-packages/statsmodels/tsa/statespace/sarimax.py:978: UserWarning: Non-invertible starting MA parameters found. Using zeros as starting parameters.\n",
      "  warn('Non-invertible starting MA parameters found.'\n",
      "/home/hashim/.local/lib/python3.10/site-packages/statsmodels/base/model.py:607: ConvergenceWarning: Maximum Likelihood optimization failed to converge. Check mle_retvals\n",
      "  warnings.warn(\"Maximum Likelihood optimization failed to \"\n"
     ]
    },
    {
     "name": "stdout",
     "output_type": "stream",
     "text": [
      "{'p': 3, 'd': 0, 'q': 2, 'trend': 'ct'} MSE: 2.718960137270638\n"
     ]
    },
    {
     "name": "stderr",
     "output_type": "stream",
     "text": [
      "/home/hashim/.local/lib/python3.10/site-packages/statsmodels/base/model.py:607: ConvergenceWarning: Maximum Likelihood optimization failed to converge. Check mle_retvals\n",
      "  warnings.warn(\"Maximum Likelihood optimization failed to \"\n"
     ]
    },
    {
     "name": "stdout",
     "output_type": "stream",
     "text": [
      "{'p': 3, 'd': 0, 'q': 3, 'trend': 't'} MSE: 2.7194209364894957\n"
     ]
    },
    {
     "name": "stderr",
     "output_type": "stream",
     "text": [
      "/home/hashim/.local/lib/python3.10/site-packages/statsmodels/base/model.py:607: ConvergenceWarning: Maximum Likelihood optimization failed to converge. Check mle_retvals\n",
      "  warnings.warn(\"Maximum Likelihood optimization failed to \"\n"
     ]
    },
    {
     "name": "stdout",
     "output_type": "stream",
     "text": [
      "{'p': 3, 'd': 0, 'q': 3, 'trend': 'ct'} MSE: 2.718960137270638\n"
     ]
    },
    {
     "name": "stderr",
     "output_type": "stream",
     "text": [
      "/home/hashim/.local/lib/python3.10/site-packages/statsmodels/base/model.py:607: ConvergenceWarning: Maximum Likelihood optimization failed to converge. Check mle_retvals\n",
      "  warnings.warn(\"Maximum Likelihood optimization failed to \"\n"
     ]
    },
    {
     "name": "stdout",
     "output_type": "stream",
     "text": [
      "{'p': 3, 'd': 0, 'q': 3, 'trend': 'n'} MSE: 0.47555042647163637\n"
     ]
    },
    {
     "name": "stderr",
     "output_type": "stream",
     "text": [
      "/home/hashim/.local/lib/python3.10/site-packages/statsmodels/base/model.py:607: ConvergenceWarning: Maximum Likelihood optimization failed to converge. Check mle_retvals\n",
      "  warnings.warn(\"Maximum Likelihood optimization failed to \"\n"
     ]
    },
    {
     "name": "stdout",
     "output_type": "stream",
     "text": [
      "{'p': 3, 'd': 0, 'q': 4, 'trend': 'n'} MSE: 0.39651495379748886\n",
      "{'p': 3, 'd': 0, 'q': 2, 'trend': 'c'} MSE: 0.5293062930595284\n"
     ]
    },
    {
     "name": "stderr",
     "output_type": "stream",
     "text": [
      "/home/hashim/.local/lib/python3.10/site-packages/statsmodels/base/model.py:607: ConvergenceWarning: Maximum Likelihood optimization failed to converge. Check mle_retvals\n",
      "  warnings.warn(\"Maximum Likelihood optimization failed to \"\n"
     ]
    },
    {
     "name": "stdout",
     "output_type": "stream",
     "text": [
      "{'p': 3, 'd': 0, 'q': 4, 'trend': 't'} MSE: 0.5070357393773827\n"
     ]
    },
    {
     "name": "stderr",
     "output_type": "stream",
     "text": [
      "/home/hashim/.local/lib/python3.10/site-packages/statsmodels/base/model.py:607: ConvergenceWarning: Maximum Likelihood optimization failed to converge. Check mle_retvals\n",
      "  warnings.warn(\"Maximum Likelihood optimization failed to \"\n"
     ]
    },
    {
     "name": "stdout",
     "output_type": "stream",
     "text": [
      "{'p': 3, 'd': 0, 'q': 4, 'trend': 'ct'} MSE: 0.5070001899322447\n"
     ]
    },
    {
     "name": "stderr",
     "output_type": "stream",
     "text": [
      "/home/hashim/.local/lib/python3.10/site-packages/statsmodels/base/model.py:607: ConvergenceWarning: Maximum Likelihood optimization failed to converge. Check mle_retvals\n",
      "  warnings.warn(\"Maximum Likelihood optimization failed to \"\n"
     ]
    },
    {
     "name": "stdout",
     "output_type": "stream",
     "text": [
      "{'p': 3, 'd': 0, 'q': 3, 'trend': 'c'} MSE: 0.47733776484947726\n",
      "{'p': 3, 'd': 1, 'q': 0, 'trend': 'n'} MSE: 0.604295426774521\n",
      "{'p': 3, 'd': 1, 'q': 0, 'trend': 'c'} MSE: inf\n",
      "{'p': 3, 'd': 1, 'q': 0, 'trend': 't'} MSE: 0.6042954266471573\n",
      "{'p': 3, 'd': 1, 'q': 0, 'trend': 'ct'} MSE: inf\n",
      "{'p': 3, 'd': 0, 'q': 4, 'trend': 'c'} MSE: 0.3965149546775777\n",
      "{'p': 3, 'd': 1, 'q': 1, 'trend': 'c'} MSE: inf\n"
     ]
    },
    {
     "name": "stderr",
     "output_type": "stream",
     "text": [
      "/home/hashim/.local/lib/python3.10/site-packages/statsmodels/base/model.py:607: ConvergenceWarning: Maximum Likelihood optimization failed to converge. Check mle_retvals\n",
      "  warnings.warn(\"Maximum Likelihood optimization failed to \"\n",
      "/home/hashim/.local/lib/python3.10/site-packages/statsmodels/tsa/statespace/sarimax.py:966: UserWarning: Non-stationary starting autoregressive parameters found. Using zeros as starting parameters.\n",
      "  warn('Non-stationary starting autoregressive parameters'\n",
      "/home/hashim/.local/lib/python3.10/site-packages/statsmodels/tsa/statespace/sarimax.py:978: UserWarning: Non-invertible starting MA parameters found. Using zeros as starting parameters.\n",
      "  warn('Non-invertible starting MA parameters found.'\n"
     ]
    },
    {
     "name": "stdout",
     "output_type": "stream",
     "text": [
      "{'p': 3, 'd': 1, 'q': 1, 'trend': 'n'} MSE: 0.6034533889507532\n",
      "{'p': 3, 'd': 1, 'q': 1, 'trend': 'ct'} MSE: inf\n"
     ]
    },
    {
     "name": "stderr",
     "output_type": "stream",
     "text": [
      "/home/hashim/.local/lib/python3.10/site-packages/statsmodels/tsa/statespace/sarimax.py:966: UserWarning: Non-stationary starting autoregressive parameters found. Using zeros as starting parameters.\n",
      "  warn('Non-stationary starting autoregressive parameters'\n",
      "/home/hashim/.local/lib/python3.10/site-packages/statsmodels/tsa/statespace/sarimax.py:978: UserWarning: Non-invertible starting MA parameters found. Using zeros as starting parameters.\n",
      "  warn('Non-invertible starting MA parameters found.'\n"
     ]
    },
    {
     "name": "stdout",
     "output_type": "stream",
     "text": [
      "{'p': 3, 'd': 0, 'q': 5, 'trend': 'n'} MSE: 0.39477489330956694\n",
      "{'p': 3, 'd': 1, 'q': 2, 'trend': 'c'} MSE: inf\n"
     ]
    },
    {
     "name": "stderr",
     "output_type": "stream",
     "text": [
      "/home/hashim/.local/lib/python3.10/site-packages/statsmodels/base/model.py:607: ConvergenceWarning: Maximum Likelihood optimization failed to converge. Check mle_retvals\n",
      "  warnings.warn(\"Maximum Likelihood optimization failed to \"\n"
     ]
    },
    {
     "name": "stdout",
     "output_type": "stream",
     "text": [
      "{'p': 3, 'd': 0, 'q': 5, 'trend': 't'} MSE: 0.49588768347818935\n",
      "{'p': 3, 'd': 1, 'q': 2, 'trend': 'ct'} MSE: inf\n"
     ]
    },
    {
     "name": "stderr",
     "output_type": "stream",
     "text": [
      "/home/hashim/.local/lib/python3.10/site-packages/statsmodels/base/model.py:607: ConvergenceWarning: Maximum Likelihood optimization failed to converge. Check mle_retvals\n",
      "  warnings.warn(\"Maximum Likelihood optimization failed to \"\n"
     ]
    },
    {
     "name": "stdout",
     "output_type": "stream",
     "text": [
      "{'p': 3, 'd': 1, 'q': 1, 'trend': 't'} MSE: 0.6034533884416836\n",
      "{'p': 3, 'd': 1, 'q': 3, 'trend': 'c'} MSE: inf\n"
     ]
    },
    {
     "name": "stderr",
     "output_type": "stream",
     "text": [
      "/home/hashim/.local/lib/python3.10/site-packages/statsmodels/tsa/statespace/sarimax.py:966: UserWarning: Non-stationary starting autoregressive parameters found. Using zeros as starting parameters.\n",
      "  warn('Non-stationary starting autoregressive parameters'\n"
     ]
    },
    {
     "name": "stdout",
     "output_type": "stream",
     "text": [
      "{'p': 3, 'd': 0, 'q': 5, 'trend': 'ct'} MSE: 0.49586023592601003\n",
      "{'p': 3, 'd': 1, 'q': 3, 'trend': 'ct'} MSE: inf\n"
     ]
    },
    {
     "name": "stderr",
     "output_type": "stream",
     "text": [
      "/home/hashim/.local/lib/python3.10/site-packages/statsmodels/tsa/statespace/sarimax.py:978: UserWarning: Non-invertible starting MA parameters found. Using zeros as starting parameters.\n",
      "  warn('Non-invertible starting MA parameters found.'\n",
      "/home/hashim/.local/lib/python3.10/site-packages/statsmodels/base/model.py:607: ConvergenceWarning: Maximum Likelihood optimization failed to converge. Check mle_retvals\n",
      "  warnings.warn(\"Maximum Likelihood optimization failed to \"\n"
     ]
    },
    {
     "name": "stdout",
     "output_type": "stream",
     "text": [
      "{'p': 3, 'd': 1, 'q': 2, 'trend': 'n'} MSE: 0.4623795603963692\n",
      "{'p': 3, 'd': 1, 'q': 4, 'trend': 'c'} MSE: inf\n"
     ]
    },
    {
     "name": "stderr",
     "output_type": "stream",
     "text": [
      "/home/hashim/.local/lib/python3.10/site-packages/statsmodels/tsa/statespace/sarimax.py:966: UserWarning: Non-stationary starting autoregressive parameters found. Using zeros as starting parameters.\n",
      "  warn('Non-stationary starting autoregressive parameters'\n",
      "/home/hashim/.local/lib/python3.10/site-packages/statsmodels/tsa/statespace/sarimax.py:978: UserWarning: Non-invertible starting MA parameters found. Using zeros as starting parameters.\n",
      "  warn('Non-invertible starting MA parameters found.'\n",
      "/home/hashim/.local/lib/python3.10/site-packages/statsmodels/base/model.py:607: ConvergenceWarning: Maximum Likelihood optimization failed to converge. Check mle_retvals\n",
      "  warnings.warn(\"Maximum Likelihood optimization failed to \"\n"
     ]
    },
    {
     "name": "stdout",
     "output_type": "stream",
     "text": [
      "{'p': 3, 'd': 1, 'q': 3, 'trend': 'n'} MSE: 0.5500652378299519\n",
      "{'p': 3, 'd': 1, 'q': 4, 'trend': 'ct'} MSE: inf\n"
     ]
    },
    {
     "name": "stderr",
     "output_type": "stream",
     "text": [
      "/home/hashim/.local/lib/python3.10/site-packages/statsmodels/tsa/statespace/sarimax.py:978: UserWarning: Non-invertible starting MA parameters found. Using zeros as starting parameters.\n",
      "  warn('Non-invertible starting MA parameters found.'\n",
      "/home/hashim/.local/lib/python3.10/site-packages/statsmodels/base/model.py:607: ConvergenceWarning: Maximum Likelihood optimization failed to converge. Check mle_retvals\n",
      "  warnings.warn(\"Maximum Likelihood optimization failed to \"\n"
     ]
    },
    {
     "name": "stdout",
     "output_type": "stream",
     "text": [
      "{'p': 3, 'd': 0, 'q': 5, 'trend': 'c'} MSE: 0.39500357446067735\n",
      "{'p': 3, 'd': 1, 'q': 5, 'trend': 'c'} MSE: inf\n"
     ]
    },
    {
     "name": "stderr",
     "output_type": "stream",
     "text": [
      "/home/hashim/.local/lib/python3.10/site-packages/statsmodels/tsa/statespace/sarimax.py:978: UserWarning: Non-invertible starting MA parameters found. Using zeros as starting parameters.\n",
      "  warn('Non-invertible starting MA parameters found.'\n",
      "/home/hashim/.local/lib/python3.10/site-packages/statsmodels/base/model.py:607: ConvergenceWarning: Maximum Likelihood optimization failed to converge. Check mle_retvals\n",
      "  warnings.warn(\"Maximum Likelihood optimization failed to \"\n"
     ]
    },
    {
     "name": "stdout",
     "output_type": "stream",
     "text": [
      "{'p': 3, 'd': 1, 'q': 4, 'trend': 'n'} MSE: 0.5155818809731997\n",
      "{'p': 3, 'd': 1, 'q': 5, 'trend': 'ct'} MSE: inf\n",
      "{'p': 3, 'd': 2, 'q': 0, 'trend': 'n'} MSE: 0.7350381948643165\n",
      "{'p': 3, 'd': 2, 'q': 0, 'trend': 'c'} MSE: inf\n",
      "{'p': 3, 'd': 2, 'q': 0, 'trend': 't'} MSE: inf\n",
      "{'p': 3, 'd': 2, 'q': 0, 'trend': 'ct'} MSE: inf\n"
     ]
    },
    {
     "name": "stderr",
     "output_type": "stream",
     "text": [
      "/home/hashim/.local/lib/python3.10/site-packages/statsmodels/base/model.py:607: ConvergenceWarning: Maximum Likelihood optimization failed to converge. Check mle_retvals\n",
      "  warnings.warn(\"Maximum Likelihood optimization failed to \"\n",
      "/home/hashim/.local/lib/python3.10/site-packages/statsmodels/tsa/statespace/sarimax.py:978: UserWarning: Non-invertible starting MA parameters found. Using zeros as starting parameters.\n",
      "  warn('Non-invertible starting MA parameters found.'\n"
     ]
    },
    {
     "name": "stdout",
     "output_type": "stream",
     "text": [
      "{'p': 3, 'd': 1, 'q': 2, 'trend': 't'} MSE: 0.4619937469492727\n",
      "{'p': 3, 'd': 2, 'q': 1, 'trend': 'c'} MSE: inf\n",
      "{'p': 3, 'd': 2, 'q': 1, 'trend': 't'} MSE: inf\n",
      "{'p': 3, 'd': 2, 'q': 1, 'trend': 'ct'} MSE: inf\n",
      "{'p': 3, 'd': 1, 'q': 5, 'trend': 'n'} MSE: 0.48822862336183376\n",
      "{'p': 3, 'd': 2, 'q': 2, 'trend': 'c'} MSE: inf\n",
      "{'p': 3, 'd': 2, 'q': 2, 'trend': 't'} MSE: inf\n",
      "{'p': 3, 'd': 2, 'q': 2, 'trend': 'ct'} MSE: inf\n"
     ]
    },
    {
     "name": "stderr",
     "output_type": "stream",
     "text": [
      "/home/hashim/.local/lib/python3.10/site-packages/statsmodels/base/model.py:607: ConvergenceWarning: Maximum Likelihood optimization failed to converge. Check mle_retvals\n",
      "  warnings.warn(\"Maximum Likelihood optimization failed to \"\n"
     ]
    },
    {
     "name": "stdout",
     "output_type": "stream",
     "text": [
      "{'p': 3, 'd': 1, 'q': 3, 'trend': 't'} MSE: 0.5500606088592742\n",
      "{'p': 3, 'd': 2, 'q': 3, 'trend': 'c'} MSE: inf\n",
      "{'p': 3, 'd': 2, 'q': 3, 'trend': 't'} MSE: inf\n",
      "{'p': 3, 'd': 2, 'q': 3, 'trend': 'ct'} MSE: inf\n",
      "{'p': 3, 'd': 2, 'q': 1, 'trend': 'n'} MSE: 0.6043883861930254\n",
      "{'p': 3, 'd': 2, 'q': 4, 'trend': 'c'} MSE: inf\n",
      "{'p': 3, 'd': 2, 'q': 4, 'trend': 't'} MSE: inf\n",
      "{'p': 3, 'd': 2, 'q': 4, 'trend': 'ct'} MSE: inf\n"
     ]
    },
    {
     "name": "stderr",
     "output_type": "stream",
     "text": [
      "/home/hashim/.local/lib/python3.10/site-packages/statsmodels/base/model.py:607: ConvergenceWarning: Maximum Likelihood optimization failed to converge. Check mle_retvals\n",
      "  warnings.warn(\"Maximum Likelihood optimization failed to \"\n"
     ]
    },
    {
     "name": "stdout",
     "output_type": "stream",
     "text": [
      "{'p': 3, 'd': 2, 'q': 2, 'trend': 'n'} MSE: 0.6022603523891056\n",
      "{'p': 3, 'd': 2, 'q': 5, 'trend': 'c'} MSE: inf\n",
      "{'p': 3, 'd': 2, 'q': 5, 'trend': 't'} MSE: inf\n",
      "{'p': 3, 'd': 2, 'q': 5, 'trend': 'ct'} MSE: inf\n",
      "{'p': 3, 'd': 3, 'q': 0, 'trend': 'n'} MSE: 1.2221681141345238\n",
      "{'p': 3, 'd': 3, 'q': 0, 'trend': 'c'} MSE: inf\n",
      "{'p': 3, 'd': 3, 'q': 0, 'trend': 't'} MSE: inf\n",
      "{'p': 3, 'd': 3, 'q': 0, 'trend': 'ct'} MSE: inf\n"
     ]
    },
    {
     "name": "stderr",
     "output_type": "stream",
     "text": [
      "/home/hashim/.local/lib/python3.10/site-packages/statsmodels/base/model.py:607: ConvergenceWarning: Maximum Likelihood optimization failed to converge. Check mle_retvals\n",
      "  warnings.warn(\"Maximum Likelihood optimization failed to \"\n",
      "/home/hashim/.local/lib/python3.10/site-packages/statsmodels/tsa/statespace/sarimax.py:966: UserWarning: Non-stationary starting autoregressive parameters found. Using zeros as starting parameters.\n",
      "  warn('Non-stationary starting autoregressive parameters'\n"
     ]
    },
    {
     "name": "stdout",
     "output_type": "stream",
     "text": [
      "{'p': 3, 'd': 1, 'q': 4, 'trend': 't'} MSE: 0.522428878198856\n",
      "{'p': 3, 'd': 3, 'q': 1, 'trend': 'c'} MSE: inf\n",
      "{'p': 3, 'd': 3, 'q': 1, 'trend': 't'} MSE: inf\n",
      "{'p': 3, 'd': 3, 'q': 1, 'trend': 'ct'} MSE: inf\n"
     ]
    },
    {
     "name": "stderr",
     "output_type": "stream",
     "text": [
      "/home/hashim/.local/lib/python3.10/site-packages/statsmodels/tsa/statespace/sarimax.py:978: UserWarning: Non-invertible starting MA parameters found. Using zeros as starting parameters.\n",
      "  warn('Non-invertible starting MA parameters found.'\n",
      "/home/hashim/.local/lib/python3.10/site-packages/statsmodels/base/model.py:607: ConvergenceWarning: Maximum Likelihood optimization failed to converge. Check mle_retvals\n",
      "  warnings.warn(\"Maximum Likelihood optimization failed to \"\n",
      "/home/hashim/.local/lib/python3.10/site-packages/statsmodels/base/model.py:607: ConvergenceWarning: Maximum Likelihood optimization failed to converge. Check mle_retvals\n",
      "  warnings.warn(\"Maximum Likelihood optimization failed to \"\n"
     ]
    },
    {
     "name": "stdout",
     "output_type": "stream",
     "text": [
      "{'p': 3, 'd': 3, 'q': 1, 'trend': 'n'} MSE: 0.7351765644718554\n",
      "{'p': 3, 'd': 3, 'q': 2, 'trend': 'c'} MSE: inf\n",
      "{'p': 3, 'd': 3, 'q': 2, 'trend': 't'} MSE: inf\n",
      "{'p': 3, 'd': 3, 'q': 2, 'trend': 'ct'} MSE: inf\n"
     ]
    },
    {
     "name": "stderr",
     "output_type": "stream",
     "text": [
      "/home/hashim/.local/lib/python3.10/site-packages/statsmodels/tsa/statespace/sarimax.py:978: UserWarning: Non-invertible starting MA parameters found. Using zeros as starting parameters.\n",
      "  warn('Non-invertible starting MA parameters found.'\n"
     ]
    },
    {
     "name": "stdout",
     "output_type": "stream",
     "text": [
      "{'p': 3, 'd': 2, 'q': 3, 'trend': 'n'} MSE: 0.5046677242797546\n",
      "{'p': 3, 'd': 3, 'q': 3, 'trend': 'c'} MSE: inf\n",
      "{'p': 3, 'd': 3, 'q': 3, 'trend': 't'} MSE: inf\n",
      "{'p': 3, 'd': 3, 'q': 3, 'trend': 'ct'} MSE: inf\n",
      "{'p': 3, 'd': 2, 'q': 4, 'trend': 'n'} MSE: 0.549424192046727\n",
      "{'p': 3, 'd': 3, 'q': 4, 'trend': 'c'} MSE: inf\n",
      "{'p': 3, 'd': 3, 'q': 4, 'trend': 't'} MSE: inf\n",
      "{'p': 3, 'd': 3, 'q': 4, 'trend': 'ct'} MSE: inf\n"
     ]
    },
    {
     "name": "stderr",
     "output_type": "stream",
     "text": [
      "/home/hashim/.local/lib/python3.10/site-packages/statsmodels/base/model.py:607: ConvergenceWarning: Maximum Likelihood optimization failed to converge. Check mle_retvals\n",
      "  warnings.warn(\"Maximum Likelihood optimization failed to \"\n"
     ]
    },
    {
     "name": "stdout",
     "output_type": "stream",
     "text": [
      "{'p': 3, 'd': 3, 'q': 2, 'trend': 'n'} MSE: 0.6068177692556136\n",
      "{'p': 3, 'd': 3, 'q': 5, 'trend': 'c'} MSE: inf\n",
      "{'p': 3, 'd': 3, 'q': 5, 'trend': 't'} MSE: inf\n",
      "{'p': 3, 'd': 3, 'q': 5, 'trend': 'ct'} MSE: inf\n",
      "{'p': 3, 'd': 2, 'q': 5, 'trend': 'n'} MSE: 0.5508295413508096\n",
      "{'p': 3, 'd': 4, 'q': 0, 'trend': 'c'} MSE: inf\n",
      "{'p': 3, 'd': 4, 'q': 0, 'trend': 't'} MSE: inf\n",
      "{'p': 3, 'd': 4, 'q': 0, 'trend': 'ct'} MSE: inf\n"
     ]
    },
    {
     "name": "stderr",
     "output_type": "stream",
     "text": [
      "/home/hashim/.local/lib/python3.10/site-packages/statsmodels/tsa/statespace/sarimax.py:966: UserWarning: Non-stationary starting autoregressive parameters found. Using zeros as starting parameters.\n",
      "  warn('Non-stationary starting autoregressive parameters'\n",
      "/home/hashim/.local/lib/python3.10/site-packages/statsmodels/tsa/statespace/sarimax.py:978: UserWarning: Non-invertible starting MA parameters found. Using zeros as starting parameters.\n",
      "  warn('Non-invertible starting MA parameters found.'\n"
     ]
    },
    {
     "name": "stdout",
     "output_type": "stream",
     "text": [
      "{'p': 3, 'd': 4, 'q': 0, 'trend': 'n'} MSE: 2.324683674647312\n",
      "{'p': 3, 'd': 4, 'q': 1, 'trend': 'c'} MSE: inf\n",
      "{'p': 3, 'd': 4, 'q': 1, 'trend': 't'} MSE: inf\n",
      "{'p': 3, 'd': 4, 'q': 1, 'trend': 'ct'} MSE: inf\n"
     ]
    },
    {
     "name": "stderr",
     "output_type": "stream",
     "text": [
      "/home/hashim/.local/lib/python3.10/site-packages/statsmodels/base/model.py:607: ConvergenceWarning: Maximum Likelihood optimization failed to converge. Check mle_retvals\n",
      "  warnings.warn(\"Maximum Likelihood optimization failed to \"\n",
      "/home/hashim/.local/lib/python3.10/site-packages/statsmodels/tsa/statespace/sarimax.py:978: UserWarning: Non-invertible starting MA parameters found. Using zeros as starting parameters.\n",
      "  warn('Non-invertible starting MA parameters found.'\n"
     ]
    },
    {
     "name": "stdout",
     "output_type": "stream",
     "text": [
      "{'p': 3, 'd': 1, 'q': 5, 'trend': 't'} MSE: 0.49631437209361445\n",
      "{'p': 3, 'd': 4, 'q': 2, 'trend': 'c'} MSE: inf\n",
      "{'p': 3, 'd': 4, 'q': 2, 'trend': 't'} MSE: inf\n",
      "{'p': 3, 'd': 4, 'q': 2, 'trend': 'ct'} MSE: inf\n"
     ]
    },
    {
     "name": "stderr",
     "output_type": "stream",
     "text": [
      "/home/hashim/.local/lib/python3.10/site-packages/statsmodels/tsa/statespace/sarimax.py:978: UserWarning: Non-invertible starting MA parameters found. Using zeros as starting parameters.\n",
      "  warn('Non-invertible starting MA parameters found.'\n"
     ]
    },
    {
     "name": "stdout",
     "output_type": "stream",
     "text": [
      "{'p': 3, 'd': 4, 'q': 1, 'trend': 'n'} MSE: 1.2226996132880912\n",
      "{'p': 3, 'd': 4, 'q': 3, 'trend': 'c'} MSE: inf\n",
      "{'p': 3, 'd': 4, 'q': 3, 'trend': 't'} MSE: inf\n",
      "{'p': 3, 'd': 4, 'q': 3, 'trend': 'ct'} MSE: inf\n",
      "{'p': 3, 'd': 4, 'q': 2, 'trend': 'n'} MSE: 0.7370050664894268\n",
      "{'p': 3, 'd': 4, 'q': 4, 'trend': 'c'} MSE: inf\n",
      "{'p': 3, 'd': 4, 'q': 4, 'trend': 't'} MSE: inf\n",
      "{'p': 3, 'd': 4, 'q': 4, 'trend': 'ct'} MSE: inf\n"
     ]
    },
    {
     "name": "stderr",
     "output_type": "stream",
     "text": [
      "/home/hashim/.local/lib/python3.10/site-packages/statsmodels/tsa/statespace/sarimax.py:978: UserWarning: Non-invertible starting MA parameters found. Using zeros as starting parameters.\n",
      "  warn('Non-invertible starting MA parameters found.'\n",
      "/home/hashim/.local/lib/python3.10/site-packages/statsmodels/base/model.py:607: ConvergenceWarning: Maximum Likelihood optimization failed to converge. Check mle_retvals\n",
      "  warnings.warn(\"Maximum Likelihood optimization failed to \"\n"
     ]
    },
    {
     "name": "stdout",
     "output_type": "stream",
     "text": [
      "{'p': 3, 'd': 3, 'q': 4, 'trend': 'n'} MSE: 0.529004997143725\n",
      "{'p': 3, 'd': 4, 'q': 5, 'trend': 'c'} MSE: inf\n",
      "{'p': 3, 'd': 4, 'q': 5, 'trend': 't'} MSE: inf\n",
      "{'p': 3, 'd': 4, 'q': 5, 'trend': 'ct'} MSE: inf\n",
      "{'p': 3, 'd': 5, 'q': 0, 'trend': 'n'} MSE: 4.964015085086558\n",
      "{'p': 3, 'd': 5, 'q': 0, 'trend': 'c'} MSE: inf\n",
      "{'p': 3, 'd': 5, 'q': 0, 'trend': 't'} MSE: inf\n",
      "{'p': 3, 'd': 5, 'q': 0, 'trend': 'ct'} MSE: inf\n"
     ]
    },
    {
     "name": "stderr",
     "output_type": "stream",
     "text": [
      "/home/hashim/.local/lib/python3.10/site-packages/statsmodels/base/model.py:607: ConvergenceWarning: Maximum Likelihood optimization failed to converge. Check mle_retvals\n",
      "  warnings.warn(\"Maximum Likelihood optimization failed to \"\n",
      "/home/hashim/.local/lib/python3.10/site-packages/statsmodels/base/model.py:607: ConvergenceWarning: Maximum Likelihood optimization failed to converge. Check mle_retvals\n",
      "  warnings.warn(\"Maximum Likelihood optimization failed to \"\n"
     ]
    },
    {
     "name": "stdout",
     "output_type": "stream",
     "text": [
      "{'p': 3, 'd': 3, 'q': 3, 'trend': 'n'} MSE: 0.6587172354193117\n",
      "{'p': 3, 'd': 5, 'q': 1, 'trend': 'c'} MSE: inf\n",
      "{'p': 3, 'd': 5, 'q': 1, 'trend': 't'} MSE: inf\n",
      "{'p': 3, 'd': 5, 'q': 1, 'trend': 'ct'} MSE: inf\n"
     ]
    },
    {
     "name": "stderr",
     "output_type": "stream",
     "text": [
      "/home/hashim/.local/lib/python3.10/site-packages/statsmodels/tsa/statespace/sarimax.py:978: UserWarning: Non-invertible starting MA parameters found. Using zeros as starting parameters.\n",
      "  warn('Non-invertible starting MA parameters found.'\n",
      "/home/hashim/.local/lib/python3.10/site-packages/statsmodels/tsa/statespace/sarimax.py:978: UserWarning: Non-invertible starting MA parameters found. Using zeros as starting parameters.\n",
      "  warn('Non-invertible starting MA parameters found.'\n"
     ]
    },
    {
     "name": "stdout",
     "output_type": "stream",
     "text": [
      "{'p': 3, 'd': 3, 'q': 5, 'trend': 'n'} MSE: 0.5309855813559111\n",
      "{'p': 3, 'd': 5, 'q': 2, 'trend': 'c'} MSE: inf\n",
      "{'p': 3, 'd': 5, 'q': 2, 'trend': 't'} MSE: inf\n",
      "{'p': 3, 'd': 5, 'q': 2, 'trend': 'ct'} MSE: inf\n"
     ]
    },
    {
     "name": "stderr",
     "output_type": "stream",
     "text": [
      "/home/hashim/.local/lib/python3.10/site-packages/statsmodels/base/model.py:607: ConvergenceWarning: Maximum Likelihood optimization failed to converge. Check mle_retvals\n",
      "  warnings.warn(\"Maximum Likelihood optimization failed to \"\n",
      "/home/hashim/.local/lib/python3.10/site-packages/statsmodels/tsa/statespace/sarimax.py:978: UserWarning: Non-invertible starting MA parameters found. Using zeros as starting parameters.\n",
      "  warn('Non-invertible starting MA parameters found.'\n"
     ]
    },
    {
     "name": "stdout",
     "output_type": "stream",
     "text": [
      "{'p': 3, 'd': 4, 'q': 4, 'trend': 'n'} MSE: 0.7501415668541915\n",
      "{'p': 3, 'd': 5, 'q': 3, 'trend': 'c'} MSE: inf\n",
      "{'p': 3, 'd': 5, 'q': 3, 'trend': 't'} MSE: inf\n",
      "{'p': 3, 'd': 5, 'q': 3, 'trend': 'ct'} MSE: inf\n",
      "{'p': 3, 'd': 5, 'q': 3, 'trend': 'n'} MSE: 1.4323088059253894\n",
      "{'p': 3, 'd': 5, 'q': 4, 'trend': 'c'} MSE: inf\n",
      "{'p': 3, 'd': 5, 'q': 4, 'trend': 't'} MSE: inf\n",
      "{'p': 3, 'd': 5, 'q': 4, 'trend': 'ct'} MSE: inf\n"
     ]
    },
    {
     "name": "stderr",
     "output_type": "stream",
     "text": [
      "/home/hashim/.local/lib/python3.10/site-packages/statsmodels/tsa/statespace/sarimax.py:978: UserWarning: Non-invertible starting MA parameters found. Using zeros as starting parameters.\n",
      "  warn('Non-invertible starting MA parameters found.'\n",
      "/home/hashim/.local/lib/python3.10/site-packages/statsmodels/base/model.py:607: ConvergenceWarning: Maximum Likelihood optimization failed to converge. Check mle_retvals\n",
      "  warnings.warn(\"Maximum Likelihood optimization failed to \"\n"
     ]
    },
    {
     "name": "stdout",
     "output_type": "stream",
     "text": [
      "{'p': 3, 'd': 4, 'q': 3, 'trend': 'n'} MSE: 1.2766894565639766\n",
      "{'p': 3, 'd': 5, 'q': 5, 'trend': 'c'} MSE: inf\n",
      "{'p': 3, 'd': 5, 'q': 5, 'trend': 't'} MSE: inf\n",
      "{'p': 3, 'd': 5, 'q': 5, 'trend': 'ct'} MSE: inf\n",
      "{'p': 3, 'd': 5, 'q': 1, 'trend': 'n'} MSE: 2.325306993339534\n",
      "{'p': 4, 'd': 0, 'q': 0, 'trend': 'n'} MSE: 0.5547486352808789\n",
      "{'p': 4, 'd': 0, 'q': 0, 'trend': 'c'} MSE: 0.5547486352367372\n",
      "{'p': 3, 'd': 5, 'q': 2, 'trend': 'n'} MSE: 1.225322738964453\n"
     ]
    },
    {
     "name": "stderr",
     "output_type": "stream",
     "text": [
      "/home/hashim/.local/lib/python3.10/site-packages/statsmodels/base/model.py:607: ConvergenceWarning: Maximum Likelihood optimization failed to converge. Check mle_retvals\n",
      "  warnings.warn(\"Maximum Likelihood optimization failed to \"\n"
     ]
    },
    {
     "name": "stdout",
     "output_type": "stream",
     "text": [
      "{'p': 4, 'd': 0, 'q': 1, 'trend': 'n'} MSE: 0.524242336824646\n",
      "{'p': 4, 'd': 0, 'q': 0, 'trend': 't'} MSE: 0.5547451467544585\n"
     ]
    },
    {
     "name": "stderr",
     "output_type": "stream",
     "text": [
      "/home/hashim/.local/lib/python3.10/site-packages/statsmodels/base/model.py:607: ConvergenceWarning: Maximum Likelihood optimization failed to converge. Check mle_retvals\n",
      "  warnings.warn(\"Maximum Likelihood optimization failed to \"\n"
     ]
    },
    {
     "name": "stdout",
     "output_type": "stream",
     "text": [
      "{'p': 4, 'd': 0, 'q': 0, 'trend': 'ct'} MSE: 0.5547358935510034\n"
     ]
    },
    {
     "name": "stderr",
     "output_type": "stream",
     "text": [
      "/home/hashim/.local/lib/python3.10/site-packages/statsmodels/base/model.py:607: ConvergenceWarning: Maximum Likelihood optimization failed to converge. Check mle_retvals\n",
      "  warnings.warn(\"Maximum Likelihood optimization failed to \"\n",
      "/home/hashim/.local/lib/python3.10/site-packages/statsmodels/tsa/statespace/sarimax.py:966: UserWarning: Non-stationary starting autoregressive parameters found. Using zeros as starting parameters.\n",
      "  warn('Non-stationary starting autoregressive parameters'\n",
      "/home/hashim/.local/lib/python3.10/site-packages/statsmodels/tsa/statespace/sarimax.py:978: UserWarning: Non-invertible starting MA parameters found. Using zeros as starting parameters.\n",
      "  warn('Non-invertible starting MA parameters found.'\n"
     ]
    },
    {
     "name": "stdout",
     "output_type": "stream",
     "text": [
      "{'p': 3, 'd': 5, 'q': 4, 'trend': 'n'} MSE: 1.631864149349625\n"
     ]
    },
    {
     "name": "stderr",
     "output_type": "stream",
     "text": [
      "/home/hashim/.local/lib/python3.10/site-packages/statsmodels/base/model.py:607: ConvergenceWarning: Maximum Likelihood optimization failed to converge. Check mle_retvals\n",
      "  warnings.warn(\"Maximum Likelihood optimization failed to \"\n",
      "/home/hashim/.local/lib/python3.10/site-packages/statsmodels/tsa/statespace/sarimax.py:966: UserWarning: Non-stationary starting autoregressive parameters found. Using zeros as starting parameters.\n",
      "  warn('Non-stationary starting autoregressive parameters'\n",
      "/home/hashim/.local/lib/python3.10/site-packages/statsmodels/tsa/statespace/sarimax.py:978: UserWarning: Non-invertible starting MA parameters found. Using zeros as starting parameters.\n",
      "  warn('Non-invertible starting MA parameters found.'\n"
     ]
    },
    {
     "name": "stdout",
     "output_type": "stream",
     "text": [
      "{'p': 4, 'd': 0, 'q': 1, 'trend': 't'} MSE: 0.558611919077273\n"
     ]
    },
    {
     "name": "stderr",
     "output_type": "stream",
     "text": [
      "/home/hashim/.local/lib/python3.10/site-packages/statsmodels/tsa/statespace/sarimax.py:966: UserWarning: Non-stationary starting autoregressive parameters found. Using zeros as starting parameters.\n",
      "  warn('Non-stationary starting autoregressive parameters'\n",
      "/home/hashim/.local/lib/python3.10/site-packages/statsmodels/tsa/statespace/sarimax.py:978: UserWarning: Non-invertible starting MA parameters found. Using zeros as starting parameters.\n",
      "  warn('Non-invertible starting MA parameters found.'\n"
     ]
    },
    {
     "name": "stdout",
     "output_type": "stream",
     "text": [
      "{'p': 3, 'd': 5, 'q': 5, 'trend': 'n'} MSE: 1.0635063480779305\n"
     ]
    },
    {
     "name": "stderr",
     "output_type": "stream",
     "text": [
      "/home/hashim/.local/lib/python3.10/site-packages/statsmodels/base/model.py:607: ConvergenceWarning: Maximum Likelihood optimization failed to converge. Check mle_retvals\n",
      "  warnings.warn(\"Maximum Likelihood optimization failed to \"\n"
     ]
    },
    {
     "name": "stdout",
     "output_type": "stream",
     "text": [
      "{'p': 4, 'd': 0, 'q': 1, 'trend': 'c'} MSE: 0.5242423390506639\n"
     ]
    },
    {
     "name": "stderr",
     "output_type": "stream",
     "text": [
      "/home/hashim/.local/lib/python3.10/site-packages/statsmodels/tsa/statespace/sarimax.py:966: UserWarning: Non-stationary starting autoregressive parameters found. Using zeros as starting parameters.\n",
      "  warn('Non-stationary starting autoregressive parameters'\n",
      "/home/hashim/.local/lib/python3.10/site-packages/statsmodels/tsa/statespace/sarimax.py:978: UserWarning: Non-invertible starting MA parameters found. Using zeros as starting parameters.\n",
      "  warn('Non-invertible starting MA parameters found.'\n",
      "/home/hashim/.local/lib/python3.10/site-packages/statsmodels/tsa/statespace/sarimax.py:966: UserWarning: Non-stationary starting autoregressive parameters found. Using zeros as starting parameters.\n",
      "  warn('Non-stationary starting autoregressive parameters'\n",
      "/home/hashim/.local/lib/python3.10/site-packages/statsmodels/tsa/statespace/sarimax.py:978: UserWarning: Non-invertible starting MA parameters found. Using zeros as starting parameters.\n",
      "  warn('Non-invertible starting MA parameters found.'\n"
     ]
    },
    {
     "name": "stdout",
     "output_type": "stream",
     "text": [
      "{'p': 4, 'd': 0, 'q': 1, 'trend': 'ct'} MSE: 0.5586037193915662\n"
     ]
    },
    {
     "name": "stderr",
     "output_type": "stream",
     "text": [
      "/home/hashim/.local/lib/python3.10/site-packages/statsmodels/base/model.py:607: ConvergenceWarning: Maximum Likelihood optimization failed to converge. Check mle_retvals\n",
      "  warnings.warn(\"Maximum Likelihood optimization failed to \"\n",
      "/home/hashim/.local/lib/python3.10/site-packages/statsmodels/tsa/statespace/sarimax.py:966: UserWarning: Non-stationary starting autoregressive parameters found. Using zeros as starting parameters.\n",
      "  warn('Non-stationary starting autoregressive parameters'\n"
     ]
    },
    {
     "name": "stdout",
     "output_type": "stream",
     "text": [
      "{'p': 4, 'd': 0, 'q': 2, 'trend': 't'} MSE: 2.7194209364894957\n"
     ]
    },
    {
     "name": "stderr",
     "output_type": "stream",
     "text": [
      "/home/hashim/.local/lib/python3.10/site-packages/statsmodels/tsa/statespace/sarimax.py:978: UserWarning: Non-invertible starting MA parameters found. Using zeros as starting parameters.\n",
      "  warn('Non-invertible starting MA parameters found.'\n",
      "/home/hashim/.local/lib/python3.10/site-packages/statsmodels/base/model.py:607: ConvergenceWarning: Maximum Likelihood optimization failed to converge. Check mle_retvals\n",
      "  warnings.warn(\"Maximum Likelihood optimization failed to \"\n",
      "/home/hashim/.local/lib/python3.10/site-packages/statsmodels/tsa/statespace/sarimax.py:966: UserWarning: Non-stationary starting autoregressive parameters found. Using zeros as starting parameters.\n",
      "  warn('Non-stationary starting autoregressive parameters'\n",
      "/home/hashim/.local/lib/python3.10/site-packages/statsmodels/tsa/statespace/sarimax.py:978: UserWarning: Non-invertible starting MA parameters found. Using zeros as starting parameters.\n",
      "  warn('Non-invertible starting MA parameters found.'\n"
     ]
    },
    {
     "name": "stdout",
     "output_type": "stream",
     "text": [
      "{'p': 4, 'd': 0, 'q': 2, 'trend': 'n'} MSE: 0.4691600781748149\n"
     ]
    },
    {
     "name": "stderr",
     "output_type": "stream",
     "text": [
      "/home/hashim/.local/lib/python3.10/site-packages/statsmodels/base/model.py:607: ConvergenceWarning: Maximum Likelihood optimization failed to converge. Check mle_retvals\n",
      "  warnings.warn(\"Maximum Likelihood optimization failed to \"\n"
     ]
    },
    {
     "name": "stdout",
     "output_type": "stream",
     "text": [
      "{'p': 4, 'd': 0, 'q': 2, 'trend': 'ct'} MSE: 2.718960137270638\n"
     ]
    },
    {
     "name": "stderr",
     "output_type": "stream",
     "text": [
      "/home/hashim/.local/lib/python3.10/site-packages/statsmodels/tsa/statespace/sarimax.py:966: UserWarning: Non-stationary starting autoregressive parameters found. Using zeros as starting parameters.\n",
      "  warn('Non-stationary starting autoregressive parameters'\n",
      "/home/hashim/.local/lib/python3.10/site-packages/statsmodels/tsa/statespace/sarimax.py:978: UserWarning: Non-invertible starting MA parameters found. Using zeros as starting parameters.\n",
      "  warn('Non-invertible starting MA parameters found.'\n",
      "/home/hashim/.local/lib/python3.10/site-packages/statsmodels/base/model.py:607: ConvergenceWarning: Maximum Likelihood optimization failed to converge. Check mle_retvals\n",
      "  warnings.warn(\"Maximum Likelihood optimization failed to \"\n"
     ]
    },
    {
     "name": "stdout",
     "output_type": "stream",
     "text": [
      "{'p': 4, 'd': 0, 'q': 3, 'trend': 'n'} MSE: 0.45308813741525117\n"
     ]
    },
    {
     "name": "stderr",
     "output_type": "stream",
     "text": [
      "/home/hashim/.local/lib/python3.10/site-packages/statsmodels/base/model.py:607: ConvergenceWarning: Maximum Likelihood optimization failed to converge. Check mle_retvals\n",
      "  warnings.warn(\"Maximum Likelihood optimization failed to \"\n"
     ]
    },
    {
     "name": "stdout",
     "output_type": "stream",
     "text": [
      "{'p': 4, 'd': 0, 'q': 3, 'trend': 't'} MSE: 2.7194209364894957\n"
     ]
    },
    {
     "name": "stderr",
     "output_type": "stream",
     "text": [
      "/home/hashim/.local/lib/python3.10/site-packages/statsmodels/base/model.py:607: ConvergenceWarning: Maximum Likelihood optimization failed to converge. Check mle_retvals\n",
      "  warnings.warn(\"Maximum Likelihood optimization failed to \"\n"
     ]
    },
    {
     "name": "stdout",
     "output_type": "stream",
     "text": [
      "{'p': 4, 'd': 0, 'q': 3, 'trend': 'ct'} MSE: 2.718960137270638\n"
     ]
    },
    {
     "name": "stderr",
     "output_type": "stream",
     "text": [
      "/home/hashim/.local/lib/python3.10/site-packages/statsmodels/base/model.py:607: ConvergenceWarning: Maximum Likelihood optimization failed to converge. Check mle_retvals\n",
      "  warnings.warn(\"Maximum Likelihood optimization failed to \"\n"
     ]
    },
    {
     "name": "stdout",
     "output_type": "stream",
     "text": [
      "{'p': 4, 'd': 0, 'q': 2, 'trend': 'c'} MSE: 0.46781556733543467\n"
     ]
    },
    {
     "name": "stderr",
     "output_type": "stream",
     "text": [
      "/home/hashim/.local/lib/python3.10/site-packages/statsmodels/base/model.py:607: ConvergenceWarning: Maximum Likelihood optimization failed to converge. Check mle_retvals\n",
      "  warnings.warn(\"Maximum Likelihood optimization failed to \"\n"
     ]
    },
    {
     "name": "stdout",
     "output_type": "stream",
     "text": [
      "{'p': 4, 'd': 0, 'q': 4, 'trend': 'n'} MSE: 0.38064092417414863\n"
     ]
    },
    {
     "name": "stderr",
     "output_type": "stream",
     "text": [
      "/home/hashim/.local/lib/python3.10/site-packages/statsmodels/base/model.py:607: ConvergenceWarning: Maximum Likelihood optimization failed to converge. Check mle_retvals\n",
      "  warnings.warn(\"Maximum Likelihood optimization failed to \"\n"
     ]
    },
    {
     "name": "stdout",
     "output_type": "stream",
     "text": [
      "{'p': 4, 'd': 0, 'q': 4, 'trend': 't'} MSE: 0.5085745172477893\n"
     ]
    },
    {
     "name": "stderr",
     "output_type": "stream",
     "text": [
      "/home/hashim/.local/lib/python3.10/site-packages/statsmodels/base/model.py:607: ConvergenceWarning: Maximum Likelihood optimization failed to converge. Check mle_retvals\n",
      "  warnings.warn(\"Maximum Likelihood optimization failed to \"\n"
     ]
    },
    {
     "name": "stdout",
     "output_type": "stream",
     "text": [
      "{'p': 4, 'd': 0, 'q': 3, 'trend': 'c'} MSE: 0.45301998370151725\n",
      "{'p': 4, 'd': 0, 'q': 4, 'trend': 'ct'} MSE: 0.5085344147846271\n"
     ]
    },
    {
     "name": "stderr",
     "output_type": "stream",
     "text": [
      "/home/hashim/.local/lib/python3.10/site-packages/statsmodels/base/model.py:607: ConvergenceWarning: Maximum Likelihood optimization failed to converge. Check mle_retvals\n",
      "  warnings.warn(\"Maximum Likelihood optimization failed to \"\n"
     ]
    },
    {
     "name": "stdout",
     "output_type": "stream",
     "text": [
      "{'p': 4, 'd': 0, 'q': 5, 'trend': 'n'} MSE: 0.3544011118922517\n",
      "{'p': 4, 'd': 1, 'q': 0, 'trend': 'n'} MSE: 0.6040145681164338\n",
      "{'p': 4, 'd': 1, 'q': 0, 'trend': 'c'} MSE: inf\n",
      "{'p': 4, 'd': 1, 'q': 0, 'trend': 't'} MSE: 0.6040145679740523\n",
      "{'p': 4, 'd': 1, 'q': 0, 'trend': 'ct'} MSE: inf\n"
     ]
    },
    {
     "name": "stderr",
     "output_type": "stream",
     "text": [
      "/home/hashim/.local/lib/python3.10/site-packages/statsmodels/base/model.py:607: ConvergenceWarning: Maximum Likelihood optimization failed to converge. Check mle_retvals\n",
      "  warnings.warn(\"Maximum Likelihood optimization failed to \"\n"
     ]
    },
    {
     "name": "stdout",
     "output_type": "stream",
     "text": [
      "{'p': 4, 'd': 1, 'q': 1, 'trend': 'n'} MSE: 0.6040163066143188\n",
      "{'p': 4, 'd': 1, 'q': 1, 'trend': 'c'} MSE: inf\n"
     ]
    },
    {
     "name": "stderr",
     "output_type": "stream",
     "text": [
      "/home/hashim/.local/lib/python3.10/site-packages/statsmodels/tsa/statespace/sarimax.py:966: UserWarning: Non-stationary starting autoregressive parameters found. Using zeros as starting parameters.\n",
      "  warn('Non-stationary starting autoregressive parameters'\n",
      "/home/hashim/.local/lib/python3.10/site-packages/statsmodels/tsa/statespace/sarimax.py:978: UserWarning: Non-invertible starting MA parameters found. Using zeros as starting parameters.\n",
      "  warn('Non-invertible starting MA parameters found.'\n"
     ]
    },
    {
     "name": "stdout",
     "output_type": "stream",
     "text": [
      "{'p': 4, 'd': 0, 'q': 4, 'trend': 'c'} MSE: 0.38067251559917575\n",
      "{'p': 4, 'd': 1, 'q': 1, 'trend': 'ct'} MSE: inf\n"
     ]
    },
    {
     "name": "stderr",
     "output_type": "stream",
     "text": [
      "/home/hashim/.local/lib/python3.10/site-packages/statsmodels/base/model.py:607: ConvergenceWarning: Maximum Likelihood optimization failed to converge. Check mle_retvals\n",
      "  warnings.warn(\"Maximum Likelihood optimization failed to \"\n",
      "/home/hashim/.local/lib/python3.10/site-packages/statsmodels/tsa/statespace/sarimax.py:966: UserWarning: Non-stationary starting autoregressive parameters found. Using zeros as starting parameters.\n",
      "  warn('Non-stationary starting autoregressive parameters'\n",
      "/home/hashim/.local/lib/python3.10/site-packages/statsmodels/tsa/statespace/sarimax.py:978: UserWarning: Non-invertible starting MA parameters found. Using zeros as starting parameters.\n",
      "  warn('Non-invertible starting MA parameters found.'\n"
     ]
    },
    {
     "name": "stdout",
     "output_type": "stream",
     "text": [
      "{'p': 4, 'd': 0, 'q': 5, 'trend': 't'} MSE: 0.5028538304443326\n",
      "{'p': 4, 'd': 1, 'q': 2, 'trend': 'c'} MSE: inf\n",
      "{'p': 4, 'd': 1, 'q': 1, 'trend': 't'} MSE: 0.6040163063316846\n",
      "{'p': 4, 'd': 1, 'q': 2, 'trend': 'ct'} MSE: inf\n"
     ]
    },
    {
     "name": "stderr",
     "output_type": "stream",
     "text": [
      "/home/hashim/.local/lib/python3.10/site-packages/statsmodels/tsa/statespace/sarimax.py:966: UserWarning: Non-stationary starting autoregressive parameters found. Using zeros as starting parameters.\n",
      "  warn('Non-stationary starting autoregressive parameters'\n",
      "/home/hashim/.local/lib/python3.10/site-packages/statsmodels/tsa/statespace/sarimax.py:978: UserWarning: Non-invertible starting MA parameters found. Using zeros as starting parameters.\n",
      "  warn('Non-invertible starting MA parameters found.'\n",
      "/home/hashim/.local/lib/python3.10/site-packages/statsmodels/base/model.py:607: ConvergenceWarning: Maximum Likelihood optimization failed to converge. Check mle_retvals\n",
      "  warnings.warn(\"Maximum Likelihood optimization failed to \"\n",
      "/home/hashim/.local/lib/python3.10/site-packages/statsmodels/tsa/statespace/sarimax.py:966: UserWarning: Non-stationary starting autoregressive parameters found. Using zeros as starting parameters.\n",
      "  warn('Non-stationary starting autoregressive parameters'\n",
      "/home/hashim/.local/lib/python3.10/site-packages/statsmodels/tsa/statespace/sarimax.py:978: UserWarning: Non-invertible starting MA parameters found. Using zeros as starting parameters.\n",
      "  warn('Non-invertible starting MA parameters found.'\n"
     ]
    },
    {
     "name": "stdout",
     "output_type": "stream",
     "text": [
      "{'p': 4, 'd': 0, 'q': 5, 'trend': 'ct'} MSE: 0.502824211829997\n",
      "{'p': 4, 'd': 1, 'q': 3, 'trend': 'c'} MSE: inf\n",
      "{'p': 4, 'd': 1, 'q': 2, 'trend': 'n'} MSE: 0.6028757830241176\n",
      "{'p': 4, 'd': 1, 'q': 3, 'trend': 'ct'} MSE: inf\n"
     ]
    },
    {
     "name": "stderr",
     "output_type": "stream",
     "text": [
      "/home/hashim/.local/lib/python3.10/site-packages/statsmodels/base/model.py:607: ConvergenceWarning: Maximum Likelihood optimization failed to converge. Check mle_retvals\n",
      "  warnings.warn(\"Maximum Likelihood optimization failed to \"\n"
     ]
    },
    {
     "name": "stdout",
     "output_type": "stream",
     "text": [
      "{'p': 4, 'd': 1, 'q': 2, 'trend': 't'} MSE: 0.602875782700972\n",
      "{'p': 4, 'd': 1, 'q': 4, 'trend': 'c'} MSE: inf\n"
     ]
    },
    {
     "name": "stderr",
     "output_type": "stream",
     "text": [
      "/home/hashim/.local/lib/python3.10/site-packages/statsmodels/tsa/statespace/sarimax.py:966: UserWarning: Non-stationary starting autoregressive parameters found. Using zeros as starting parameters.\n",
      "  warn('Non-stationary starting autoregressive parameters'\n",
      "/home/hashim/.local/lib/python3.10/site-packages/statsmodels/tsa/statespace/sarimax.py:978: UserWarning: Non-invertible starting MA parameters found. Using zeros as starting parameters.\n",
      "  warn('Non-invertible starting MA parameters found.'\n"
     ]
    },
    {
     "name": "stdout",
     "output_type": "stream",
     "text": [
      "{'p': 4, 'd': 1, 'q': 3, 'trend': 'n'} MSE: 0.5328353822888819\n",
      "{'p': 4, 'd': 1, 'q': 4, 'trend': 'ct'} MSE: inf\n"
     ]
    },
    {
     "name": "stderr",
     "output_type": "stream",
     "text": [
      "/home/hashim/.local/lib/python3.10/site-packages/statsmodels/base/model.py:607: ConvergenceWarning: Maximum Likelihood optimization failed to converge. Check mle_retvals\n",
      "  warnings.warn(\"Maximum Likelihood optimization failed to \"\n"
     ]
    },
    {
     "name": "stdout",
     "output_type": "stream",
     "text": [
      "{'p': 4, 'd': 0, 'q': 5, 'trend': 'c'} MSE: 0.35440458098692135\n",
      "{'p': 4, 'd': 1, 'q': 5, 'trend': 'c'} MSE: inf\n"
     ]
    },
    {
     "name": "stderr",
     "output_type": "stream",
     "text": [
      "/home/hashim/.local/lib/python3.10/site-packages/statsmodels/tsa/statespace/sarimax.py:966: UserWarning: Non-stationary starting autoregressive parameters found. Using zeros as starting parameters.\n",
      "  warn('Non-stationary starting autoregressive parameters'\n",
      "/home/hashim/.local/lib/python3.10/site-packages/statsmodels/tsa/statespace/sarimax.py:978: UserWarning: Non-invertible starting MA parameters found. Using zeros as starting parameters.\n",
      "  warn('Non-invertible starting MA parameters found.'\n",
      "/home/hashim/.local/lib/python3.10/site-packages/statsmodels/base/model.py:607: ConvergenceWarning: Maximum Likelihood optimization failed to converge. Check mle_retvals\n",
      "  warnings.warn(\"Maximum Likelihood optimization failed to \"\n"
     ]
    },
    {
     "name": "stdout",
     "output_type": "stream",
     "text": [
      "{'p': 4, 'd': 1, 'q': 4, 'trend': 'n'} MSE: 0.41505556076085215\n",
      "{'p': 4, 'd': 1, 'q': 5, 'trend': 'ct'} MSE: inf\n",
      "{'p': 4, 'd': 2, 'q': 0, 'trend': 'n'} MSE: 0.7099664457144733\n",
      "{'p': 4, 'd': 2, 'q': 0, 'trend': 'c'} MSE: inf\n",
      "{'p': 4, 'd': 2, 'q': 0, 'trend': 't'} MSE: inf\n",
      "{'p': 4, 'd': 2, 'q': 0, 'trend': 'ct'} MSE: inf\n",
      "{'p': 4, 'd': 2, 'q': 1, 'trend': 'n'} MSE: 0.6692884779499807\n",
      "{'p': 4, 'd': 2, 'q': 1, 'trend': 'c'} MSE: inf\n",
      "{'p': 4, 'd': 2, 'q': 1, 'trend': 't'} MSE: inf\n",
      "{'p': 4, 'd': 2, 'q': 1, 'trend': 'ct'} MSE: inf\n"
     ]
    },
    {
     "name": "stderr",
     "output_type": "stream",
     "text": [
      "/home/hashim/.local/lib/python3.10/site-packages/statsmodels/tsa/statespace/sarimax.py:966: UserWarning: Non-stationary starting autoregressive parameters found. Using zeros as starting parameters.\n",
      "  warn('Non-stationary starting autoregressive parameters'\n",
      "/home/hashim/.local/lib/python3.10/site-packages/statsmodels/tsa/statespace/sarimax.py:978: UserWarning: Non-invertible starting MA parameters found. Using zeros as starting parameters.\n",
      "  warn('Non-invertible starting MA parameters found.'\n",
      "/home/hashim/.local/lib/python3.10/site-packages/statsmodels/base/model.py:607: ConvergenceWarning: Maximum Likelihood optimization failed to converge. Check mle_retvals\n",
      "  warnings.warn(\"Maximum Likelihood optimization failed to \"\n"
     ]
    },
    {
     "name": "stdout",
     "output_type": "stream",
     "text": [
      "{'p': 4, 'd': 1, 'q': 5, 'trend': 'n'} MSE: 0.49532966540956164\n",
      "{'p': 4, 'd': 2, 'q': 2, 'trend': 'c'} MSE: inf\n",
      "{'p': 4, 'd': 2, 'q': 2, 'trend': 't'} MSE: inf\n",
      "{'p': 4, 'd': 2, 'q': 2, 'trend': 'ct'} MSE: inf\n"
     ]
    },
    {
     "name": "stderr",
     "output_type": "stream",
     "text": [
      "/home/hashim/.local/lib/python3.10/site-packages/statsmodels/base/model.py:607: ConvergenceWarning: Maximum Likelihood optimization failed to converge. Check mle_retvals\n",
      "  warnings.warn(\"Maximum Likelihood optimization failed to \"\n"
     ]
    },
    {
     "name": "stdout",
     "output_type": "stream",
     "text": [
      "{'p': 4, 'd': 1, 'q': 3, 'trend': 't'} MSE: 0.5332952527459537\n",
      "{'p': 4, 'd': 2, 'q': 3, 'trend': 'c'} MSE: inf\n",
      "{'p': 4, 'd': 2, 'q': 3, 'trend': 't'} MSE: inf\n",
      "{'p': 4, 'd': 2, 'q': 3, 'trend': 'ct'} MSE: inf\n"
     ]
    },
    {
     "name": "stderr",
     "output_type": "stream",
     "text": [
      "/home/hashim/.local/lib/python3.10/site-packages/statsmodels/base/model.py:607: ConvergenceWarning: Maximum Likelihood optimization failed to converge. Check mle_retvals\n",
      "  warnings.warn(\"Maximum Likelihood optimization failed to \"\n"
     ]
    },
    {
     "name": "stdout",
     "output_type": "stream",
     "text": [
      "{'p': 4, 'd': 2, 'q': 2, 'trend': 'n'} MSE: 0.6022604535534374\n",
      "{'p': 4, 'd': 2, 'q': 4, 'trend': 'c'} MSE: inf\n",
      "{'p': 4, 'd': 2, 'q': 4, 'trend': 't'} MSE: inf\n",
      "{'p': 4, 'd': 2, 'q': 4, 'trend': 'ct'} MSE: inf\n"
     ]
    },
    {
     "name": "stderr",
     "output_type": "stream",
     "text": [
      "/home/hashim/.local/lib/python3.10/site-packages/statsmodels/base/model.py:607: ConvergenceWarning: Maximum Likelihood optimization failed to converge. Check mle_retvals\n",
      "  warnings.warn(\"Maximum Likelihood optimization failed to \"\n"
     ]
    },
    {
     "name": "stdout",
     "output_type": "stream",
     "text": [
      "{'p': 4, 'd': 2, 'q': 3, 'trend': 'n'} MSE: 0.49731120387162336\n",
      "{'p': 4, 'd': 2, 'q': 5, 'trend': 'c'} MSE: inf\n",
      "{'p': 4, 'd': 2, 'q': 5, 'trend': 't'} MSE: inf\n",
      "{'p': 4, 'd': 2, 'q': 5, 'trend': 'ct'} MSE: inf\n",
      "{'p': 4, 'd': 1, 'q': 4, 'trend': 't'} MSE: 0.41566279186278443\n",
      "{'p': 4, 'd': 3, 'q': 0, 'trend': 'c'} MSE: inf\n",
      "{'p': 4, 'd': 3, 'q': 0, 'trend': 't'} MSE: inf\n",
      "{'p': 4, 'd': 3, 'q': 0, 'trend': 'ct'} MSE: inf\n"
     ]
    },
    {
     "name": "stderr",
     "output_type": "stream",
     "text": [
      "/home/hashim/.local/lib/python3.10/site-packages/statsmodels/tsa/statespace/sarimax.py:966: UserWarning: Non-stationary starting autoregressive parameters found. Using zeros as starting parameters.\n",
      "  warn('Non-stationary starting autoregressive parameters'\n",
      "/home/hashim/.local/lib/python3.10/site-packages/statsmodels/tsa/statespace/sarimax.py:978: UserWarning: Non-invertible starting MA parameters found. Using zeros as starting parameters.\n",
      "  warn('Non-invertible starting MA parameters found.'\n"
     ]
    },
    {
     "name": "stdout",
     "output_type": "stream",
     "text": [
      "{'p': 4, 'd': 3, 'q': 0, 'trend': 'n'} MSE: 1.1546398653299328\n",
      "{'p': 4, 'd': 3, 'q': 1, 'trend': 'c'} MSE: inf\n",
      "{'p': 4, 'd': 3, 'q': 1, 'trend': 't'} MSE: inf\n",
      "{'p': 4, 'd': 3, 'q': 1, 'trend': 'ct'} MSE: inf\n"
     ]
    },
    {
     "name": "stderr",
     "output_type": "stream",
     "text": [
      "/home/hashim/.local/lib/python3.10/site-packages/statsmodels/base/model.py:607: ConvergenceWarning: Maximum Likelihood optimization failed to converge. Check mle_retvals\n",
      "  warnings.warn(\"Maximum Likelihood optimization failed to \"\n",
      "/home/hashim/.local/lib/python3.10/site-packages/statsmodels/tsa/statespace/sarimax.py:978: UserWarning: Non-invertible starting MA parameters found. Using zeros as starting parameters.\n",
      "  warn('Non-invertible starting MA parameters found.'\n"
     ]
    },
    {
     "name": "stdout",
     "output_type": "stream",
     "text": [
      "{'p': 4, 'd': 2, 'q': 4, 'trend': 'n'} MSE: 0.5258648555551879\n",
      "{'p': 4, 'd': 3, 'q': 2, 'trend': 'c'} MSE: inf\n",
      "{'p': 4, 'd': 3, 'q': 2, 'trend': 't'} MSE: inf\n",
      "{'p': 4, 'd': 3, 'q': 2, 'trend': 'ct'} MSE: inf\n"
     ]
    },
    {
     "name": "stderr",
     "output_type": "stream",
     "text": [
      "/home/hashim/.local/lib/python3.10/site-packages/statsmodels/base/model.py:607: ConvergenceWarning: Maximum Likelihood optimization failed to converge. Check mle_retvals\n",
      "  warnings.warn(\"Maximum Likelihood optimization failed to \"\n"
     ]
    },
    {
     "name": "stdout",
     "output_type": "stream",
     "text": [
      "{'p': 4, 'd': 1, 'q': 5, 'trend': 't'} MSE: 0.4949042316623735\n",
      "{'p': 4, 'd': 3, 'q': 3, 'trend': 'c'} MSE: inf\n",
      "{'p': 4, 'd': 3, 'q': 3, 'trend': 't'} MSE: inf\n",
      "{'p': 4, 'd': 3, 'q': 3, 'trend': 'ct'} MSE: inf\n",
      "{'p': 4, 'd': 3, 'q': 1, 'trend': 'n'} MSE: 0.710103859774922\n",
      "{'p': 4, 'd': 3, 'q': 4, 'trend': 'c'} MSE: inf\n",
      "{'p': 4, 'd': 3, 'q': 4, 'trend': 't'} MSE: inf\n",
      "{'p': 4, 'd': 3, 'q': 4, 'trend': 'ct'} MSE: inf\n",
      "{'p': 4, 'd': 3, 'q': 2, 'trend': 'n'} MSE: 0.7229670392362542\n",
      "{'p': 4, 'd': 3, 'q': 5, 'trend': 'c'} MSE: inf\n",
      "{'p': 4, 'd': 3, 'q': 5, 'trend': 't'} MSE: inf\n",
      "{'p': 4, 'd': 3, 'q': 5, 'trend': 'ct'} MSE: inf\n"
     ]
    },
    {
     "name": "stderr",
     "output_type": "stream",
     "text": [
      "/home/hashim/.local/lib/python3.10/site-packages/statsmodels/tsa/statespace/sarimax.py:978: UserWarning: Non-invertible starting MA parameters found. Using zeros as starting parameters.\n",
      "  warn('Non-invertible starting MA parameters found.'\n"
     ]
    },
    {
     "name": "stdout",
     "output_type": "stream",
     "text": [
      "{'p': 4, 'd': 4, 'q': 0, 'trend': 'n'} MSE: 2.1114124059968336\n",
      "{'p': 4, 'd': 4, 'q': 0, 'trend': 'c'} MSE: inf\n",
      "{'p': 4, 'd': 4, 'q': 0, 'trend': 't'} MSE: inf\n",
      "{'p': 4, 'd': 4, 'q': 0, 'trend': 'ct'} MSE: inf\n"
     ]
    },
    {
     "name": "stderr",
     "output_type": "stream",
     "text": [
      "/home/hashim/.local/lib/python3.10/site-packages/statsmodels/base/model.py:607: ConvergenceWarning: Maximum Likelihood optimization failed to converge. Check mle_retvals\n",
      "  warnings.warn(\"Maximum Likelihood optimization failed to \"\n",
      "/home/hashim/.local/lib/python3.10/site-packages/statsmodels/tsa/statespace/sarimax.py:966: UserWarning: Non-stationary starting autoregressive parameters found. Using zeros as starting parameters.\n",
      "  warn('Non-stationary starting autoregressive parameters'\n"
     ]
    },
    {
     "name": "stdout",
     "output_type": "stream",
     "text": [
      "{'p': 4, 'd': 2, 'q': 5, 'trend': 'n'} MSE: 0.5508332762507557\n",
      "{'p': 4, 'd': 4, 'q': 1, 'trend': 'c'} MSE: inf\n",
      "{'p': 4, 'd': 4, 'q': 1, 'trend': 't'} MSE: inf\n",
      "{'p': 4, 'd': 4, 'q': 1, 'trend': 'ct'} MSE: inf\n"
     ]
    },
    {
     "name": "stderr",
     "output_type": "stream",
     "text": [
      "/home/hashim/.local/lib/python3.10/site-packages/statsmodels/tsa/statespace/sarimax.py:978: UserWarning: Non-invertible starting MA parameters found. Using zeros as starting parameters.\n",
      "  warn('Non-invertible starting MA parameters found.'\n"
     ]
    },
    {
     "name": "stdout",
     "output_type": "stream",
     "text": [
      "{'p': 4, 'd': 3, 'q': 3, 'trend': 'n'} MSE: 0.6650112412220406\n",
      "{'p': 4, 'd': 4, 'q': 2, 'trend': 'c'} MSE: inf\n",
      "{'p': 4, 'd': 4, 'q': 2, 'trend': 't'} MSE: inf\n",
      "{'p': 4, 'd': 4, 'q': 2, 'trend': 'ct'} MSE: inf\n"
     ]
    },
    {
     "name": "stderr",
     "output_type": "stream",
     "text": [
      "/home/hashim/.local/lib/python3.10/site-packages/statsmodels/tsa/statespace/sarimax.py:978: UserWarning: Non-invertible starting MA parameters found. Using zeros as starting parameters.\n",
      "  warn('Non-invertible starting MA parameters found.'\n"
     ]
    },
    {
     "name": "stdout",
     "output_type": "stream",
     "text": [
      "{'p': 4, 'd': 4, 'q': 1, 'trend': 'n'} MSE: 1.154907028306102\n",
      "{'p': 4, 'd': 4, 'q': 3, 'trend': 'c'} MSE: inf\n",
      "{'p': 4, 'd': 4, 'q': 3, 'trend': 't'} MSE: inf\n",
      "{'p': 4, 'd': 4, 'q': 3, 'trend': 'ct'} MSE: inf\n"
     ]
    },
    {
     "name": "stderr",
     "output_type": "stream",
     "text": [
      "/home/hashim/.local/lib/python3.10/site-packages/statsmodels/tsa/statespace/sarimax.py:978: UserWarning: Non-invertible starting MA parameters found. Using zeros as starting parameters.\n",
      "  warn('Non-invertible starting MA parameters found.'\n"
     ]
    },
    {
     "name": "stdout",
     "output_type": "stream",
     "text": [
      "{'p': 4, 'd': 4, 'q': 2, 'trend': 'n'} MSE: 0.7120732411126607\n",
      "{'p': 4, 'd': 4, 'q': 4, 'trend': 'c'} MSE: inf\n",
      "{'p': 4, 'd': 4, 'q': 4, 'trend': 't'} MSE: inf\n",
      "{'p': 4, 'd': 4, 'q': 4, 'trend': 'ct'} MSE: inf\n"
     ]
    },
    {
     "name": "stderr",
     "output_type": "stream",
     "text": [
      "/home/hashim/.local/lib/python3.10/site-packages/statsmodels/base/model.py:607: ConvergenceWarning: Maximum Likelihood optimization failed to converge. Check mle_retvals\n",
      "  warnings.warn(\"Maximum Likelihood optimization failed to \"\n"
     ]
    },
    {
     "name": "stdout",
     "output_type": "stream",
     "text": [
      "{'p': 4, 'd': 3, 'q': 4, 'trend': 'n'} MSE: 0.5749508665474756\n",
      "{'p': 4, 'd': 4, 'q': 5, 'trend': 'c'} MSE: inf\n",
      "{'p': 4, 'd': 4, 'q': 5, 'trend': 't'} MSE: inf\n",
      "{'p': 4, 'd': 4, 'q': 5, 'trend': 'ct'} MSE: inf\n"
     ]
    },
    {
     "name": "stderr",
     "output_type": "stream",
     "text": [
      "/home/hashim/.local/lib/python3.10/site-packages/statsmodels/tsa/statespace/sarimax.py:978: UserWarning: Non-invertible starting MA parameters found. Using zeros as starting parameters.\n",
      "  warn('Non-invertible starting MA parameters found.'\n"
     ]
    },
    {
     "name": "stdout",
     "output_type": "stream",
     "text": [
      "{'p': 4, 'd': 5, 'q': 0, 'trend': 'n'} MSE: 4.059919898524093\n",
      "{'p': 4, 'd': 5, 'q': 0, 'trend': 'c'} MSE: inf\n",
      "{'p': 4, 'd': 5, 'q': 0, 'trend': 't'} MSE: inf\n",
      "{'p': 4, 'd': 5, 'q': 0, 'trend': 'ct'} MSE: inf\n"
     ]
    },
    {
     "name": "stderr",
     "output_type": "stream",
     "text": [
      "/home/hashim/.local/lib/python3.10/site-packages/statsmodels/base/model.py:607: ConvergenceWarning: Maximum Likelihood optimization failed to converge. Check mle_retvals\n",
      "  warnings.warn(\"Maximum Likelihood optimization failed to \"\n",
      "/home/hashim/.local/lib/python3.10/site-packages/statsmodels/tsa/statespace/sarimax.py:966: UserWarning: Non-stationary starting autoregressive parameters found. Using zeros as starting parameters.\n",
      "  warn('Non-stationary starting autoregressive parameters'\n"
     ]
    },
    {
     "name": "stdout",
     "output_type": "stream",
     "text": [
      "{'p': 4, 'd': 3, 'q': 5, 'trend': 'n'} MSE: 0.6019662452963387\n",
      "{'p': 4, 'd': 5, 'q': 1, 'trend': 'c'} MSE: inf\n",
      "{'p': 4, 'd': 5, 'q': 1, 'trend': 't'} MSE: inf\n",
      "{'p': 4, 'd': 5, 'q': 1, 'trend': 'ct'} MSE: inf\n"
     ]
    },
    {
     "name": "stderr",
     "output_type": "stream",
     "text": [
      "/home/hashim/.local/lib/python3.10/site-packages/statsmodels/tsa/statespace/sarimax.py:978: UserWarning: Non-invertible starting MA parameters found. Using zeros as starting parameters.\n",
      "  warn('Non-invertible starting MA parameters found.'\n"
     ]
    },
    {
     "name": "stdout",
     "output_type": "stream",
     "text": [
      "{'p': 4, 'd': 4, 'q': 3, 'trend': 'n'} MSE: 1.1643231440721045\n",
      "{'p': 4, 'd': 5, 'q': 2, 'trend': 'c'} MSE: inf\n",
      "{'p': 4, 'd': 5, 'q': 2, 'trend': 't'} MSE: inf\n",
      "{'p': 4, 'd': 5, 'q': 2, 'trend': 'ct'} MSE: inf\n"
     ]
    },
    {
     "name": "stderr",
     "output_type": "stream",
     "text": [
      "/home/hashim/.local/lib/python3.10/site-packages/statsmodels/tsa/statespace/sarimax.py:978: UserWarning: Non-invertible starting MA parameters found. Using zeros as starting parameters.\n",
      "  warn('Non-invertible starting MA parameters found.'\n"
     ]
    },
    {
     "name": "stdout",
     "output_type": "stream",
     "text": [
      "{'p': 4, 'd': 5, 'q': 1, 'trend': 'n'} MSE: 2.1122405093109364\n",
      "{'p': 4, 'd': 5, 'q': 3, 'trend': 'c'} MSE: inf\n",
      "{'p': 4, 'd': 5, 'q': 3, 'trend': 't'} MSE: inf\n",
      "{'p': 4, 'd': 5, 'q': 3, 'trend': 'ct'} MSE: inf\n"
     ]
    },
    {
     "name": "stderr",
     "output_type": "stream",
     "text": [
      "/home/hashim/.local/lib/python3.10/site-packages/statsmodels/tsa/statespace/sarimax.py:978: UserWarning: Non-invertible starting MA parameters found. Using zeros as starting parameters.\n",
      "  warn('Non-invertible starting MA parameters found.'\n",
      "/home/hashim/.local/lib/python3.10/site-packages/statsmodels/base/model.py:607: ConvergenceWarning: Maximum Likelihood optimization failed to converge. Check mle_retvals\n",
      "  warnings.warn(\"Maximum Likelihood optimization failed to \"\n",
      "/home/hashim/.local/lib/python3.10/site-packages/statsmodels/tsa/statespace/sarimax.py:978: UserWarning: Non-invertible starting MA parameters found. Using zeros as starting parameters.\n",
      "  warn('Non-invertible starting MA parameters found.'\n"
     ]
    },
    {
     "name": "stdout",
     "output_type": "stream",
     "text": [
      "{'p': 4, 'd': 4, 'q': 4, 'trend': 'n'} MSE: 0.6818676251664355\n",
      "{'p': 4, 'd': 5, 'q': 4, 'trend': 'c'} MSE: inf\n",
      "{'p': 4, 'd': 5, 'q': 4, 'trend': 't'} MSE: inf\n",
      "{'p': 4, 'd': 5, 'q': 4, 'trend': 'ct'} MSE: inf\n",
      "{'p': 4, 'd': 5, 'q': 2, 'trend': 'n'} MSE: 1.1571227999293352\n",
      "{'p': 4, 'd': 5, 'q': 5, 'trend': 'c'} MSE: inf\n",
      "{'p': 4, 'd': 5, 'q': 5, 'trend': 't'} MSE: inf\n",
      "{'p': 4, 'd': 5, 'q': 5, 'trend': 'ct'} MSE: inf\n",
      "{'p': 5, 'd': 0, 'q': 0, 'trend': 'n'} MSE: 0.5476903102149965\n"
     ]
    },
    {
     "name": "stderr",
     "output_type": "stream",
     "text": [
      "/home/hashim/.local/lib/python3.10/site-packages/statsmodels/base/model.py:607: ConvergenceWarning: Maximum Likelihood optimization failed to converge. Check mle_retvals\n",
      "  warnings.warn(\"Maximum Likelihood optimization failed to \"\n"
     ]
    },
    {
     "name": "stdout",
     "output_type": "stream",
     "text": [
      "{'p': 4, 'd': 4, 'q': 5, 'trend': 'n'} MSE: 0.6124039361362117\n",
      "{'p': 5, 'd': 0, 'q': 0, 'trend': 'c'} MSE: 0.54769031016247\n"
     ]
    },
    {
     "name": "stderr",
     "output_type": "stream",
     "text": [
      "/home/hashim/.local/lib/python3.10/site-packages/statsmodels/base/model.py:607: ConvergenceWarning: Maximum Likelihood optimization failed to converge. Check mle_retvals\n",
      "  warnings.warn(\"Maximum Likelihood optimization failed to \"\n"
     ]
    },
    {
     "name": "stdout",
     "output_type": "stream",
     "text": [
      "{'p': 4, 'd': 5, 'q': 3, 'trend': 'n'} MSE: 1.2159260245166894\n"
     ]
    },
    {
     "name": "stderr",
     "output_type": "stream",
     "text": [
      "/home/hashim/.local/lib/python3.10/site-packages/statsmodels/base/model.py:607: ConvergenceWarning: Maximum Likelihood optimization failed to converge. Check mle_retvals\n",
      "  warnings.warn(\"Maximum Likelihood optimization failed to \"\n"
     ]
    },
    {
     "name": "stdout",
     "output_type": "stream",
     "text": [
      "{'p': 5, 'd': 0, 'q': 0, 'trend': 't'} MSE: 0.5476859808518241\n",
      "{'p': 5, 'd': 0, 'q': 0, 'trend': 'ct'} MSE: 0.5476742452702257\n"
     ]
    },
    {
     "name": "stderr",
     "output_type": "stream",
     "text": [
      "/home/hashim/.local/lib/python3.10/site-packages/statsmodels/base/model.py:607: ConvergenceWarning: Maximum Likelihood optimization failed to converge. Check mle_retvals\n",
      "  warnings.warn(\"Maximum Likelihood optimization failed to \"\n"
     ]
    },
    {
     "name": "stdout",
     "output_type": "stream",
     "text": [
      "{'p': 4, 'd': 5, 'q': 4, 'trend': 'n'} MSE: 1.0531145410797746\n"
     ]
    },
    {
     "name": "stderr",
     "output_type": "stream",
     "text": [
      "/home/hashim/.local/lib/python3.10/site-packages/statsmodels/tsa/statespace/sarimax.py:966: UserWarning: Non-stationary starting autoregressive parameters found. Using zeros as starting parameters.\n",
      "  warn('Non-stationary starting autoregressive parameters'\n",
      "/home/hashim/.local/lib/python3.10/site-packages/statsmodels/tsa/statespace/sarimax.py:978: UserWarning: Non-invertible starting MA parameters found. Using zeros as starting parameters.\n",
      "  warn('Non-invertible starting MA parameters found.'\n"
     ]
    },
    {
     "name": "stdout",
     "output_type": "stream",
     "text": [
      "{'p': 5, 'd': 0, 'q': 1, 'trend': 'n'} MSE: 0.5166745665484811\n"
     ]
    },
    {
     "name": "stderr",
     "output_type": "stream",
     "text": [
      "/home/hashim/.local/lib/python3.10/site-packages/statsmodels/base/model.py:607: ConvergenceWarning: Maximum Likelihood optimization failed to converge. Check mle_retvals\n",
      "  warnings.warn(\"Maximum Likelihood optimization failed to \"\n",
      "/home/hashim/.local/lib/python3.10/site-packages/statsmodels/tsa/statespace/sarimax.py:966: UserWarning: Non-stationary starting autoregressive parameters found. Using zeros as starting parameters.\n",
      "  warn('Non-stationary starting autoregressive parameters'\n",
      "/home/hashim/.local/lib/python3.10/site-packages/statsmodels/tsa/statespace/sarimax.py:978: UserWarning: Non-invertible starting MA parameters found. Using zeros as starting parameters.\n",
      "  warn('Non-invertible starting MA parameters found.'\n"
     ]
    },
    {
     "name": "stdout",
     "output_type": "stream",
     "text": [
      "{'p': 5, 'd': 0, 'q': 1, 'trend': 't'} MSE: 0.5499497177064554\n"
     ]
    },
    {
     "name": "stderr",
     "output_type": "stream",
     "text": [
      "/home/hashim/.local/lib/python3.10/site-packages/statsmodels/base/model.py:607: ConvergenceWarning: Maximum Likelihood optimization failed to converge. Check mle_retvals\n",
      "  warnings.warn(\"Maximum Likelihood optimization failed to \"\n"
     ]
    },
    {
     "name": "stdout",
     "output_type": "stream",
     "text": [
      "{'p': 5, 'd': 0, 'q': 1, 'trend': 'ct'} MSE: 0.5499390896999307\n"
     ]
    },
    {
     "name": "stderr",
     "output_type": "stream",
     "text": [
      "/home/hashim/.local/lib/python3.10/site-packages/statsmodels/tsa/statespace/sarimax.py:966: UserWarning: Non-stationary starting autoregressive parameters found. Using zeros as starting parameters.\n",
      "  warn('Non-stationary starting autoregressive parameters'\n",
      "/home/hashim/.local/lib/python3.10/site-packages/statsmodels/tsa/statespace/sarimax.py:978: UserWarning: Non-invertible starting MA parameters found. Using zeros as starting parameters.\n",
      "  warn('Non-invertible starting MA parameters found.'\n",
      "/home/hashim/.local/lib/python3.10/site-packages/statsmodels/base/model.py:607: ConvergenceWarning: Maximum Likelihood optimization failed to converge. Check mle_retvals\n",
      "  warnings.warn(\"Maximum Likelihood optimization failed to \"\n",
      "/home/hashim/.local/lib/python3.10/site-packages/statsmodels/tsa/statespace/sarimax.py:966: UserWarning: Non-stationary starting autoregressive parameters found. Using zeros as starting parameters.\n",
      "  warn('Non-stationary starting autoregressive parameters'\n"
     ]
    },
    {
     "name": "stdout",
     "output_type": "stream",
     "text": [
      "{'p': 4, 'd': 5, 'q': 5, 'trend': 'n'} MSE: 0.9253894863995104\n"
     ]
    },
    {
     "name": "stderr",
     "output_type": "stream",
     "text": [
      "/home/hashim/.local/lib/python3.10/site-packages/statsmodels/tsa/statespace/sarimax.py:978: UserWarning: Non-invertible starting MA parameters found. Using zeros as starting parameters.\n",
      "  warn('Non-invertible starting MA parameters found.'\n",
      "/home/hashim/.local/lib/python3.10/site-packages/statsmodels/base/model.py:607: ConvergenceWarning: Maximum Likelihood optimization failed to converge. Check mle_retvals\n",
      "  warnings.warn(\"Maximum Likelihood optimization failed to \"\n",
      "/home/hashim/.local/lib/python3.10/site-packages/statsmodels/tsa/statespace/sarimax.py:966: UserWarning: Non-stationary starting autoregressive parameters found. Using zeros as starting parameters.\n",
      "  warn('Non-stationary starting autoregressive parameters'\n",
      "/home/hashim/.local/lib/python3.10/site-packages/statsmodels/tsa/statespace/sarimax.py:978: UserWarning: Non-invertible starting MA parameters found. Using zeros as starting parameters.\n",
      "  warn('Non-invertible starting MA parameters found.'\n"
     ]
    },
    {
     "name": "stdout",
     "output_type": "stream",
     "text": [
      "{'p': 5, 'd': 0, 'q': 1, 'trend': 'c'} MSE: 0.5166745621427079\n"
     ]
    },
    {
     "name": "stderr",
     "output_type": "stream",
     "text": [
      "/home/hashim/.local/lib/python3.10/site-packages/statsmodels/tsa/statespace/sarimax.py:966: UserWarning: Non-stationary starting autoregressive parameters found. Using zeros as starting parameters.\n",
      "  warn('Non-stationary starting autoregressive parameters'\n",
      "/home/hashim/.local/lib/python3.10/site-packages/statsmodels/tsa/statespace/sarimax.py:978: UserWarning: Non-invertible starting MA parameters found. Using zeros as starting parameters.\n",
      "  warn('Non-invertible starting MA parameters found.'\n"
     ]
    },
    {
     "name": "stdout",
     "output_type": "stream",
     "text": [
      "{'p': 5, 'd': 0, 'q': 2, 'trend': 'n'} MSE: 0.4556444816593226\n"
     ]
    },
    {
     "name": "stderr",
     "output_type": "stream",
     "text": [
      "/home/hashim/.local/lib/python3.10/site-packages/statsmodels/base/model.py:607: ConvergenceWarning: Maximum Likelihood optimization failed to converge. Check mle_retvals\n",
      "  warnings.warn(\"Maximum Likelihood optimization failed to \"\n",
      "/home/hashim/.local/lib/python3.10/site-packages/statsmodels/tsa/statespace/sarimax.py:966: UserWarning: Non-stationary starting autoregressive parameters found. Using zeros as starting parameters.\n",
      "  warn('Non-stationary starting autoregressive parameters'\n",
      "/home/hashim/.local/lib/python3.10/site-packages/statsmodels/tsa/statespace/sarimax.py:978: UserWarning: Non-invertible starting MA parameters found. Using zeros as starting parameters.\n",
      "  warn('Non-invertible starting MA parameters found.'\n"
     ]
    },
    {
     "name": "stdout",
     "output_type": "stream",
     "text": [
      "{'p': 5, 'd': 0, 'q': 2, 'trend': 't'} MSE: 2.7194209364894957\n"
     ]
    },
    {
     "name": "stderr",
     "output_type": "stream",
     "text": [
      "/home/hashim/.local/lib/python3.10/site-packages/statsmodels/base/model.py:607: ConvergenceWarning: Maximum Likelihood optimization failed to converge. Check mle_retvals\n",
      "  warnings.warn(\"Maximum Likelihood optimization failed to \"\n"
     ]
    },
    {
     "name": "stdout",
     "output_type": "stream",
     "text": [
      "{'p': 5, 'd': 0, 'q': 2, 'trend': 'ct'} MSE: 2.718960137270638\n"
     ]
    },
    {
     "name": "stderr",
     "output_type": "stream",
     "text": [
      "/home/hashim/.local/lib/python3.10/site-packages/statsmodels/tsa/statespace/sarimax.py:966: UserWarning: Non-stationary starting autoregressive parameters found. Using zeros as starting parameters.\n",
      "  warn('Non-stationary starting autoregressive parameters'\n",
      "/home/hashim/.local/lib/python3.10/site-packages/statsmodels/tsa/statespace/sarimax.py:978: UserWarning: Non-invertible starting MA parameters found. Using zeros as starting parameters.\n",
      "  warn('Non-invertible starting MA parameters found.'\n",
      "/home/hashim/.local/lib/python3.10/site-packages/statsmodels/tsa/statespace/sarimax.py:966: UserWarning: Non-stationary starting autoregressive parameters found. Using zeros as starting parameters.\n",
      "  warn('Non-stationary starting autoregressive parameters'\n",
      "/home/hashim/.local/lib/python3.10/site-packages/statsmodels/tsa/statespace/sarimax.py:978: UserWarning: Non-invertible starting MA parameters found. Using zeros as starting parameters.\n",
      "  warn('Non-invertible starting MA parameters found.'\n"
     ]
    },
    {
     "name": "stdout",
     "output_type": "stream",
     "text": [
      "{'p': 5, 'd': 0, 'q': 3, 'trend': 'n'} MSE: 0.460808770244242\n"
     ]
    },
    {
     "name": "stderr",
     "output_type": "stream",
     "text": [
      "/home/hashim/.local/lib/python3.10/site-packages/statsmodels/base/model.py:607: ConvergenceWarning: Maximum Likelihood optimization failed to converge. Check mle_retvals\n",
      "  warnings.warn(\"Maximum Likelihood optimization failed to \"\n"
     ]
    },
    {
     "name": "stdout",
     "output_type": "stream",
     "text": [
      "{'p': 5, 'd': 0, 'q': 3, 'trend': 't'} MSE: 2.7194209364894957\n"
     ]
    },
    {
     "name": "stderr",
     "output_type": "stream",
     "text": [
      "/home/hashim/.local/lib/python3.10/site-packages/statsmodels/tsa/statespace/sarimax.py:966: UserWarning: Non-stationary starting autoregressive parameters found. Using zeros as starting parameters.\n",
      "  warn('Non-stationary starting autoregressive parameters'\n",
      "/home/hashim/.local/lib/python3.10/site-packages/statsmodels/tsa/statespace/sarimax.py:978: UserWarning: Non-invertible starting MA parameters found. Using zeros as starting parameters.\n",
      "  warn('Non-invertible starting MA parameters found.'\n",
      "/home/hashim/.local/lib/python3.10/site-packages/statsmodels/base/model.py:607: ConvergenceWarning: Maximum Likelihood optimization failed to converge. Check mle_retvals\n",
      "  warnings.warn(\"Maximum Likelihood optimization failed to \"\n",
      "/home/hashim/.local/lib/python3.10/site-packages/statsmodels/base/model.py:607: ConvergenceWarning: Maximum Likelihood optimization failed to converge. Check mle_retvals\n",
      "  warnings.warn(\"Maximum Likelihood optimization failed to \"\n"
     ]
    },
    {
     "name": "stdout",
     "output_type": "stream",
     "text": [
      "{'p': 5, 'd': 0, 'q': 3, 'trend': 'ct'} MSE: 2.718960137270638\n"
     ]
    },
    {
     "name": "stderr",
     "output_type": "stream",
     "text": [
      "/home/hashim/.local/lib/python3.10/site-packages/statsmodels/tsa/statespace/sarimax.py:966: UserWarning: Non-stationary starting autoregressive parameters found. Using zeros as starting parameters.\n",
      "  warn('Non-stationary starting autoregressive parameters'\n",
      "/home/hashim/.local/lib/python3.10/site-packages/statsmodels/tsa/statespace/sarimax.py:978: UserWarning: Non-invertible starting MA parameters found. Using zeros as starting parameters.\n",
      "  warn('Non-invertible starting MA parameters found.'\n"
     ]
    },
    {
     "name": "stdout",
     "output_type": "stream",
     "text": [
      "{'p': 5, 'd': 0, 'q': 2, 'trend': 'c'} MSE: 0.45385293887722006\n"
     ]
    },
    {
     "name": "stderr",
     "output_type": "stream",
     "text": [
      "/home/hashim/.local/lib/python3.10/site-packages/statsmodels/tsa/statespace/sarimax.py:966: UserWarning: Non-stationary starting autoregressive parameters found. Using zeros as starting parameters.\n",
      "  warn('Non-stationary starting autoregressive parameters'\n",
      "/home/hashim/.local/lib/python3.10/site-packages/statsmodels/tsa/statespace/sarimax.py:978: UserWarning: Non-invertible starting MA parameters found. Using zeros as starting parameters.\n",
      "  warn('Non-invertible starting MA parameters found.'\n",
      "/home/hashim/.local/lib/python3.10/site-packages/statsmodels/tsa/statespace/sarimax.py:978: UserWarning: Non-invertible starting MA parameters found. Using zeros as starting parameters.\n",
      "  warn('Non-invertible starting MA parameters found.'\n"
     ]
    },
    {
     "name": "stdout",
     "output_type": "stream",
     "text": [
      "{'p': 5, 'd': 0, 'q': 3, 'trend': 'c'} MSE: 0.4608087661538937\n"
     ]
    },
    {
     "name": "stderr",
     "output_type": "stream",
     "text": [
      "/home/hashim/.local/lib/python3.10/site-packages/statsmodels/base/model.py:607: ConvergenceWarning: Maximum Likelihood optimization failed to converge. Check mle_retvals\n",
      "  warnings.warn(\"Maximum Likelihood optimization failed to \"\n"
     ]
    },
    {
     "name": "stdout",
     "output_type": "stream",
     "text": [
      "{'p': 5, 'd': 0, 'q': 4, 'trend': 'n'} MSE: 0.4595297842855085\n"
     ]
    },
    {
     "name": "stderr",
     "output_type": "stream",
     "text": [
      "/home/hashim/.local/lib/python3.10/site-packages/statsmodels/tsa/statespace/sarimax.py:978: UserWarning: Non-invertible starting MA parameters found. Using zeros as starting parameters.\n",
      "  warn('Non-invertible starting MA parameters found.'\n",
      "/home/hashim/.local/lib/python3.10/site-packages/statsmodels/base/model.py:607: ConvergenceWarning: Maximum Likelihood optimization failed to converge. Check mle_retvals\n",
      "  warnings.warn(\"Maximum Likelihood optimization failed to \"\n"
     ]
    },
    {
     "name": "stdout",
     "output_type": "stream",
     "text": [
      "{'p': 5, 'd': 0, 'q': 4, 'trend': 't'} MSE: 2.7194209364894957\n"
     ]
    },
    {
     "name": "stderr",
     "output_type": "stream",
     "text": [
      "/home/hashim/.local/lib/python3.10/site-packages/statsmodels/tsa/statespace/sarimax.py:978: UserWarning: Non-invertible starting MA parameters found. Using zeros as starting parameters.\n",
      "  warn('Non-invertible starting MA parameters found.'\n",
      "/home/hashim/.local/lib/python3.10/site-packages/statsmodels/base/model.py:607: ConvergenceWarning: Maximum Likelihood optimization failed to converge. Check mle_retvals\n",
      "  warnings.warn(\"Maximum Likelihood optimization failed to \"\n"
     ]
    },
    {
     "name": "stdout",
     "output_type": "stream",
     "text": [
      "{'p': 5, 'd': 0, 'q': 4, 'trend': 'ct'} MSE: 2.718960137270638\n"
     ]
    },
    {
     "name": "stderr",
     "output_type": "stream",
     "text": [
      "/home/hashim/.local/lib/python3.10/site-packages/statsmodels/tsa/statespace/sarimax.py:978: UserWarning: Non-invertible starting MA parameters found. Using zeros as starting parameters.\n",
      "  warn('Non-invertible starting MA parameters found.'\n",
      "/home/hashim/.local/lib/python3.10/site-packages/statsmodels/base/model.py:607: ConvergenceWarning: Maximum Likelihood optimization failed to converge. Check mle_retvals\n",
      "  warnings.warn(\"Maximum Likelihood optimization failed to \"\n",
      "/home/hashim/.local/lib/python3.10/site-packages/statsmodels/base/model.py:607: ConvergenceWarning: Maximum Likelihood optimization failed to converge. Check mle_retvals\n",
      "  warnings.warn(\"Maximum Likelihood optimization failed to \"\n"
     ]
    },
    {
     "name": "stdout",
     "output_type": "stream",
     "text": [
      "{'p': 5, 'd': 0, 'q': 5, 'trend': 'n'} MSE: 0.33926629630982774\n",
      "{'p': 5, 'd': 0, 'q': 5, 'trend': 't'} MSE: 1.1251920246176632\n",
      "{'p': 5, 'd': 1, 'q': 0, 'trend': 'c'} MSE: inf\n",
      "{'p': 5, 'd': 1, 'q': 0, 'trend': 'n'} MSE: 0.6039776876093362\n",
      "{'p': 5, 'd': 1, 'q': 0, 'trend': 'ct'} MSE: inf\n"
     ]
    },
    {
     "name": "stderr",
     "output_type": "stream",
     "text": [
      "/home/hashim/.local/lib/python3.10/site-packages/statsmodels/base/model.py:607: ConvergenceWarning: Maximum Likelihood optimization failed to converge. Check mle_retvals\n",
      "  warnings.warn(\"Maximum Likelihood optimization failed to \"\n"
     ]
    },
    {
     "name": "stdout",
     "output_type": "stream",
     "text": [
      "{'p': 5, 'd': 1, 'q': 0, 'trend': 't'} MSE: 0.6039776874634613\n",
      "{'p': 5, 'd': 1, 'q': 1, 'trend': 'c'} MSE: inf\n",
      "{'p': 5, 'd': 0, 'q': 5, 'trend': 'ct'} MSE: 1.1249703110861082\n",
      "{'p': 5, 'd': 1, 'q': 1, 'trend': 'ct'} MSE: inf\n"
     ]
    },
    {
     "name": "stderr",
     "output_type": "stream",
     "text": [
      "/home/hashim/.local/lib/python3.10/site-packages/statsmodels/tsa/statespace/sarimax.py:966: UserWarning: Non-stationary starting autoregressive parameters found. Using zeros as starting parameters.\n",
      "  warn('Non-stationary starting autoregressive parameters'\n",
      "/home/hashim/.local/lib/python3.10/site-packages/statsmodels/tsa/statespace/sarimax.py:978: UserWarning: Non-invertible starting MA parameters found. Using zeros as starting parameters.\n",
      "  warn('Non-invertible starting MA parameters found.'\n",
      "/home/hashim/.local/lib/python3.10/site-packages/statsmodels/base/model.py:607: ConvergenceWarning: Maximum Likelihood optimization failed to converge. Check mle_retvals\n",
      "  warnings.warn(\"Maximum Likelihood optimization failed to \"\n",
      "/home/hashim/.local/lib/python3.10/site-packages/statsmodels/tsa/statespace/sarimax.py:966: UserWarning: Non-stationary starting autoregressive parameters found. Using zeros as starting parameters.\n",
      "  warn('Non-stationary starting autoregressive parameters'\n",
      "/home/hashim/.local/lib/python3.10/site-packages/statsmodels/tsa/statespace/sarimax.py:978: UserWarning: Non-invertible starting MA parameters found. Using zeros as starting parameters.\n",
      "  warn('Non-invertible starting MA parameters found.'\n"
     ]
    },
    {
     "name": "stdout",
     "output_type": "stream",
     "text": [
      "{'p': 5, 'd': 0, 'q': 4, 'trend': 'c'} MSE: 0.4597960230372306\n",
      "{'p': 5, 'd': 1, 'q': 2, 'trend': 'c'} MSE: inf\n",
      "{'p': 5, 'd': 1, 'q': 1, 'trend': 'n'} MSE: 0.6018895648199377\n",
      "{'p': 5, 'd': 1, 'q': 2, 'trend': 'ct'} MSE: inf\n"
     ]
    },
    {
     "name": "stderr",
     "output_type": "stream",
     "text": [
      "/home/hashim/.local/lib/python3.10/site-packages/statsmodels/tsa/statespace/sarimax.py:966: UserWarning: Non-stationary starting autoregressive parameters found. Using zeros as starting parameters.\n",
      "  warn('Non-stationary starting autoregressive parameters'\n",
      "/home/hashim/.local/lib/python3.10/site-packages/statsmodels/tsa/statespace/sarimax.py:978: UserWarning: Non-invertible starting MA parameters found. Using zeros as starting parameters.\n",
      "  warn('Non-invertible starting MA parameters found.'\n"
     ]
    },
    {
     "name": "stdout",
     "output_type": "stream",
     "text": [
      "{'p': 5, 'd': 1, 'q': 2, 'trend': 'n'} MSE: 0.6028668425037954\n",
      "{'p': 5, 'd': 1, 'q': 3, 'trend': 'c'} MSE: inf\n"
     ]
    },
    {
     "name": "stderr",
     "output_type": "stream",
     "text": [
      "/home/hashim/.local/lib/python3.10/site-packages/statsmodels/tsa/statespace/sarimax.py:966: UserWarning: Non-stationary starting autoregressive parameters found. Using zeros as starting parameters.\n",
      "  warn('Non-stationary starting autoregressive parameters'\n",
      "/home/hashim/.local/lib/python3.10/site-packages/statsmodels/tsa/statespace/sarimax.py:978: UserWarning: Non-invertible starting MA parameters found. Using zeros as starting parameters.\n",
      "  warn('Non-invertible starting MA parameters found.'\n"
     ]
    },
    {
     "name": "stdout",
     "output_type": "stream",
     "text": [
      "{'p': 5, 'd': 1, 'q': 1, 'trend': 't'} MSE: 0.6018895644706218\n",
      "{'p': 5, 'd': 1, 'q': 3, 'trend': 'ct'} MSE: inf\n",
      "{'p': 5, 'd': 1, 'q': 2, 'trend': 't'} MSE: 0.6028668421884441\n",
      "{'p': 5, 'd': 1, 'q': 4, 'trend': 'c'} MSE: inf\n"
     ]
    },
    {
     "name": "stderr",
     "output_type": "stream",
     "text": [
      "/home/hashim/.local/lib/python3.10/site-packages/statsmodels/base/model.py:607: ConvergenceWarning: Maximum Likelihood optimization failed to converge. Check mle_retvals\n",
      "  warnings.warn(\"Maximum Likelihood optimization failed to \"\n",
      "/home/hashim/.local/lib/python3.10/site-packages/statsmodels/base/model.py:607: ConvergenceWarning: Maximum Likelihood optimization failed to converge. Check mle_retvals\n",
      "  warnings.warn(\"Maximum Likelihood optimization failed to \"\n"
     ]
    },
    {
     "name": "stdout",
     "output_type": "stream",
     "text": [
      "{'p': 5, 'd': 1, 'q': 3, 'trend': 'n'} MSE: 0.4525834781561898\n",
      "{'p': 5, 'd': 1, 'q': 4, 'trend': 'ct'} MSE: inf\n"
     ]
    },
    {
     "name": "stderr",
     "output_type": "stream",
     "text": [
      "/home/hashim/.local/lib/python3.10/site-packages/statsmodels/tsa/statespace/sarimax.py:966: UserWarning: Non-stationary starting autoregressive parameters found. Using zeros as starting parameters.\n",
      "  warn('Non-stationary starting autoregressive parameters'\n",
      "/home/hashim/.local/lib/python3.10/site-packages/statsmodels/tsa/statespace/sarimax.py:978: UserWarning: Non-invertible starting MA parameters found. Using zeros as starting parameters.\n",
      "  warn('Non-invertible starting MA parameters found.'\n"
     ]
    },
    {
     "name": "stdout",
     "output_type": "stream",
     "text": [
      "{'p': 5, 'd': 0, 'q': 5, 'trend': 'c'} MSE: 0.3395424048994909\n",
      "{'p': 5, 'd': 1, 'q': 5, 'trend': 'c'} MSE: inf\n"
     ]
    },
    {
     "name": "stderr",
     "output_type": "stream",
     "text": [
      "/home/hashim/.local/lib/python3.10/site-packages/statsmodels/tsa/statespace/sarimax.py:966: UserWarning: Non-stationary starting autoregressive parameters found. Using zeros as starting parameters.\n",
      "  warn('Non-stationary starting autoregressive parameters'\n",
      "/home/hashim/.local/lib/python3.10/site-packages/statsmodels/tsa/statespace/sarimax.py:978: UserWarning: Non-invertible starting MA parameters found. Using zeros as starting parameters.\n",
      "  warn('Non-invertible starting MA parameters found.'\n",
      "/home/hashim/.local/lib/python3.10/site-packages/statsmodels/base/model.py:607: ConvergenceWarning: Maximum Likelihood optimization failed to converge. Check mle_retvals\n",
      "  warnings.warn(\"Maximum Likelihood optimization failed to \"\n"
     ]
    },
    {
     "name": "stdout",
     "output_type": "stream",
     "text": [
      "{'p': 5, 'd': 1, 'q': 4, 'trend': 'n'} MSE: 0.4016187750828187\n",
      "{'p': 5, 'd': 1, 'q': 5, 'trend': 'ct'} MSE: inf\n",
      "{'p': 5, 'd': 2, 'q': 0, 'trend': 'n'} MSE: 0.6387165252048818\n",
      "{'p': 5, 'd': 2, 'q': 0, 'trend': 'c'} MSE: inf\n",
      "{'p': 5, 'd': 2, 'q': 0, 'trend': 't'} MSE: inf\n",
      "{'p': 5, 'd': 2, 'q': 0, 'trend': 'ct'} MSE: inf\n",
      "{'p': 5, 'd': 2, 'q': 1, 'trend': 'n'} MSE: 0.6364814559138258\n",
      "{'p': 5, 'd': 2, 'q': 1, 'trend': 'c'} MSE: inf\n",
      "{'p': 5, 'd': 2, 'q': 1, 'trend': 't'} MSE: inf\n",
      "{'p': 5, 'd': 2, 'q': 1, 'trend': 'ct'} MSE: inf\n"
     ]
    },
    {
     "name": "stderr",
     "output_type": "stream",
     "text": [
      "/home/hashim/.local/lib/python3.10/site-packages/statsmodels/base/model.py:607: ConvergenceWarning: Maximum Likelihood optimization failed to converge. Check mle_retvals\n",
      "  warnings.warn(\"Maximum Likelihood optimization failed to \"\n"
     ]
    },
    {
     "name": "stdout",
     "output_type": "stream",
     "text": [
      "{'p': 5, 'd': 1, 'q': 3, 'trend': 't'} MSE: 0.48660761376787126\n",
      "{'p': 5, 'd': 2, 'q': 2, 'trend': 'c'} MSE: inf\n",
      "{'p': 5, 'd': 2, 'q': 2, 'trend': 't'} MSE: inf\n",
      "{'p': 5, 'd': 2, 'q': 2, 'trend': 'ct'} MSE: inf\n"
     ]
    },
    {
     "name": "stderr",
     "output_type": "stream",
     "text": [
      "/home/hashim/.local/lib/python3.10/site-packages/statsmodels/base/model.py:607: ConvergenceWarning: Maximum Likelihood optimization failed to converge. Check mle_retvals\n",
      "  warnings.warn(\"Maximum Likelihood optimization failed to \"\n"
     ]
    },
    {
     "name": "stdout",
     "output_type": "stream",
     "text": [
      "{'p': 5, 'd': 1, 'q': 5, 'trend': 'n'} MSE: 0.38882895272621737\n",
      "{'p': 5, 'd': 2, 'q': 3, 'trend': 'c'} MSE: inf\n",
      "{'p': 5, 'd': 2, 'q': 3, 'trend': 't'} MSE: inf\n",
      "{'p': 5, 'd': 2, 'q': 3, 'trend': 'ct'} MSE: inf\n"
     ]
    },
    {
     "name": "stderr",
     "output_type": "stream",
     "text": [
      "/home/hashim/.local/lib/python3.10/site-packages/statsmodels/base/model.py:607: ConvergenceWarning: Maximum Likelihood optimization failed to converge. Check mle_retvals\n",
      "  warnings.warn(\"Maximum Likelihood optimization failed to \"\n"
     ]
    },
    {
     "name": "stdout",
     "output_type": "stream",
     "text": [
      "{'p': 5, 'd': 2, 'q': 2, 'trend': 'n'} MSE: 0.6003724042900345\n",
      "{'p': 5, 'd': 2, 'q': 4, 'trend': 'c'} MSE: inf\n",
      "{'p': 5, 'd': 2, 'q': 4, 'trend': 't'} MSE: inf\n",
      "{'p': 5, 'd': 2, 'q': 4, 'trend': 'ct'} MSE: inf\n"
     ]
    },
    {
     "name": "stderr",
     "output_type": "stream",
     "text": [
      "/home/hashim/.local/lib/python3.10/site-packages/statsmodels/base/model.py:607: ConvergenceWarning: Maximum Likelihood optimization failed to converge. Check mle_retvals\n",
      "  warnings.warn(\"Maximum Likelihood optimization failed to \"\n"
     ]
    },
    {
     "name": "stdout",
     "output_type": "stream",
     "text": [
      "{'p': 5, 'd': 1, 'q': 4, 'trend': 't'} MSE: 0.40430202067021453\n",
      "{'p': 5, 'd': 2, 'q': 5, 'trend': 'c'} MSE: inf\n",
      "{'p': 5, 'd': 2, 'q': 5, 'trend': 't'} MSE: inf\n",
      "{'p': 5, 'd': 2, 'q': 5, 'trend': 'ct'} MSE: inf\n"
     ]
    },
    {
     "name": "stderr",
     "output_type": "stream",
     "text": [
      "/home/hashim/.local/lib/python3.10/site-packages/statsmodels/tsa/statespace/sarimax.py:966: UserWarning: Non-stationary starting autoregressive parameters found. Using zeros as starting parameters.\n",
      "  warn('Non-stationary starting autoregressive parameters'\n",
      "/home/hashim/.local/lib/python3.10/site-packages/statsmodels/tsa/statespace/sarimax.py:978: UserWarning: Non-invertible starting MA parameters found. Using zeros as starting parameters.\n",
      "  warn('Non-invertible starting MA parameters found.'\n"
     ]
    },
    {
     "name": "stdout",
     "output_type": "stream",
     "text": [
      "{'p': 5, 'd': 3, 'q': 0, 'trend': 'n'} MSE: 0.9666524437005125\n",
      "{'p': 5, 'd': 3, 'q': 0, 'trend': 'c'} MSE: inf\n",
      "{'p': 5, 'd': 3, 'q': 0, 'trend': 't'} MSE: inf\n",
      "{'p': 5, 'd': 3, 'q': 0, 'trend': 'ct'} MSE: inf\n"
     ]
    },
    {
     "name": "stderr",
     "output_type": "stream",
     "text": [
      "/home/hashim/.local/lib/python3.10/site-packages/statsmodels/base/model.py:607: ConvergenceWarning: Maximum Likelihood optimization failed to converge. Check mle_retvals\n",
      "  warnings.warn(\"Maximum Likelihood optimization failed to \"\n"
     ]
    },
    {
     "name": "stdout",
     "output_type": "stream",
     "text": [
      "{'p': 5, 'd': 2, 'q': 3, 'trend': 'n'} MSE: 0.5456065072727547\n",
      "{'p': 5, 'd': 3, 'q': 1, 'trend': 'c'} MSE: inf\n",
      "{'p': 5, 'd': 3, 'q': 1, 'trend': 't'} MSE: inf\n",
      "{'p': 5, 'd': 3, 'q': 1, 'trend': 'ct'} MSE: inf\n"
     ]
    },
    {
     "name": "stderr",
     "output_type": "stream",
     "text": [
      "/home/hashim/.local/lib/python3.10/site-packages/statsmodels/tsa/statespace/sarimax.py:966: UserWarning: Non-stationary starting autoregressive parameters found. Using zeros as starting parameters.\n",
      "  warn('Non-stationary starting autoregressive parameters'\n",
      "/home/hashim/.local/lib/python3.10/site-packages/statsmodels/tsa/statespace/sarimax.py:978: UserWarning: Non-invertible starting MA parameters found. Using zeros as starting parameters.\n",
      "  warn('Non-invertible starting MA parameters found.'\n",
      "/home/hashim/.local/lib/python3.10/site-packages/statsmodels/base/model.py:607: ConvergenceWarning: Maximum Likelihood optimization failed to converge. Check mle_retvals\n",
      "  warnings.warn(\"Maximum Likelihood optimization failed to \"\n",
      "/home/hashim/.local/lib/python3.10/site-packages/statsmodels/tsa/statespace/sarimax.py:978: UserWarning: Non-invertible starting MA parameters found. Using zeros as starting parameters.\n",
      "  warn('Non-invertible starting MA parameters found.'\n"
     ]
    },
    {
     "name": "stdout",
     "output_type": "stream",
     "text": [
      "{'p': 5, 'd': 2, 'q': 4, 'trend': 'n'} MSE: 0.45346209261942716\n",
      "{'p': 5, 'd': 3, 'q': 2, 'trend': 'c'} MSE: inf\n",
      "{'p': 5, 'd': 3, 'q': 2, 'trend': 't'} MSE: inf\n",
      "{'p': 5, 'd': 3, 'q': 2, 'trend': 'ct'} MSE: inf\n"
     ]
    },
    {
     "name": "stderr",
     "output_type": "stream",
     "text": [
      "/home/hashim/.local/lib/python3.10/site-packages/statsmodels/base/model.py:607: ConvergenceWarning: Maximum Likelihood optimization failed to converge. Check mle_retvals\n",
      "  warnings.warn(\"Maximum Likelihood optimization failed to \"\n"
     ]
    },
    {
     "name": "stdout",
     "output_type": "stream",
     "text": [
      "{'p': 5, 'd': 2, 'q': 5, 'trend': 'n'} MSE: 0.5040685203939969\n",
      "{'p': 5, 'd': 3, 'q': 3, 'trend': 'c'} MSE: inf\n",
      "{'p': 5, 'd': 3, 'q': 3, 'trend': 't'} MSE: inf\n",
      "{'p': 5, 'd': 3, 'q': 3, 'trend': 'ct'} MSE: inf\n"
     ]
    },
    {
     "name": "stderr",
     "output_type": "stream",
     "text": [
      "/home/hashim/.local/lib/python3.10/site-packages/statsmodels/base/model.py:607: ConvergenceWarning: Maximum Likelihood optimization failed to converge. Check mle_retvals\n",
      "  warnings.warn(\"Maximum Likelihood optimization failed to \"\n"
     ]
    },
    {
     "name": "stdout",
     "output_type": "stream",
     "text": [
      "{'p': 5, 'd': 1, 'q': 5, 'trend': 't'} MSE: 0.38823345912831425\n",
      "{'p': 5, 'd': 3, 'q': 4, 'trend': 'c'} MSE: inf\n",
      "{'p': 5, 'd': 3, 'q': 4, 'trend': 't'} MSE: inf\n",
      "{'p': 5, 'd': 3, 'q': 4, 'trend': 'ct'} MSE: inf\n",
      "{'p': 5, 'd': 3, 'q': 1, 'trend': 'n'} MSE: 0.6388459979984689\n",
      "{'p': 5, 'd': 3, 'q': 5, 'trend': 'c'} MSE: inf\n",
      "{'p': 5, 'd': 3, 'q': 5, 'trend': 't'} MSE: inf\n",
      "{'p': 5, 'd': 3, 'q': 5, 'trend': 'ct'} MSE: inf\n"
     ]
    },
    {
     "name": "stderr",
     "output_type": "stream",
     "text": [
      "/home/hashim/.local/lib/python3.10/site-packages/statsmodels/base/model.py:607: ConvergenceWarning: Maximum Likelihood optimization failed to converge. Check mle_retvals\n",
      "  warnings.warn(\"Maximum Likelihood optimization failed to \"\n",
      "/home/hashim/.local/lib/python3.10/site-packages/statsmodels/tsa/statespace/sarimax.py:966: UserWarning: Non-stationary starting autoregressive parameters found. Using zeros as starting parameters.\n",
      "  warn('Non-stationary starting autoregressive parameters'\n",
      "/home/hashim/.local/lib/python3.10/site-packages/statsmodels/tsa/statespace/sarimax.py:978: UserWarning: Non-invertible starting MA parameters found. Using zeros as starting parameters.\n",
      "  warn('Non-invertible starting MA parameters found.'\n"
     ]
    },
    {
     "name": "stdout",
     "output_type": "stream",
     "text": [
      "{'p': 5, 'd': 3, 'q': 2, 'trend': 'n'} MSE: 0.6366109030798095\n",
      "{'p': 5, 'd': 4, 'q': 0, 'trend': 'c'} MSE: inf\n",
      "{'p': 5, 'd': 4, 'q': 0, 'trend': 't'} MSE: inf\n",
      "{'p': 5, 'd': 4, 'q': 0, 'trend': 'ct'} MSE: inf\n"
     ]
    },
    {
     "name": "stderr",
     "output_type": "stream",
     "text": [
      "/home/hashim/.local/lib/python3.10/site-packages/statsmodels/tsa/statespace/sarimax.py:966: UserWarning: Non-stationary starting autoregressive parameters found. Using zeros as starting parameters.\n",
      "  warn('Non-stationary starting autoregressive parameters'\n",
      "/home/hashim/.local/lib/python3.10/site-packages/statsmodels/tsa/statespace/sarimax.py:978: UserWarning: Non-invertible starting MA parameters found. Using zeros as starting parameters.\n",
      "  warn('Non-invertible starting MA parameters found.'\n"
     ]
    },
    {
     "name": "stdout",
     "output_type": "stream",
     "text": [
      "{'p': 5, 'd': 4, 'q': 0, 'trend': 'n'} MSE: 1.8561931330393004\n",
      "{'p': 5, 'd': 4, 'q': 1, 'trend': 'c'} MSE: inf\n",
      "{'p': 5, 'd': 4, 'q': 1, 'trend': 't'} MSE: inf\n",
      "{'p': 5, 'd': 4, 'q': 1, 'trend': 'ct'} MSE: inf\n"
     ]
    },
    {
     "name": "stderr",
     "output_type": "stream",
     "text": [
      "/home/hashim/.local/lib/python3.10/site-packages/statsmodels/tsa/statespace/sarimax.py:978: UserWarning: Non-invertible starting MA parameters found. Using zeros as starting parameters.\n",
      "  warn('Non-invertible starting MA parameters found.'\n"
     ]
    },
    {
     "name": "stdout",
     "output_type": "stream",
     "text": [
      "{'p': 5, 'd': 3, 'q': 3, 'trend': 'n'} MSE: 0.5486596397585464\n",
      "{'p': 5, 'd': 4, 'q': 2, 'trend': 'c'} MSE: inf\n",
      "{'p': 5, 'd': 4, 'q': 2, 'trend': 't'} MSE: inf\n",
      "{'p': 5, 'd': 4, 'q': 2, 'trend': 'ct'} MSE: inf\n"
     ]
    },
    {
     "name": "stderr",
     "output_type": "stream",
     "text": [
      "/home/hashim/.local/lib/python3.10/site-packages/statsmodels/base/model.py:607: ConvergenceWarning: Maximum Likelihood optimization failed to converge. Check mle_retvals\n",
      "  warnings.warn(\"Maximum Likelihood optimization failed to \"\n"
     ]
    },
    {
     "name": "stdout",
     "output_type": "stream",
     "text": [
      "{'p': 5, 'd': 3, 'q': 4, 'trend': 'n'} MSE: 0.5216720372832673\n",
      "{'p': 5, 'd': 4, 'q': 3, 'trend': 'c'} MSE: inf\n",
      "{'p': 5, 'd': 4, 'q': 3, 'trend': 't'} MSE: inf\n",
      "{'p': 5, 'd': 4, 'q': 3, 'trend': 'ct'} MSE: inf\n"
     ]
    },
    {
     "name": "stderr",
     "output_type": "stream",
     "text": [
      "/home/hashim/.local/lib/python3.10/site-packages/statsmodels/tsa/statespace/sarimax.py:978: UserWarning: Non-invertible starting MA parameters found. Using zeros as starting parameters.\n",
      "  warn('Non-invertible starting MA parameters found.'\n"
     ]
    },
    {
     "name": "stdout",
     "output_type": "stream",
     "text": [
      "{'p': 5, 'd': 4, 'q': 1, 'trend': 'n'} MSE: 0.9668917995516225\n",
      "{'p': 5, 'd': 4, 'q': 4, 'trend': 'c'} MSE: inf\n",
      "{'p': 5, 'd': 4, 'q': 4, 'trend': 't'} MSE: inf\n",
      "{'p': 5, 'd': 4, 'q': 4, 'trend': 'ct'} MSE: inf\n"
     ]
    },
    {
     "name": "stderr",
     "output_type": "stream",
     "text": [
      "/home/hashim/.local/lib/python3.10/site-packages/statsmodels/tsa/statespace/sarimax.py:978: UserWarning: Non-invertible starting MA parameters found. Using zeros as starting parameters.\n",
      "  warn('Non-invertible starting MA parameters found.'\n",
      "/home/hashim/.local/lib/python3.10/site-packages/statsmodels/base/model.py:607: ConvergenceWarning: Maximum Likelihood optimization failed to converge. Check mle_retvals\n",
      "  warnings.warn(\"Maximum Likelihood optimization failed to \"\n"
     ]
    },
    {
     "name": "stdout",
     "output_type": "stream",
     "text": [
      "{'p': 5, 'd': 3, 'q': 5, 'trend': 'n'} MSE: 0.5158518865047397\n",
      "{'p': 5, 'd': 4, 'q': 5, 'trend': 'c'} MSE: inf\n",
      "{'p': 5, 'd': 4, 'q': 5, 'trend': 't'} MSE: inf\n",
      "{'p': 5, 'd': 4, 'q': 5, 'trend': 'ct'} MSE: inf\n"
     ]
    },
    {
     "name": "stderr",
     "output_type": "stream",
     "text": [
      "/home/hashim/.local/lib/python3.10/site-packages/statsmodels/tsa/statespace/sarimax.py:966: UserWarning: Non-stationary starting autoregressive parameters found. Using zeros as starting parameters.\n",
      "  warn('Non-stationary starting autoregressive parameters'\n",
      "/home/hashim/.local/lib/python3.10/site-packages/statsmodels/tsa/statespace/sarimax.py:978: UserWarning: Non-invertible starting MA parameters found. Using zeros as starting parameters.\n",
      "  warn('Non-invertible starting MA parameters found.'\n"
     ]
    },
    {
     "name": "stdout",
     "output_type": "stream",
     "text": [
      "{'p': 5, 'd': 4, 'q': 2, 'trend': 'n'} MSE: 0.6403496908050113\n",
      "{'p': 5, 'd': 5, 'q': 0, 'trend': 'c'} MSE: inf\n",
      "{'p': 5, 'd': 5, 'q': 0, 'trend': 't'} MSE: inf\n",
      "{'p': 5, 'd': 5, 'q': 0, 'trend': 'ct'} MSE: inf\n",
      "{'p': 5, 'd': 5, 'q': 0, 'trend': 'n'} MSE: 3.6756508577005884\n",
      "{'p': 5, 'd': 5, 'q': 1, 'trend': 'c'} MSE: inf\n",
      "{'p': 5, 'd': 5, 'q': 1, 'trend': 't'} MSE: inf\n",
      "{'p': 5, 'd': 5, 'q': 1, 'trend': 'ct'} MSE: inf\n"
     ]
    },
    {
     "name": "stderr",
     "output_type": "stream",
     "text": [
      "/home/hashim/.local/lib/python3.10/site-packages/statsmodels/tsa/statespace/sarimax.py:978: UserWarning: Non-invertible starting MA parameters found. Using zeros as starting parameters.\n",
      "  warn('Non-invertible starting MA parameters found.'\n",
      "/home/hashim/.local/lib/python3.10/site-packages/statsmodels/base/model.py:607: ConvergenceWarning: Maximum Likelihood optimization failed to converge. Check mle_retvals\n",
      "  warnings.warn(\"Maximum Likelihood optimization failed to \"\n",
      "/home/hashim/.local/lib/python3.10/site-packages/statsmodels/base/model.py:607: ConvergenceWarning: Maximum Likelihood optimization failed to converge. Check mle_retvals\n",
      "  warnings.warn(\"Maximum Likelihood optimization failed to \"\n",
      "/home/hashim/.local/lib/python3.10/site-packages/statsmodels/tsa/statespace/sarimax.py:978: UserWarning: Non-invertible starting MA parameters found. Using zeros as starting parameters.\n",
      "  warn('Non-invertible starting MA parameters found.'\n"
     ]
    },
    {
     "name": "stdout",
     "output_type": "stream",
     "text": [
      "{'p': 5, 'd': 4, 'q': 4, 'trend': 'n'} MSE: 0.6753564201001966\n",
      "{'p': 5, 'd': 5, 'q': 2, 'trend': 'c'} MSE: inf\n",
      "{'p': 5, 'd': 5, 'q': 2, 'trend': 't'} MSE: inf\n",
      "{'p': 5, 'd': 5, 'q': 2, 'trend': 'ct'} MSE: inf\n",
      "{'p': 5, 'd': 4, 'q': 3, 'trend': 'n'} MSE: 0.949306564489678\n",
      "{'p': 5, 'd': 5, 'q': 3, 'trend': 'c'} MSE: inf\n",
      "{'p': 5, 'd': 5, 'q': 3, 'trend': 't'} MSE: inf\n",
      "{'p': 5, 'd': 5, 'q': 3, 'trend': 'ct'} MSE: inf\n"
     ]
    },
    {
     "name": "stderr",
     "output_type": "stream",
     "text": [
      "/home/hashim/.local/lib/python3.10/site-packages/statsmodels/tsa/statespace/sarimax.py:978: UserWarning: Non-invertible starting MA parameters found. Using zeros as starting parameters.\n",
      "  warn('Non-invertible starting MA parameters found.'\n",
      "/home/hashim/.local/lib/python3.10/site-packages/statsmodels/base/model.py:607: ConvergenceWarning: Maximum Likelihood optimization failed to converge. Check mle_retvals\n",
      "  warnings.warn(\"Maximum Likelihood optimization failed to \"\n"
     ]
    },
    {
     "name": "stdout",
     "output_type": "stream",
     "text": [
      "{'p': 5, 'd': 5, 'q': 2, 'trend': 'n'} MSE: 2.0841000323592427\n",
      "{'p': 5, 'd': 5, 'q': 4, 'trend': 'c'} MSE: inf\n",
      "{'p': 5, 'd': 5, 'q': 4, 'trend': 't'} MSE: inf\n",
      "{'p': 5, 'd': 5, 'q': 4, 'trend': 'ct'} MSE: inf\n"
     ]
    },
    {
     "name": "stderr",
     "output_type": "stream",
     "text": [
      "/home/hashim/.local/lib/python3.10/site-packages/statsmodels/tsa/statespace/sarimax.py:978: UserWarning: Non-invertible starting MA parameters found. Using zeros as starting parameters.\n",
      "  warn('Non-invertible starting MA parameters found.'\n"
     ]
    },
    {
     "name": "stdout",
     "output_type": "stream",
     "text": [
      "{'p': 5, 'd': 4, 'q': 5, 'trend': 'n'} MSE: 0.6773519166809494\n",
      "{'p': 5, 'd': 5, 'q': 5, 'trend': 'c'} MSE: inf\n",
      "{'p': 5, 'd': 5, 'q': 5, 'trend': 't'} MSE: inf\n",
      "{'p': 5, 'd': 5, 'q': 5, 'trend': 'ct'} MSE: inf\n",
      "{'p': 5, 'd': 5, 'q': 1, 'trend': 'n'} MSE: 1.856770869841572\n"
     ]
    },
    {
     "name": "stderr",
     "output_type": "stream",
     "text": [
      "/home/hashim/.local/lib/python3.10/site-packages/statsmodels/base/model.py:607: ConvergenceWarning: Maximum Likelihood optimization failed to converge. Check mle_retvals\n",
      "  warnings.warn(\"Maximum Likelihood optimization failed to \"\n"
     ]
    },
    {
     "name": "stdout",
     "output_type": "stream",
     "text": [
      "{'p': 5, 'd': 5, 'q': 4, 'trend': 'n'} MSE: 1.1087635069294364\n"
     ]
    },
    {
     "name": "stderr",
     "output_type": "stream",
     "text": [
      "/home/hashim/.local/lib/python3.10/site-packages/statsmodels/base/model.py:607: ConvergenceWarning: Maximum Likelihood optimization failed to converge. Check mle_retvals\n",
      "  warnings.warn(\"Maximum Likelihood optimization failed to \"\n"
     ]
    },
    {
     "name": "stdout",
     "output_type": "stream",
     "text": [
      "{'p': 5, 'd': 5, 'q': 3, 'trend': 'n'} MSE: 2.058231349883395\n",
      "{'p': 5, 'd': 5, 'q': 5, 'trend': 'n'} MSE: 1.1556533163078888\n"
     ]
    },
    {
     "name": "stderr",
     "output_type": "stream",
     "text": [
      "/home/hashim/.local/lib/python3.10/site-packages/statsmodels/base/model.py:607: ConvergenceWarning: Maximum Likelihood optimization failed to converge. Check mle_retvals\n",
      "  warnings.warn(\"Maximum Likelihood optimization failed to \"\n"
     ]
    },
    {
     "name": "stdout",
     "output_type": "stream",
     "text": [
      "{'p': 3, 'd': 4, 'q': 5, 'trend': 'n'} MSE: 2.566198644187923e+34\n",
      "Best Parameters: {'p': 5, 'd': 0, 'q': 5, 'trend': 'n'}\n",
      "Best MSE: 0.33926629630982774\n"
     ]
    }
   ],
   "source": [
    "from statsmodels.tsa.arima.model import ARIMA\n",
    "from sklearn.metrics import mean_squared_error\n",
    "import itertools\n",
    "import pandas as pd\n",
    "from concurrent.futures import ProcessPoolExecutor, as_completed\n",
    "\n",
    "def fit_arima_model(data_values, params):\n",
    "    try:\n",
    "        p, d, q = params['p'], params['d'], params['q']\n",
    "        trend = params['trend']\n",
    "\n",
    "        model = ARIMA(data_values, order=(p, d, q), trend=trend)\n",
    "        fitted_model = model.fit()\n",
    "        mse = mean_squared_error(data_values, fitted_model.fittedvalues)\n",
    "\n",
    "        return params, mse\n",
    "    except Exception as e:\n",
    "        return params, float('inf')\n",
    "\n",
    "def arima_grid_search(data_values, param_space):\n",
    "    # Create all combinations of parameters\n",
    "    keys, values = zip(*param_space.items())\n",
    "    param_combinations = [dict(zip(keys, v)) for v in itertools.product(*values)]\n",
    "    \n",
    "    best_params = None\n",
    "    best_mse = float('inf')\n",
    "    \n",
    "    # Using ProcessPoolExecutor to parallelize the fitting process\n",
    "    with ProcessPoolExecutor() as executor:\n",
    "        future_to_params = {executor.submit(fit_arima_model, data_values, params): params for params in param_combinations}\n",
    "        \n",
    "        for future in as_completed(future_to_params):\n",
    "            params, mse = future.result()\n",
    "            if mse < best_mse:\n",
    "                best_mse = mse\n",
    "                best_params = params\n",
    "            # Optionally print parameters and MSE\n",
    "            print(params, 'MSE:', mse)\n",
    "\n",
    "    return best_params, best_mse\n",
    "\n",
    "# Example usage:\n",
    "# Define your parameter space\n",
    "param_space = {\n",
    "    'p': range(0, 6),\n",
    "    'd': range(0, 6),\n",
    "    'q': range(0, 6),\n",
    "    'trend': ['n', 'c', 't', 'ct']\n",
    "}\n",
    "\n",
    "# Example data_values (scaled)\n",
    "data_values = list(df['COMED_MW_scaled'])  # Make sure df['COMED_MW_scaled'] is defined and properly scaled\n",
    "\n",
    "# Perform the grid search\n",
    "best_params, best_mse = arima_grid_search(data_values, param_space)\n",
    "\n",
    "print('Best Parameters:', best_params)\n",
    "print('Best MSE:', best_mse)\n"
   ]
  },
  {
   "cell_type": "markdown",
   "metadata": {},
   "source": [
    "## Is 0.33 really the best MSE?\n",
    "Since the testing was done on the same data as it was trained on, the MSE is not actually 0.33. We will explore real MSE down the line. "
   ]
  },
  {
   "cell_type": "code",
   "execution_count": 49,
   "metadata": {},
   "outputs": [],
   "source": [
    "# Divide the DataFrame into training and testing data\n",
    "train = df.iloc[:int(0.8 * len(df))]\n",
    "test = df.iloc[int(0.8 * len(df)):]"
   ]
  },
  {
   "cell_type": "code",
   "execution_count": 50,
   "metadata": {},
   "outputs": [],
   "source": [
    "train = train['COMED_MW_scaled']\n",
    "test = test['COMED_MW_scaled']"
   ]
  },
  {
   "cell_type": "code",
   "execution_count": 51,
   "metadata": {},
   "outputs": [
    {
     "name": "stderr",
     "output_type": "stream",
     "text": [
      "/home/hashim/.local/lib/python3.10/site-packages/statsmodels/tsa/statespace/sarimax.py:978: UserWarning: Non-invertible starting MA parameters found. Using zeros as starting parameters.\n",
      "  warn('Non-invertible starting MA parameters found.'\n",
      "/home/hashim/.local/lib/python3.10/site-packages/statsmodels/base/model.py:607: ConvergenceWarning: Maximum Likelihood optimization failed to converge. Check mle_retvals\n",
      "  warnings.warn(\"Maximum Likelihood optimization failed to \"\n"
     ]
    },
    {
     "data": {
      "text/html": [
       "<table class=\"simpletable\">\n",
       "<caption>SARIMAX Results</caption>\n",
       "<tr>\n",
       "  <th>Dep. Variable:</th>    <td>COMED_MW_scaled</td> <th>  No. Observations:  </th>    <td>53197</td>  \n",
       "</tr>\n",
       "<tr>\n",
       "  <th>Model:</th>            <td>ARIMA(5, 0, 5)</td>  <th>  Log Likelihood     </th> <td>-46840.903</td>\n",
       "</tr>\n",
       "<tr>\n",
       "  <th>Date:</th>            <td>Mon, 13 May 2024</td> <th>  AIC                </th>  <td>93703.807</td>\n",
       "</tr>\n",
       "<tr>\n",
       "  <th>Time:</th>                <td>00:01:48</td>     <th>  BIC                </th>  <td>93801.506</td>\n",
       "</tr>\n",
       "<tr>\n",
       "  <th>Sample:</th>                  <td>0</td>        <th>  HQIC               </th>  <td>93734.322</td>\n",
       "</tr>\n",
       "<tr>\n",
       "  <th></th>                     <td> - 53197</td>     <th>                     </th>      <td> </td>    \n",
       "</tr>\n",
       "<tr>\n",
       "  <th>Covariance Type:</th>        <td>opg</td>       <th>                     </th>      <td> </td>    \n",
       "</tr>\n",
       "</table>\n",
       "<table class=\"simpletable\">\n",
       "<tr>\n",
       "     <td></td>       <th>coef</th>     <th>std err</th>      <th>z</th>      <th>P>|z|</th>  <th>[0.025</th>    <th>0.975]</th>  \n",
       "</tr>\n",
       "<tr>\n",
       "  <th>ar.L1</th>  <td>    1.5555</td> <td>    0.007</td> <td>  227.010</td> <td> 0.000</td> <td>    1.542</td> <td>    1.569</td>\n",
       "</tr>\n",
       "<tr>\n",
       "  <th>ar.L2</th>  <td>   -0.6421</td> <td>    0.007</td> <td>  -96.799</td> <td> 0.000</td> <td>   -0.655</td> <td>   -0.629</td>\n",
       "</tr>\n",
       "<tr>\n",
       "  <th>ar.L3</th>  <td>    0.9563</td> <td>    0.002</td> <td>  530.942</td> <td> 0.000</td> <td>    0.953</td> <td>    0.960</td>\n",
       "</tr>\n",
       "<tr>\n",
       "  <th>ar.L4</th>  <td>   -1.5653</td> <td>    0.007</td> <td> -230.790</td> <td> 0.000</td> <td>   -1.579</td> <td>   -1.552</td>\n",
       "</tr>\n",
       "<tr>\n",
       "  <th>ar.L5</th>  <td>    0.6195</td> <td>    0.007</td> <td>   89.439</td> <td> 0.000</td> <td>    0.606</td> <td>    0.633</td>\n",
       "</tr>\n",
       "<tr>\n",
       "  <th>ma.L1</th>  <td>   -0.8335</td> <td>    0.011</td> <td>  -73.907</td> <td> 0.000</td> <td>   -0.856</td> <td>   -0.811</td>\n",
       "</tr>\n",
       "<tr>\n",
       "  <th>ma.L2</th>  <td>    0.0034</td> <td>    0.010</td> <td>    0.361</td> <td> 0.718</td> <td>   -0.015</td> <td>    0.022</td>\n",
       "</tr>\n",
       "<tr>\n",
       "  <th>ma.L3</th>  <td>   -0.8426</td> <td>    0.001</td> <td> -927.987</td> <td> 0.000</td> <td>   -0.844</td> <td>   -0.841</td>\n",
       "</tr>\n",
       "<tr>\n",
       "  <th>ma.L4</th>  <td>    0.9646</td> <td>    0.010</td> <td>  100.951</td> <td> 0.000</td> <td>    0.946</td> <td>    0.983</td>\n",
       "</tr>\n",
       "<tr>\n",
       "  <th>ma.L5</th>  <td>    0.0190</td> <td>    0.011</td> <td>    1.718</td> <td> 0.086</td> <td>   -0.003</td> <td>    0.041</td>\n",
       "</tr>\n",
       "<tr>\n",
       "  <th>sigma2</th> <td>    0.3416</td> <td>    0.002</td> <td>  137.196</td> <td> 0.000</td> <td>    0.337</td> <td>    0.346</td>\n",
       "</tr>\n",
       "</table>\n",
       "<table class=\"simpletable\">\n",
       "<tr>\n",
       "  <th>Ljung-Box (L1) (Q):</th>     <td>1.73</td> <th>  Jarque-Bera (JB):  </th> <td>2307.88</td>\n",
       "</tr>\n",
       "<tr>\n",
       "  <th>Prob(Q):</th>                <td>0.19</td> <th>  Prob(JB):          </th>  <td>0.00</td>  \n",
       "</tr>\n",
       "<tr>\n",
       "  <th>Heteroskedasticity (H):</th> <td>1.00</td> <th>  Skew:              </th>  <td>-0.36</td> \n",
       "</tr>\n",
       "<tr>\n",
       "  <th>Prob(H) (two-sided):</th>    <td>0.80</td> <th>  Kurtosis:          </th>  <td>3.72</td>  \n",
       "</tr>\n",
       "</table><br/><br/>Warnings:<br/>[1] Covariance matrix calculated using the outer product of gradients (complex-step)."
      ],
      "text/latex": [
       "\\begin{center}\n",
       "\\begin{tabular}{lclc}\n",
       "\\toprule\n",
       "\\textbf{Dep. Variable:}          & COMED\\_MW\\_scaled & \\textbf{  No. Observations:  } &   53197     \\\\\n",
       "\\textbf{Model:}                  &   ARIMA(5, 0, 5)  & \\textbf{  Log Likelihood     } & -46840.903  \\\\\n",
       "\\textbf{Date:}                   &  Mon, 13 May 2024 & \\textbf{  AIC                } & 93703.807   \\\\\n",
       "\\textbf{Time:}                   &      00:01:48     & \\textbf{  BIC                } & 93801.506   \\\\\n",
       "\\textbf{Sample:}                 &         0         & \\textbf{  HQIC               } & 93734.322   \\\\\n",
       "\\textbf{}                        &       - 53197     & \\textbf{                     } &             \\\\\n",
       "\\textbf{Covariance Type:}        &        opg        & \\textbf{                     } &             \\\\\n",
       "\\bottomrule\n",
       "\\end{tabular}\n",
       "\\begin{tabular}{lcccccc}\n",
       "                & \\textbf{coef} & \\textbf{std err} & \\textbf{z} & \\textbf{P$> |$z$|$} & \\textbf{[0.025} & \\textbf{0.975]}  \\\\\n",
       "\\midrule\n",
       "\\textbf{ar.L1}  &       1.5555  &        0.007     &   227.010  &         0.000        &        1.542    &        1.569     \\\\\n",
       "\\textbf{ar.L2}  &      -0.6421  &        0.007     &   -96.799  &         0.000        &       -0.655    &       -0.629     \\\\\n",
       "\\textbf{ar.L3}  &       0.9563  &        0.002     &   530.942  &         0.000        &        0.953    &        0.960     \\\\\n",
       "\\textbf{ar.L4}  &      -1.5653  &        0.007     &  -230.790  &         0.000        &       -1.579    &       -1.552     \\\\\n",
       "\\textbf{ar.L5}  &       0.6195  &        0.007     &    89.439  &         0.000        &        0.606    &        0.633     \\\\\n",
       "\\textbf{ma.L1}  &      -0.8335  &        0.011     &   -73.907  &         0.000        &       -0.856    &       -0.811     \\\\\n",
       "\\textbf{ma.L2}  &       0.0034  &        0.010     &     0.361  &         0.718        &       -0.015    &        0.022     \\\\\n",
       "\\textbf{ma.L3}  &      -0.8426  &        0.001     &  -927.987  &         0.000        &       -0.844    &       -0.841     \\\\\n",
       "\\textbf{ma.L4}  &       0.9646  &        0.010     &   100.951  &         0.000        &        0.946    &        0.983     \\\\\n",
       "\\textbf{ma.L5}  &       0.0190  &        0.011     &     1.718  &         0.086        &       -0.003    &        0.041     \\\\\n",
       "\\textbf{sigma2} &       0.3416  &        0.002     &   137.196  &         0.000        &        0.337    &        0.346     \\\\\n",
       "\\bottomrule\n",
       "\\end{tabular}\n",
       "\\begin{tabular}{lclc}\n",
       "\\textbf{Ljung-Box (L1) (Q):}     & 1.73 & \\textbf{  Jarque-Bera (JB):  } & 2307.88  \\\\\n",
       "\\textbf{Prob(Q):}                & 0.19 & \\textbf{  Prob(JB):          } &   0.00   \\\\\n",
       "\\textbf{Heteroskedasticity (H):} & 1.00 & \\textbf{  Skew:              } &  -0.36   \\\\\n",
       "\\textbf{Prob(H) (two-sided):}    & 0.80 & \\textbf{  Kurtosis:          } &   3.72   \\\\\n",
       "\\bottomrule\n",
       "\\end{tabular}\n",
       "%\\caption{SARIMAX Results}\n",
       "\\end{center}\n",
       "\n",
       "Warnings: \\newline\n",
       " [1] Covariance matrix calculated using the outer product of gradients (complex-step)."
      ],
      "text/plain": [
       "<class 'statsmodels.iolib.summary.Summary'>\n",
       "\"\"\"\n",
       "                               SARIMAX Results                                \n",
       "==============================================================================\n",
       "Dep. Variable:        COMED_MW_scaled   No. Observations:                53197\n",
       "Model:                 ARIMA(5, 0, 5)   Log Likelihood              -46840.903\n",
       "Date:                Mon, 13 May 2024   AIC                          93703.807\n",
       "Time:                        00:01:48   BIC                          93801.506\n",
       "Sample:                             0   HQIC                         93734.322\n",
       "                              - 53197                                         \n",
       "Covariance Type:                  opg                                         \n",
       "==============================================================================\n",
       "                 coef    std err          z      P>|z|      [0.025      0.975]\n",
       "------------------------------------------------------------------------------\n",
       "ar.L1          1.5555      0.007    227.010      0.000       1.542       1.569\n",
       "ar.L2         -0.6421      0.007    -96.799      0.000      -0.655      -0.629\n",
       "ar.L3          0.9563      0.002    530.942      0.000       0.953       0.960\n",
       "ar.L4         -1.5653      0.007   -230.790      0.000      -1.579      -1.552\n",
       "ar.L5          0.6195      0.007     89.439      0.000       0.606       0.633\n",
       "ma.L1         -0.8335      0.011    -73.907      0.000      -0.856      -0.811\n",
       "ma.L2          0.0034      0.010      0.361      0.718      -0.015       0.022\n",
       "ma.L3         -0.8426      0.001   -927.987      0.000      -0.844      -0.841\n",
       "ma.L4          0.9646      0.010    100.951      0.000       0.946       0.983\n",
       "ma.L5          0.0190      0.011      1.718      0.086      -0.003       0.041\n",
       "sigma2         0.3416      0.002    137.196      0.000       0.337       0.346\n",
       "===================================================================================\n",
       "Ljung-Box (L1) (Q):                   1.73   Jarque-Bera (JB):              2307.88\n",
       "Prob(Q):                              0.19   Prob(JB):                         0.00\n",
       "Heteroskedasticity (H):               1.00   Skew:                            -0.36\n",
       "Prob(H) (two-sided):                  0.80   Kurtosis:                         3.72\n",
       "===================================================================================\n",
       "\n",
       "Warnings:\n",
       "[1] Covariance matrix calculated using the outer product of gradients (complex-step).\n",
       "\"\"\""
      ]
     },
     "execution_count": 51,
     "metadata": {},
     "output_type": "execute_result"
    }
   ],
   "source": [
    "from sklearn.metrics import mean_absolute_error, mean_squared_error, r2_score\n",
    "from statsmodels.tsa.arima.model import ARIMA\n",
    "model=ARIMA(train, order=(5, 0, 5), trend='n')\n",
    "model_fit=model.fit()\n",
    "model_fit.summary()"
   ]
  },
  {
   "cell_type": "code",
   "execution_count": 52,
   "metadata": {},
   "outputs": [
    {
     "data": {
      "text/plain": [
       "53197    0.985634\n",
       "53198    0.623547\n",
       "53199   -0.170476\n",
       "53200   -0.882727\n",
       "53201   -1.034395\n",
       "           ...   \n",
       "66492   -0.000015\n",
       "66493   -0.000006\n",
       "66494    0.000005\n",
       "66495    0.000015\n",
       "66496    0.000023\n",
       "Name: predicted_mean, Length: 13300, dtype: float64"
      ]
     },
     "execution_count": 52,
     "metadata": {},
     "output_type": "execute_result"
    }
   ],
   "source": [
    "predictions=model_fit.forecast(steps=len(test))\n",
    "predictions"
   ]
  },
  {
   "cell_type": "code",
   "execution_count": 53,
   "metadata": {},
   "outputs": [
    {
     "data": {
      "text/plain": [
       "1.348553218604891"
      ]
     },
     "execution_count": 53,
     "metadata": {},
     "output_type": "execute_result"
    }
   ],
   "source": [
    "mean_absolute_error(test, predictions)"
   ]
  },
  {
   "cell_type": "code",
   "execution_count": 54,
   "metadata": {},
   "outputs": [
    {
     "data": {
      "text/plain": [
       "2.5688426056117843"
      ]
     },
     "execution_count": 54,
     "metadata": {},
     "output_type": "execute_result"
    }
   ],
   "source": [
    "mean_squared_error(test, predictions)"
   ]
  },
  {
   "cell_type": "code",
   "execution_count": 55,
   "metadata": {},
   "outputs": [
    {
     "data": {
      "text/plain": [
       "0.021974768829173486"
      ]
     },
     "execution_count": 55,
     "metadata": {},
     "output_type": "execute_result"
    }
   ],
   "source": [
    "r2_score(test, predictions)"
   ]
  },
  {
   "cell_type": "code",
   "execution_count": 56,
   "metadata": {},
   "outputs": [
    {
     "data": {
      "image/png": "[encoded data removed]",
      "text/plain": [
       "<Figure size 640x480 with 1 Axes>"
      ]
     },
     "metadata": {},
     "output_type": "display_data"
    }
   ],
   "source": [
    "plt.plot(train, label='Train')\n",
    "plt.plot(test, label='Test')\n",
    "plt.plot(predictions, label='Predictions')\n",
    "plt.legend()\n",
    "plt.show()"
   ]
  },
  {
   "cell_type": "markdown",
   "metadata": {},
   "source": [
    "## Results\n",
    "Despite using a custom implemntation of AutoARIMA, and PCA, we were not able to get ARIMA to perform well over the test data. Other models are more suitable for this type of data, as we will see later."
   ]
  },
  {
   "cell_type": "code",
   "execution_count": 57,
   "metadata": {},
   "outputs": [
    {
     "data": {
      "text/html": [
       "<div>\n",
       "<style scoped>\n",
       "    .dataframe tbody tr th:only-of-type {\n",
       "        vertical-align: middle;\n",
       "    }\n",
       "\n",
       "    .dataframe tbody tr th {\n",
       "        vertical-align: top;\n",
       "    }\n",
       "\n",
       "    .dataframe thead th {\n",
       "        text-align: right;\n",
       "    }\n",
       "</style>\n",
       "<table border=\"1\" class=\"dataframe\">\n",
       "  <thead>\n",
       "    <tr style=\"text-align: right;\">\n",
       "      <th></th>\n",
       "      <th>Datetime</th>\n",
       "      <th>COMED_MW_scaled</th>\n",
       "      <th>Season_encoded</th>\n",
       "      <th>Time_of_day_encoded</th>\n",
       "      <th>Holiday_encoded</th>\n",
       "      <th>Predictions</th>\n",
       "    </tr>\n",
       "  </thead>\n",
       "  <tbody>\n",
       "    <tr>\n",
       "      <th>0</th>\n",
       "      <td>2011-01-01 01:00:00</td>\n",
       "      <td>-0.907578</td>\n",
       "      <td>3</td>\n",
       "      <td>3</td>\n",
       "      <td>1</td>\n",
       "      <td>NaN</td>\n",
       "    </tr>\n",
       "    <tr>\n",
       "      <th>1</th>\n",
       "      <td>2011-01-01 02:00:00</td>\n",
       "      <td>-0.953618</td>\n",
       "      <td>3</td>\n",
       "      <td>3</td>\n",
       "      <td>1</td>\n",
       "      <td>NaN</td>\n",
       "    </tr>\n",
       "    <tr>\n",
       "      <th>2</th>\n",
       "      <td>2011-01-01 03:00:00</td>\n",
       "      <td>-0.987313</td>\n",
       "      <td>3</td>\n",
       "      <td>3</td>\n",
       "      <td>1</td>\n",
       "      <td>NaN</td>\n",
       "    </tr>\n",
       "    <tr>\n",
       "      <th>3</th>\n",
       "      <td>2011-01-01 04:00:00</td>\n",
       "      <td>-1.022037</td>\n",
       "      <td>3</td>\n",
       "      <td>3</td>\n",
       "      <td>1</td>\n",
       "      <td>NaN</td>\n",
       "    </tr>\n",
       "    <tr>\n",
       "      <th>4</th>\n",
       "      <td>2011-01-01 05:00:00</td>\n",
       "      <td>-1.028081</td>\n",
       "      <td>3</td>\n",
       "      <td>3</td>\n",
       "      <td>1</td>\n",
       "      <td>NaN</td>\n",
       "    </tr>\n",
       "    <tr>\n",
       "      <th>...</th>\n",
       "      <td>...</td>\n",
       "      <td>...</td>\n",
       "      <td>...</td>\n",
       "      <td>...</td>\n",
       "      <td>...</td>\n",
       "      <td>...</td>\n",
       "    </tr>\n",
       "    <tr>\n",
       "      <th>66492</th>\n",
       "      <td>2018-08-02 20:00:00</td>\n",
       "      <td>1.764267</td>\n",
       "      <td>2</td>\n",
       "      <td>1</td>\n",
       "      <td>1</td>\n",
       "      <td>-0.000015</td>\n",
       "    </tr>\n",
       "    <tr>\n",
       "      <th>66493</th>\n",
       "      <td>2018-08-02 21:00:00</td>\n",
       "      <td>1.655338</td>\n",
       "      <td>2</td>\n",
       "      <td>1</td>\n",
       "      <td>1</td>\n",
       "      <td>-0.000006</td>\n",
       "    </tr>\n",
       "    <tr>\n",
       "      <th>66494</th>\n",
       "      <td>2018-08-02 22:00:00</td>\n",
       "      <td>-0.787778</td>\n",
       "      <td>2</td>\n",
       "      <td>3</td>\n",
       "      <td>1</td>\n",
       "      <td>0.000005</td>\n",
       "    </tr>\n",
       "    <tr>\n",
       "      <th>66495</th>\n",
       "      <td>2018-08-02 23:00:00</td>\n",
       "      <td>-0.869829</td>\n",
       "      <td>2</td>\n",
       "      <td>3</td>\n",
       "      <td>1</td>\n",
       "      <td>0.000015</td>\n",
       "    </tr>\n",
       "    <tr>\n",
       "      <th>66496</th>\n",
       "      <td>2018-08-03 00:00:00</td>\n",
       "      <td>-1.012967</td>\n",
       "      <td>2</td>\n",
       "      <td>3</td>\n",
       "      <td>1</td>\n",
       "      <td>0.000023</td>\n",
       "    </tr>\n",
       "  </tbody>\n",
       "</table>\n",
       "<p>66497 rows × 6 columns</p>\n",
       "</div>"
      ],
      "text/plain": [
       "                  Datetime  COMED_MW_scaled  Season_encoded  \\\n",
       "0      2011-01-01 01:00:00        -0.907578               3   \n",
       "1      2011-01-01 02:00:00        -0.953618               3   \n",
       "2      2011-01-01 03:00:00        -0.987313               3   \n",
       "3      2011-01-01 04:00:00        -1.022037               3   \n",
       "4      2011-01-01 05:00:00        -1.028081               3   \n",
       "...                    ...              ...             ...   \n",
       "66492  2018-08-02 20:00:00         1.764267               2   \n",
       "66493  2018-08-02 21:00:00         1.655338               2   \n",
       "66494  2018-08-02 22:00:00        -0.787778               2   \n",
       "66495  2018-08-02 23:00:00        -0.869829               2   \n",
       "66496  2018-08-03 00:00:00        -1.012967               2   \n",
       "\n",
       "       Time_of_day_encoded  Holiday_encoded  Predictions  \n",
       "0                        3                1          NaN  \n",
       "1                        3                1          NaN  \n",
       "2                        3                1          NaN  \n",
       "3                        3                1          NaN  \n",
       "4                        3                1          NaN  \n",
       "...                    ...              ...          ...  \n",
       "66492                    1                1    -0.000015  \n",
       "66493                    1                1    -0.000006  \n",
       "66494                    3                1     0.000005  \n",
       "66495                    3                1     0.000015  \n",
       "66496                    3                1     0.000023  \n",
       "\n",
       "[66497 rows x 6 columns]"
      ]
     },
     "execution_count": 57,
     "metadata": {},
     "output_type": "execute_result"
    }
   ],
   "source": [
    "df['Predictions'] = model_fit.forecast(steps=len(df))\n",
    "df.to_csv('/home/hashim/Assignments/Sem6/DataMining/DM_Proj/data/COMED_hourly_ARIMA_predictions.csv')\n",
    "df"
   ]
  },
  {
   "cell_type": "code",
   "execution_count": 58,
   "metadata": {},
   "outputs": [],
   "source": [
    "# save the ARIMA model to file\n",
    "model_fit.save('arima_model.pkl')"
   ]
  }
 ],
 "metadata": {
  "kernelspec": {
   "display_name": "Python 3",
   "language": "python",
   "name": "python3"
  },
  "language_info": {
   "codemirror_mode": {
    "name": "ipython",
    "version": 3
   },
   "file_extension": ".py",
   "mimetype": "text/x-python",
   "name": "python",
   "nbconvert_exporter": "python",
   "pygments_lexer": "ipython3",
   "version": "3.10.12"
  }
 },
 "nbformat": 4,
 "nbformat_minor": 2
}
