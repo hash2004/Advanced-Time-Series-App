{
 "cells": [
  {
   "cell_type": "code",
   "execution_count": 1,
   "metadata": {},
   "outputs": [],
   "source": [
    "import pandas as pd \n",
    "df = pd.read_csv('/home/hashim/Assignments/Sem6/DataMining/DM_Proj/data/COMED_hourly_preprocessed.csv')"
   ]
  },
  {
   "cell_type": "code",
   "execution_count": 2,
   "metadata": {},
   "outputs": [
    {
     "data": {
      "text/html": [
       "<div>\n",
       "<style scoped>\n",
       "    .dataframe tbody tr th:only-of-type {\n",
       "        vertical-align: middle;\n",
       "    }\n",
       "\n",
       "    .dataframe tbody tr th {\n",
       "        vertical-align: top;\n",
       "    }\n",
       "\n",
       "    .dataframe thead th {\n",
       "        text-align: right;\n",
       "    }\n",
       "</style>\n",
       "<table border=\"1\" class=\"dataframe\">\n",
       "  <thead>\n",
       "    <tr style=\"text-align: right;\">\n",
       "      <th></th>\n",
       "      <th>Datetime</th>\n",
       "      <th>COMED_MW_scaled</th>\n",
       "      <th>Season_encoded</th>\n",
       "      <th>Time_of_day_encoded</th>\n",
       "      <th>Holiday_encoded</th>\n",
       "    </tr>\n",
       "  </thead>\n",
       "  <tbody>\n",
       "    <tr>\n",
       "      <th>0</th>\n",
       "      <td>2011-01-01 01:00:00</td>\n",
       "      <td>-0.557143</td>\n",
       "      <td>3</td>\n",
       "      <td>3</td>\n",
       "      <td>1</td>\n",
       "    </tr>\n",
       "    <tr>\n",
       "      <th>1</th>\n",
       "      <td>2011-01-01 02:00:00</td>\n",
       "      <td>-0.688278</td>\n",
       "      <td>3</td>\n",
       "      <td>3</td>\n",
       "      <td>1</td>\n",
       "    </tr>\n",
       "    <tr>\n",
       "      <th>2</th>\n",
       "      <td>2011-01-01 03:00:00</td>\n",
       "      <td>-0.784249</td>\n",
       "      <td>3</td>\n",
       "      <td>3</td>\n",
       "      <td>1</td>\n",
       "    </tr>\n",
       "    <tr>\n",
       "      <th>3</th>\n",
       "      <td>2011-01-01 04:00:00</td>\n",
       "      <td>-0.883150</td>\n",
       "      <td>3</td>\n",
       "      <td>3</td>\n",
       "      <td>1</td>\n",
       "    </tr>\n",
       "    <tr>\n",
       "      <th>4</th>\n",
       "      <td>2011-01-01 05:00:00</td>\n",
       "      <td>-0.900366</td>\n",
       "      <td>3</td>\n",
       "      <td>3</td>\n",
       "      <td>1</td>\n",
       "    </tr>\n",
       "    <tr>\n",
       "      <th>...</th>\n",
       "      <td>...</td>\n",
       "      <td>...</td>\n",
       "      <td>...</td>\n",
       "      <td>...</td>\n",
       "      <td>...</td>\n",
       "    </tr>\n",
       "    <tr>\n",
       "      <th>66492</th>\n",
       "      <td>2018-08-02 20:00:00</td>\n",
       "      <td>1.935897</td>\n",
       "      <td>2</td>\n",
       "      <td>1</td>\n",
       "      <td>1</td>\n",
       "    </tr>\n",
       "    <tr>\n",
       "      <th>66493</th>\n",
       "      <td>2018-08-02 21:00:00</td>\n",
       "      <td>1.625641</td>\n",
       "      <td>2</td>\n",
       "      <td>1</td>\n",
       "      <td>1</td>\n",
       "    </tr>\n",
       "    <tr>\n",
       "      <th>66494</th>\n",
       "      <td>2018-08-02 22:00:00</td>\n",
       "      <td>1.441026</td>\n",
       "      <td>2</td>\n",
       "      <td>3</td>\n",
       "      <td>1</td>\n",
       "    </tr>\n",
       "    <tr>\n",
       "      <th>66495</th>\n",
       "      <td>2018-08-02 23:00:00</td>\n",
       "      <td>1.207326</td>\n",
       "      <td>2</td>\n",
       "      <td>3</td>\n",
       "      <td>1</td>\n",
       "    </tr>\n",
       "    <tr>\n",
       "      <th>66496</th>\n",
       "      <td>2018-08-03 00:00:00</td>\n",
       "      <td>0.799634</td>\n",
       "      <td>2</td>\n",
       "      <td>3</td>\n",
       "      <td>1</td>\n",
       "    </tr>\n",
       "  </tbody>\n",
       "</table>\n",
       "<p>66497 rows × 5 columns</p>\n",
       "</div>"
      ],
      "text/plain": [
       "                  Datetime  COMED_MW_scaled  Season_encoded  \\\n",
       "0      2011-01-01 01:00:00        -0.557143               3   \n",
       "1      2011-01-01 02:00:00        -0.688278               3   \n",
       "2      2011-01-01 03:00:00        -0.784249               3   \n",
       "3      2011-01-01 04:00:00        -0.883150               3   \n",
       "4      2011-01-01 05:00:00        -0.900366               3   \n",
       "...                    ...              ...             ...   \n",
       "66492  2018-08-02 20:00:00         1.935897               2   \n",
       "66493  2018-08-02 21:00:00         1.625641               2   \n",
       "66494  2018-08-02 22:00:00         1.441026               2   \n",
       "66495  2018-08-02 23:00:00         1.207326               2   \n",
       "66496  2018-08-03 00:00:00         0.799634               2   \n",
       "\n",
       "       Time_of_day_encoded  Holiday_encoded  \n",
       "0                        3                1  \n",
       "1                        3                1  \n",
       "2                        3                1  \n",
       "3                        3                1  \n",
       "4                        3                1  \n",
       "...                    ...              ...  \n",
       "66492                    1                1  \n",
       "66493                    1                1  \n",
       "66494                    3                1  \n",
       "66495                    3                1  \n",
       "66496                    3                1  \n",
       "\n",
       "[66497 rows x 5 columns]"
      ]
     },
     "execution_count": 2,
     "metadata": {},
     "output_type": "execute_result"
    }
   ],
   "source": [
    "df"
   ]
  },
  {
   "cell_type": "code",
   "execution_count": 3,
   "metadata": {},
   "outputs": [],
   "source": [
    "# Divide the DataFrame into training and testing data\n",
    "train = df.iloc[:int(0.8 * len(df))]\n",
    "test = df.iloc[int(0.8 * len(df)):]"
   ]
  },
  {
   "cell_type": "code",
   "execution_count": 4,
   "metadata": {},
   "outputs": [],
   "source": [
    "exog_data = train[['Season_encoded', 'Time_of_day_encoded','Holiday_encoded']]  # DataFrame of exogenous regressors\n",
    "target_data = train['COMED_MW_scaled']"
   ]
  },
  {
   "cell_type": "code",
   "execution_count": 5,
   "metadata": {},
   "outputs": [
    {
     "name": "stderr",
     "output_type": "stream",
     "text": [
      "/home/hashim/.local/lib/python3.10/site-packages/statsmodels/base/model.py:607: ConvergenceWarning: Maximum Likelihood optimization failed to converge. Check mle_retvals\n",
      "  warnings.warn(\"Maximum Likelihood optimization failed to \"\n"
     ]
    }
   ],
   "source": [
    "# Train a SARIMA model \n",
    "from statsmodels.tsa.statespace.sarimax import SARIMAX\n",
    "model = SARIMAX(endog=target_data, exog=exog_data, order=(1, 1, 1), seasonal_order=(1, 1, 1, 24)) \n",
    "model_fit = model.fit(disp=False)"
   ]
  },
  {
   "cell_type": "code",
   "execution_count": 8,
   "metadata": {},
   "outputs": [
    {
     "data": {
      "text/plain": [
       "53197    0.505027\n",
       "53198    0.403005\n",
       "53199    0.277404\n",
       "53200    0.100011\n",
       "53201   -0.142371\n",
       "           ...   \n",
       "66492    1.187663\n",
       "66493    1.137743\n",
       "66494    1.063609\n",
       "66495    0.961346\n",
       "66496    0.799575\n",
       "Name: predicted_mean, Length: 13300, dtype: float64"
      ]
     },
     "execution_count": 8,
     "metadata": {},
     "output_type": "execute_result"
    }
   ],
   "source": [
    "#make predictions on the test data\n",
    "exog_data_test = test[['Season_encoded', 'Time_of_day_encoded','Holiday_encoded']]\n",
    "predictions = model_fit.forecast(steps=len(test), exog=exog_data_test)\n",
    "predictions"
   ]
  },
  {
   "cell_type": "code",
   "execution_count": 10,
   "metadata": {},
   "outputs": [],
   "source": [
    "from sklearn.metrics import mean_absolute_error, mean_squared_error, r2_score\n",
    "# Calculate the error metrics\n",
    "mae = mean_absolute_error(test['COMED_MW_scaled'], predictions)\n",
    "mse = mean_squared_error(test['COMED_MW_scaled'], predictions)\n",
    "r2 = r2_score(test['COMED_MW_scaled'], predictions)"
   ]
  },
  {
   "cell_type": "code",
   "execution_count": 11,
   "metadata": {},
   "outputs": [
    {
     "name": "stdout",
     "output_type": "stream",
     "text": [
      "MAE 0.6096055129067429\n",
      "MSE 0.554551833767828\n",
      "R2 0.1399309888049043\n"
     ]
    }
   ],
   "source": [
    "print(\"MAE\", mae)\n",
    "print(\"MSE\", mse)\n",
    "print(\"R2\", r2)"
   ]
  },
  {
   "cell_type": "code",
   "execution_count": 12,
   "metadata": {},
   "outputs": [
    {
     "data": {
      "image/png": "[encoded data removed]",
      "text/plain": [
       "<Figure size 1500x500 with 1 Axes>"
      ]
     },
     "metadata": {},
     "output_type": "display_data"
    }
   ],
   "source": [
    "#plot the predictions as a continued line starting from the train data\n",
    "import matplotlib.pyplot as plt\n",
    "plt.figure(figsize=(15, 5))\n",
    "plt.plot(df['COMED_MW_scaled'], label='Actual')\n",
    "plt.plot([None for i in train['COMED_MW_scaled']] + [x for x in predictions], label='Predicted')\n",
    "plt.legend()\n",
    "plt.show()"
   ]
  },
  {
   "cell_type": "code",
   "execution_count": 13,
   "metadata": {},
   "outputs": [
    {
     "name": "stderr",
     "output_type": "stream",
     "text": [
      "/tmp/ipykernel_41756/1315318379.py:9: FutureWarning: ChainedAssignmentError: behaviour will change in pandas 3.0!\n",
      "You are setting values through chained assignment. Currently this works in certain cases, but when using Copy-on-Write (which will become the default behaviour in pandas 3.0) this will never work to update the original DataFrame or Series, because the intermediate object on which we are setting values will behave as a copy.\n",
      "A typical example is when you are setting values in a column of a DataFrame, like:\n",
      "\n",
      "df[\"col\"][row_indexer] = value\n",
      "\n",
      "Use `df.loc[row_indexer, \"col\"] = values` instead, to perform the assignment in a single step and ensure this keeps updating the original `df`.\n",
      "\n",
      "See the caveats in the documentation: https://pandas.pydata.org/pandas-docs/stable/user_guide/indexing.html#returning-a-view-versus-a-copy\n",
      "\n",
      "  results['Predictions'][-len(predictions):] = predictions\n",
      "/tmp/ipykernel_41756/1315318379.py:9: SettingWithCopyWarning: \n",
      "A value is trying to be set on a copy of a slice from a DataFrame\n",
      "\n",
      "See the caveats in the documentation: https://pandas.pydata.org/pandas-docs/stable/user_guide/indexing.html#returning-a-view-versus-a-copy\n",
      "  results['Predictions'][-len(predictions):] = predictions\n"
     ]
    },
    {
     "data": {
      "text/html": [
       "<div>\n",
       "<style scoped>\n",
       "    .dataframe tbody tr th:only-of-type {\n",
       "        vertical-align: middle;\n",
       "    }\n",
       "\n",
       "    .dataframe tbody tr th {\n",
       "        vertical-align: top;\n",
       "    }\n",
       "\n",
       "    .dataframe thead th {\n",
       "        text-align: right;\n",
       "    }\n",
       "</style>\n",
       "<table border=\"1\" class=\"dataframe\">\n",
       "  <thead>\n",
       "    <tr style=\"text-align: right;\">\n",
       "      <th></th>\n",
       "      <th>Datetime</th>\n",
       "      <th>COMED_MW_scaled</th>\n",
       "      <th>Season_encoded</th>\n",
       "      <th>Time_of_day_encoded</th>\n",
       "      <th>Holiday_encoded</th>\n",
       "      <th>Predictions</th>\n",
       "    </tr>\n",
       "  </thead>\n",
       "  <tbody>\n",
       "    <tr>\n",
       "      <th>0</th>\n",
       "      <td>2011-01-01 01:00:00</td>\n",
       "      <td>-0.557143</td>\n",
       "      <td>3</td>\n",
       "      <td>3</td>\n",
       "      <td>1</td>\n",
       "      <td>None</td>\n",
       "    </tr>\n",
       "    <tr>\n",
       "      <th>1</th>\n",
       "      <td>2011-01-01 02:00:00</td>\n",
       "      <td>-0.688278</td>\n",
       "      <td>3</td>\n",
       "      <td>3</td>\n",
       "      <td>1</td>\n",
       "      <td>None</td>\n",
       "    </tr>\n",
       "    <tr>\n",
       "      <th>2</th>\n",
       "      <td>2011-01-01 03:00:00</td>\n",
       "      <td>-0.784249</td>\n",
       "      <td>3</td>\n",
       "      <td>3</td>\n",
       "      <td>1</td>\n",
       "      <td>None</td>\n",
       "    </tr>\n",
       "    <tr>\n",
       "      <th>3</th>\n",
       "      <td>2011-01-01 04:00:00</td>\n",
       "      <td>-0.883150</td>\n",
       "      <td>3</td>\n",
       "      <td>3</td>\n",
       "      <td>1</td>\n",
       "      <td>None</td>\n",
       "    </tr>\n",
       "    <tr>\n",
       "      <th>4</th>\n",
       "      <td>2011-01-01 05:00:00</td>\n",
       "      <td>-0.900366</td>\n",
       "      <td>3</td>\n",
       "      <td>3</td>\n",
       "      <td>1</td>\n",
       "      <td>None</td>\n",
       "    </tr>\n",
       "    <tr>\n",
       "      <th>...</th>\n",
       "      <td>...</td>\n",
       "      <td>...</td>\n",
       "      <td>...</td>\n",
       "      <td>...</td>\n",
       "      <td>...</td>\n",
       "      <td>...</td>\n",
       "    </tr>\n",
       "    <tr>\n",
       "      <th>66492</th>\n",
       "      <td>2018-08-02 20:00:00</td>\n",
       "      <td>1.935897</td>\n",
       "      <td>2</td>\n",
       "      <td>1</td>\n",
       "      <td>1</td>\n",
       "      <td>1.187663</td>\n",
       "    </tr>\n",
       "    <tr>\n",
       "      <th>66493</th>\n",
       "      <td>2018-08-02 21:00:00</td>\n",
       "      <td>1.625641</td>\n",
       "      <td>2</td>\n",
       "      <td>1</td>\n",
       "      <td>1</td>\n",
       "      <td>1.137743</td>\n",
       "    </tr>\n",
       "    <tr>\n",
       "      <th>66494</th>\n",
       "      <td>2018-08-02 22:00:00</td>\n",
       "      <td>1.441026</td>\n",
       "      <td>2</td>\n",
       "      <td>3</td>\n",
       "      <td>1</td>\n",
       "      <td>1.063609</td>\n",
       "    </tr>\n",
       "    <tr>\n",
       "      <th>66495</th>\n",
       "      <td>2018-08-02 23:00:00</td>\n",
       "      <td>1.207326</td>\n",
       "      <td>2</td>\n",
       "      <td>3</td>\n",
       "      <td>1</td>\n",
       "      <td>0.961346</td>\n",
       "    </tr>\n",
       "    <tr>\n",
       "      <th>66496</th>\n",
       "      <td>2018-08-03 00:00:00</td>\n",
       "      <td>0.799634</td>\n",
       "      <td>2</td>\n",
       "      <td>3</td>\n",
       "      <td>1</td>\n",
       "      <td>0.799575</td>\n",
       "    </tr>\n",
       "  </tbody>\n",
       "</table>\n",
       "<p>66497 rows × 6 columns</p>\n",
       "</div>"
      ],
      "text/plain": [
       "                  Datetime  COMED_MW_scaled  Season_encoded  \\\n",
       "0      2011-01-01 01:00:00        -0.557143               3   \n",
       "1      2011-01-01 02:00:00        -0.688278               3   \n",
       "2      2011-01-01 03:00:00        -0.784249               3   \n",
       "3      2011-01-01 04:00:00        -0.883150               3   \n",
       "4      2011-01-01 05:00:00        -0.900366               3   \n",
       "...                    ...              ...             ...   \n",
       "66492  2018-08-02 20:00:00         1.935897               2   \n",
       "66493  2018-08-02 21:00:00         1.625641               2   \n",
       "66494  2018-08-02 22:00:00         1.441026               2   \n",
       "66495  2018-08-02 23:00:00         1.207326               2   \n",
       "66496  2018-08-03 00:00:00         0.799634               2   \n",
       "\n",
       "       Time_of_day_encoded  Holiday_encoded Predictions  \n",
       "0                        3                1        None  \n",
       "1                        3                1        None  \n",
       "2                        3                1        None  \n",
       "3                        3                1        None  \n",
       "4                        3                1        None  \n",
       "...                    ...              ...         ...  \n",
       "66492                    1                1    1.187663  \n",
       "66493                    1                1    1.137743  \n",
       "66494                    3                1    1.063609  \n",
       "66495                    3                1    0.961346  \n",
       "66496                    3                1    0.799575  \n",
       "\n",
       "[66497 rows x 6 columns]"
      ]
     },
     "execution_count": 13,
     "metadata": {},
     "output_type": "execute_result"
    }
   ],
   "source": [
    "# Save a csv file with the results. The csv file should contain the folllwing columns: ,Datetime,COMED_MW_scaled,Season_encoded,Time_of_day_encoded,Holiday_encoded,Predictions. The predictions should start from the first row of the test data and continue to the end of the test data. The total number of rows should be equal to the length of the total data:\n",
    "results = pd.DataFrame()\n",
    "results['Datetime'] = df['Datetime']\n",
    "results['COMED_MW_scaled'] = df['COMED_MW_scaled']\n",
    "results['Season_encoded'] = df['Season_encoded']\n",
    "results['Time_of_day_encoded'] = df['Time_of_day_encoded']\n",
    "results['Holiday_encoded'] = df['Holiday_encoded']\n",
    "results['Predictions'] = [None for i in range(len(df))]\n",
    "results['Predictions'][-len(predictions):] = predictions\n",
    "results\n",
    "#results.to_csv('results.csv', index=False)"
   ]
  },
  {
   "cell_type": "code",
   "execution_count": 14,
   "metadata": {},
   "outputs": [],
   "source": [
    "results.to_csv('/home/hashim/Assignments/Sem6/DataMining/DM_Proj/data/SARIMA_Predictions.csv', index=False)"
   ]
  },
  {
   "cell_type": "code",
   "execution_count": 6,
   "metadata": {},
   "outputs": [
    {
     "name": "stdout",
     "output_type": "stream",
     "text": [
      "Performing stepwise search to minimize aic\n",
      " ARIMA(0,0,0)(0,1,0)[24] intercept   : AIC=69618.940, Time=16.24 sec\n"
     ]
    }
   ],
   "source": [
    "import pmdarima as pm\n",
    "\n",
    "\n",
    "smodel = pm.auto_arima(target_data,\n",
    "                       exogenous=exog_data, \n",
    "                       seasonal=True, \n",
    "                       m=24,  \n",
    "                       d=None, D=1, \n",
    "                       start_p=0, start_q=0,\n",
    "                       start_P=0, start_Q=0,\n",
    "                       max_p=3, max_q=3,\n",
    "                       max_P=3, max_Q=3,\n",
    "                       trace=True,\n",
    "                       error_action='ignore',\n",
    "                       suppress_warnings=True,\n",
    "                       stepwise=True)\n",
    "\n",
    "print(smodel.summary())\n"
   ]
  }
 ],
 "metadata": {
  "kernelspec": {
   "display_name": "Python 3",
   "language": "python",
   "name": "python3"
  },
  "language_info": {
   "codemirror_mode": {
    "name": "ipython",
    "version": 3
   },
   "file_extension": ".py",
   "mimetype": "text/x-python",
   "name": "python",
   "nbconvert_exporter": "python",
   "pygments_lexer": "ipython3",
   "version": "3.10.12"
  }
 },
 "nbformat": 4,
 "nbformat_minor": 2
}
