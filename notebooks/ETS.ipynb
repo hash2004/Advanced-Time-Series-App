{
 "cells": [
  {
   "cell_type": "code",
   "execution_count": 14,
   "metadata": {},
   "outputs": [
    {
     "data": {
      "text/html": [
       "<div>\n",
       "<style scoped>\n",
       "    .dataframe tbody tr th:only-of-type {\n",
       "        vertical-align: middle;\n",
       "    }\n",
       "\n",
       "    .dataframe tbody tr th {\n",
       "        vertical-align: top;\n",
       "    }\n",
       "\n",
       "    .dataframe thead th {\n",
       "        text-align: right;\n",
       "    }\n",
       "</style>\n",
       "<table border=\"1\" class=\"dataframe\">\n",
       "  <thead>\n",
       "    <tr style=\"text-align: right;\">\n",
       "      <th></th>\n",
       "      <th>Datetime</th>\n",
       "      <th>COMED_MW_scaled</th>\n",
       "      <th>Season_encoded</th>\n",
       "      <th>Time_of_day_encoded</th>\n",
       "      <th>Holiday_encoded</th>\n",
       "    </tr>\n",
       "  </thead>\n",
       "  <tbody>\n",
       "    <tr>\n",
       "      <th>0</th>\n",
       "      <td>2011-01-01 01:00:00</td>\n",
       "      <td>-0.557143</td>\n",
       "      <td>3</td>\n",
       "      <td>3</td>\n",
       "      <td>1</td>\n",
       "    </tr>\n",
       "    <tr>\n",
       "      <th>1</th>\n",
       "      <td>2011-01-01 02:00:00</td>\n",
       "      <td>-0.688278</td>\n",
       "      <td>3</td>\n",
       "      <td>3</td>\n",
       "      <td>1</td>\n",
       "    </tr>\n",
       "    <tr>\n",
       "      <th>2</th>\n",
       "      <td>2011-01-01 03:00:00</td>\n",
       "      <td>-0.784249</td>\n",
       "      <td>3</td>\n",
       "      <td>3</td>\n",
       "      <td>1</td>\n",
       "    </tr>\n",
       "    <tr>\n",
       "      <th>3</th>\n",
       "      <td>2011-01-01 04:00:00</td>\n",
       "      <td>-0.883150</td>\n",
       "      <td>3</td>\n",
       "      <td>3</td>\n",
       "      <td>1</td>\n",
       "    </tr>\n",
       "    <tr>\n",
       "      <th>4</th>\n",
       "      <td>2011-01-01 05:00:00</td>\n",
       "      <td>-0.900366</td>\n",
       "      <td>3</td>\n",
       "      <td>3</td>\n",
       "      <td>1</td>\n",
       "    </tr>\n",
       "    <tr>\n",
       "      <th>...</th>\n",
       "      <td>...</td>\n",
       "      <td>...</td>\n",
       "      <td>...</td>\n",
       "      <td>...</td>\n",
       "      <td>...</td>\n",
       "    </tr>\n",
       "    <tr>\n",
       "      <th>66492</th>\n",
       "      <td>2018-08-02 20:00:00</td>\n",
       "      <td>1.935897</td>\n",
       "      <td>2</td>\n",
       "      <td>1</td>\n",
       "      <td>1</td>\n",
       "    </tr>\n",
       "    <tr>\n",
       "      <th>66493</th>\n",
       "      <td>2018-08-02 21:00:00</td>\n",
       "      <td>1.625641</td>\n",
       "      <td>2</td>\n",
       "      <td>1</td>\n",
       "      <td>1</td>\n",
       "    </tr>\n",
       "    <tr>\n",
       "      <th>66494</th>\n",
       "      <td>2018-08-02 22:00:00</td>\n",
       "      <td>1.441026</td>\n",
       "      <td>2</td>\n",
       "      <td>3</td>\n",
       "      <td>1</td>\n",
       "    </tr>\n",
       "    <tr>\n",
       "      <th>66495</th>\n",
       "      <td>2018-08-02 23:00:00</td>\n",
       "      <td>1.207326</td>\n",
       "      <td>2</td>\n",
       "      <td>3</td>\n",
       "      <td>1</td>\n",
       "    </tr>\n",
       "    <tr>\n",
       "      <th>66496</th>\n",
       "      <td>2018-08-03 00:00:00</td>\n",
       "      <td>0.799634</td>\n",
       "      <td>2</td>\n",
       "      <td>3</td>\n",
       "      <td>1</td>\n",
       "    </tr>\n",
       "  </tbody>\n",
       "</table>\n",
       "<p>66497 rows × 5 columns</p>\n",
       "</div>"
      ],
      "text/plain": [
       "                  Datetime  COMED_MW_scaled  Season_encoded  \\\n",
       "0      2011-01-01 01:00:00        -0.557143               3   \n",
       "1      2011-01-01 02:00:00        -0.688278               3   \n",
       "2      2011-01-01 03:00:00        -0.784249               3   \n",
       "3      2011-01-01 04:00:00        -0.883150               3   \n",
       "4      2011-01-01 05:00:00        -0.900366               3   \n",
       "...                    ...              ...             ...   \n",
       "66492  2018-08-02 20:00:00         1.935897               2   \n",
       "66493  2018-08-02 21:00:00         1.625641               2   \n",
       "66494  2018-08-02 22:00:00         1.441026               2   \n",
       "66495  2018-08-02 23:00:00         1.207326               2   \n",
       "66496  2018-08-03 00:00:00         0.799634               2   \n",
       "\n",
       "       Time_of_day_encoded  Holiday_encoded  \n",
       "0                        3                1  \n",
       "1                        3                1  \n",
       "2                        3                1  \n",
       "3                        3                1  \n",
       "4                        3                1  \n",
       "...                    ...              ...  \n",
       "66492                    1                1  \n",
       "66493                    1                1  \n",
       "66494                    3                1  \n",
       "66495                    3                1  \n",
       "66496                    3                1  \n",
       "\n",
       "[66497 rows x 5 columns]"
      ]
     },
     "execution_count": 14,
     "metadata": {},
     "output_type": "execute_result"
    }
   ],
   "source": [
    "import pandas as pd\n",
    "import matplotlib.pyplot as plt\n",
    "import seaborn as sns\n",
    "df = pd.read_csv('/home/hashim/Assignments/Sem6/DataMining/DM_Proj/data/COMED_hourly_preprocessed.csv')\n",
    "df"
   ]
  },
  {
   "cell_type": "code",
   "execution_count": 2,
   "metadata": {},
   "outputs": [],
   "source": [
    "# Divide the DataFrame into training and testing data\n",
    "train = df.iloc[:int(0.8 * len(df))]\n",
    "test = df.iloc[int(0.8 * len(df)):]"
   ]
  },
  {
   "cell_type": "code",
   "execution_count": 4,
   "metadata": {},
   "outputs": [
    {
     "name": "stdout",
     "output_type": "stream",
     "text": [
      "Best MSE: 0.5622280327398544\n",
      "Best parameters: ('add', 48)\n"
     ]
    }
   ],
   "source": [
    "from statsmodels.tsa.holtwinters import ExponentialSmoothing\n",
    "from sklearn.metrics import mean_squared_error\n",
    "import numpy as np\n",
    "\n",
    "# Define the grid of parameters to search\n",
    "seasonal_types = ['add', 'mul']\n",
    "seasonal_periods = [12, 24, 48]\n",
    "\n",
    "best_mse = np.inf\n",
    "best_params = None\n",
    "\n",
    "for seasonal_type in seasonal_types:\n",
    "    for period in seasonal_periods:\n",
    "        try:\n",
    "            model = ExponentialSmoothing(train['COMED_MW_scaled'], seasonal=seasonal_type, seasonal_periods=period).fit()\n",
    "\n",
    "            pred = model.forecast(len(test))\n",
    "\n",
    "            mse = mean_squared_error(test['COMED_MW_scaled'], pred)\n",
    "\n",
    "            if mse < best_mse:\n",
    "                best_mse = mse\n",
    "                best_params = (seasonal_type, period)\n",
    "        except:\n",
    "            continue\n",
    "\n",
    "print(f\"Best MSE: {best_mse}\")\n",
    "print(f\"Best parameters: {best_params}\")"
   ]
  },
  {
   "cell_type": "code",
   "execution_count": 5,
   "metadata": {},
   "outputs": [],
   "source": [
    "# apply ETS model on the train data and forecast the test data \n",
    "from statsmodels.tsa.holtwinters import ExponentialSmoothing\n",
    "model = ExponentialSmoothing(train['COMED_MW_scaled'], seasonal='add', seasonal_periods=48).fit()\n",
    "pred = model.forecast(len(test))"
   ]
  },
  {
   "cell_type": "code",
   "execution_count": 6,
   "metadata": {},
   "outputs": [
    {
     "name": "stdout",
     "output_type": "stream",
     "text": [
      "Mean Squared Error: 0.5622280327398544\n"
     ]
    }
   ],
   "source": [
    "# calculate the error\n",
    "from sklearn.metrics import mean_squared_error\n",
    "mse = mean_squared_error(test['COMED_MW_scaled'], pred)\n",
    "print('Mean Squared Error:', mse)"
   ]
  },
  {
   "cell_type": "code",
   "execution_count": 7,
   "metadata": {},
   "outputs": [
    {
     "name": "stdout",
     "output_type": "stream",
     "text": [
      "Mean Absolute Error: 0.5872034022130621\n"
     ]
    }
   ],
   "source": [
    "# calculate the root mean absolute error\n",
    "from sklearn.metrics import mean_absolute_error\n",
    "mae = mean_absolute_error(test['COMED_MW_scaled'], pred)\n",
    "print('Mean Absolute Error:', mae)"
   ]
  },
  {
   "cell_type": "code",
   "execution_count": 8,
   "metadata": {},
   "outputs": [
    {
     "name": "stdout",
     "output_type": "stream",
     "text": [
      "R2 Score: 0.1280257701083024\n"
     ]
    }
   ],
   "source": [
    "#calculate r2 score\n",
    "from sklearn.metrics import r2_score\n",
    "r2 = r2_score(test['COMED_MW_scaled'], pred)\n",
    "print('R2 Score:', r2)"
   ]
  },
  {
   "cell_type": "code",
   "execution_count": 10,
   "metadata": {},
   "outputs": [
    {
     "data": {
      "text/plain": [
       "53197    0.673020\n",
       "53198    0.662086\n",
       "53199    0.629070\n",
       "53200    0.518264\n",
       "53201    0.327668\n",
       "           ...   \n",
       "66492    0.654155\n",
       "66493    0.673020\n",
       "66494    0.662086\n",
       "66495    0.629070\n",
       "66496    0.518264\n",
       "Length: 13300, dtype: float64"
      ]
     },
     "execution_count": 10,
     "metadata": {},
     "output_type": "execute_result"
    }
   ],
   "source": [
    "predictions=model.forecast(steps=len(test))\n",
    "predictions"
   ]
  },
  {
   "cell_type": "code",
   "execution_count": 11,
   "metadata": {},
   "outputs": [
    {
     "data": {
      "image/png": "[encoded data removed]",
      "text/plain": [
       "<Figure size 640x480 with 1 Axes>"
      ]
     },
     "metadata": {},
     "output_type": "display_data"
    }
   ],
   "source": [
    "#plot the predictions as a continued line starting from the train data\n",
    "plt.plot(train['COMED_MW_scaled'], label='Train')\n",
    "plt.plot(test['COMED_MW_scaled'], label='Test')\n",
    "plt.plot(predictions, label='Predictions')\n",
    "plt.legend()\n",
    "plt.show()"
   ]
  },
  {
   "cell_type": "code",
   "execution_count": 29,
   "metadata": {},
   "outputs": [
    {
     "name": "stderr",
     "output_type": "stream",
     "text": [
      "/tmp/ipykernel_7401/1049903803.py:13: UserWarning: \n",
      "\n",
      "`distplot` is a deprecated function and will be removed in seaborn v0.14.0.\n",
      "\n",
      "Please adapt your code to use either `displot` (a figure-level function with\n",
      "similar flexibility) or `histplot` (an axes-level function for histograms).\n",
      "\n",
      "For a guide to updating your code to use the new functions, please see\n",
      "https://gist.github.com/mwaskom/de44147ed2974457ad6372750bbe5751\n",
      "\n",
      "  sns.distplot(residuals, bins=30)\n"
     ]
    },
    {
     "data": {
      "image/png": "[encoded data removed]",
      "text/plain": [
       "<Figure size 1800x800 with 1 Axes>"
      ]
     },
     "metadata": {},
     "output_type": "display_data"
    },
    {
     "data": {
      "image/png": "[encoded data removed]",
      "text/plain": [
       "<Figure size 1800x800 with 1 Axes>"
      ]
     },
     "metadata": {},
     "output_type": "display_data"
    }
   ],
   "source": [
    "# Plot residuals\n",
    "plt.figure(figsize=(18, 8))\n",
    "# Density plot of residuals\n",
    "plt.subplot(212)\n",
    "sns.distplot(residuals, bins=30)\n",
    "plt.title('Density Plot of Residuals', fontsize=16)\n",
    "plt.show()\n",
    "# ACF plot of residuals\n",
    "from statsmodels.graphics.tsaplots import plot_acf\n",
    "plt.figure(figsize=(18, 8))\n",
    "plot_acf(residuals, ax=plt.gca(), title='Autocorrelation of Residuals')\n",
    "plt.show()"
   ]
  },
  {
   "cell_type": "markdown",
   "metadata": {},
   "source": [
    "## What do the plots tell us?\n",
    "### Density Plot of Residuals:\n",
    "Ideally, we want the residuals to be normally distributed, which suggests that the model is well-fitted and captures most of the patterns in the data.\n",
    "In our plot, the distribution appears fairly normal, though slightly skewed to the left. The peak is close to zero, which is good as it indicates that most residuals are small. However, the skewness might suggest that the model is systematically underestimating or overestimating in certain situations.\n",
    "\n",
    "### Autocorrelation of Residuals:\n",
    "Ideally, the autocorrelation of residuals should be close to zero for all lags, indicating that the residuals are white noise—this means that the model has successfully captured all the information in the data, leaving no pattern in the residuals.\n",
    "\n",
    "In our autocorrelation plot, there are significant spikes at several lags, notably at lags 1, 2, and at around 12, 24, etc. This suggests a seasonal pattern or trend that the model has not captured. Such a pattern at lags like 12 and 24 can typically indicate annual seasonality that is not adequately modeled."
   ]
  },
  {
   "cell_type": "code",
   "execution_count": 12,
   "metadata": {},
   "outputs": [
    {
     "data": {
      "text/html": [
       "<div>\n",
       "<style scoped>\n",
       "    .dataframe tbody tr th:only-of-type {\n",
       "        vertical-align: middle;\n",
       "    }\n",
       "\n",
       "    .dataframe tbody tr th {\n",
       "        vertical-align: top;\n",
       "    }\n",
       "\n",
       "    .dataframe thead th {\n",
       "        text-align: right;\n",
       "    }\n",
       "</style>\n",
       "<table border=\"1\" class=\"dataframe\">\n",
       "  <thead>\n",
       "    <tr style=\"text-align: right;\">\n",
       "      <th></th>\n",
       "      <th>Datetime</th>\n",
       "      <th>COMED_MW_scaled</th>\n",
       "      <th>Season_encoded</th>\n",
       "      <th>Time_of_day_encoded</th>\n",
       "      <th>Holiday_encoded</th>\n",
       "      <th>Predictions</th>\n",
       "    </tr>\n",
       "  </thead>\n",
       "  <tbody>\n",
       "    <tr>\n",
       "      <th>0</th>\n",
       "      <td>2011-01-01 01:00:00</td>\n",
       "      <td>-0.557143</td>\n",
       "      <td>3</td>\n",
       "      <td>3</td>\n",
       "      <td>1</td>\n",
       "      <td>NaN</td>\n",
       "    </tr>\n",
       "    <tr>\n",
       "      <th>1</th>\n",
       "      <td>2011-01-01 02:00:00</td>\n",
       "      <td>-0.688278</td>\n",
       "      <td>3</td>\n",
       "      <td>3</td>\n",
       "      <td>1</td>\n",
       "      <td>NaN</td>\n",
       "    </tr>\n",
       "    <tr>\n",
       "      <th>2</th>\n",
       "      <td>2011-01-01 03:00:00</td>\n",
       "      <td>-0.784249</td>\n",
       "      <td>3</td>\n",
       "      <td>3</td>\n",
       "      <td>1</td>\n",
       "      <td>NaN</td>\n",
       "    </tr>\n",
       "    <tr>\n",
       "      <th>3</th>\n",
       "      <td>2011-01-01 04:00:00</td>\n",
       "      <td>-0.883150</td>\n",
       "      <td>3</td>\n",
       "      <td>3</td>\n",
       "      <td>1</td>\n",
       "      <td>NaN</td>\n",
       "    </tr>\n",
       "    <tr>\n",
       "      <th>4</th>\n",
       "      <td>2011-01-01 05:00:00</td>\n",
       "      <td>-0.900366</td>\n",
       "      <td>3</td>\n",
       "      <td>3</td>\n",
       "      <td>1</td>\n",
       "      <td>NaN</td>\n",
       "    </tr>\n",
       "    <tr>\n",
       "      <th>...</th>\n",
       "      <td>...</td>\n",
       "      <td>...</td>\n",
       "      <td>...</td>\n",
       "      <td>...</td>\n",
       "      <td>...</td>\n",
       "      <td>...</td>\n",
       "    </tr>\n",
       "    <tr>\n",
       "      <th>66492</th>\n",
       "      <td>2018-08-02 20:00:00</td>\n",
       "      <td>1.935897</td>\n",
       "      <td>2</td>\n",
       "      <td>1</td>\n",
       "      <td>1</td>\n",
       "      <td>0.654155</td>\n",
       "    </tr>\n",
       "    <tr>\n",
       "      <th>66493</th>\n",
       "      <td>2018-08-02 21:00:00</td>\n",
       "      <td>1.625641</td>\n",
       "      <td>2</td>\n",
       "      <td>1</td>\n",
       "      <td>1</td>\n",
       "      <td>0.673020</td>\n",
       "    </tr>\n",
       "    <tr>\n",
       "      <th>66494</th>\n",
       "      <td>2018-08-02 22:00:00</td>\n",
       "      <td>1.441026</td>\n",
       "      <td>2</td>\n",
       "      <td>3</td>\n",
       "      <td>1</td>\n",
       "      <td>0.662086</td>\n",
       "    </tr>\n",
       "    <tr>\n",
       "      <th>66495</th>\n",
       "      <td>2018-08-02 23:00:00</td>\n",
       "      <td>1.207326</td>\n",
       "      <td>2</td>\n",
       "      <td>3</td>\n",
       "      <td>1</td>\n",
       "      <td>0.629070</td>\n",
       "    </tr>\n",
       "    <tr>\n",
       "      <th>66496</th>\n",
       "      <td>2018-08-03 00:00:00</td>\n",
       "      <td>0.799634</td>\n",
       "      <td>2</td>\n",
       "      <td>3</td>\n",
       "      <td>1</td>\n",
       "      <td>0.518264</td>\n",
       "    </tr>\n",
       "  </tbody>\n",
       "</table>\n",
       "<p>66497 rows × 6 columns</p>\n",
       "</div>"
      ],
      "text/plain": [
       "                  Datetime  COMED_MW_scaled  Season_encoded  \\\n",
       "0      2011-01-01 01:00:00        -0.557143               3   \n",
       "1      2011-01-01 02:00:00        -0.688278               3   \n",
       "2      2011-01-01 03:00:00        -0.784249               3   \n",
       "3      2011-01-01 04:00:00        -0.883150               3   \n",
       "4      2011-01-01 05:00:00        -0.900366               3   \n",
       "...                    ...              ...             ...   \n",
       "66492  2018-08-02 20:00:00         1.935897               2   \n",
       "66493  2018-08-02 21:00:00         1.625641               2   \n",
       "66494  2018-08-02 22:00:00         1.441026               2   \n",
       "66495  2018-08-02 23:00:00         1.207326               2   \n",
       "66496  2018-08-03 00:00:00         0.799634               2   \n",
       "\n",
       "       Time_of_day_encoded  Holiday_encoded  Predictions  \n",
       "0                        3                1          NaN  \n",
       "1                        3                1          NaN  \n",
       "2                        3                1          NaN  \n",
       "3                        3                1          NaN  \n",
       "4                        3                1          NaN  \n",
       "...                    ...              ...          ...  \n",
       "66492                    1                1     0.654155  \n",
       "66493                    1                1     0.673020  \n",
       "66494                    3                1     0.662086  \n",
       "66495                    3                1     0.629070  \n",
       "66496                    3                1     0.518264  \n",
       "\n",
       "[66497 rows x 6 columns]"
      ]
     },
     "execution_count": 12,
     "metadata": {},
     "output_type": "execute_result"
    }
   ],
   "source": [
    "# Save a csv file with the results. The csv file should contain the folllwing columns: ,Datetime,COMED_MW_scaled,Season_encoded,Time_of_day_encoded,Holiday_encoded,Predictions. The predictions should start from the first row of the test data and continue to the end of the test data. The total number of rows should be equal to the length of the total data.\n",
    "df['Predictions'] = model.forecast(steps=len(df))\n",
    "df.to_csv('test.csv', index=False)\n",
    "df"
   ]
  },
  {
   "cell_type": "code",
   "execution_count": 34,
   "metadata": {},
   "outputs": [],
   "source": [
    "#save the model \n",
    "import pickle\n",
    "filename = 'ETS_model.pkl'\n",
    "pickle.dump(model, open(filename, 'wb'))"
   ]
  },
  {
   "cell_type": "code",
   "execution_count": 13,
   "metadata": {},
   "outputs": [],
   "source": [
    "#load the model\n",
    "import pickle\n",
    "loaded_model = pickle.load(open('/home/hashim/Assignments/Sem6/DataMining/DM_Proj/models/ETS_model.pkl', 'rb'))"
   ]
  },
  {
   "cell_type": "code",
   "execution_count": 6,
   "metadata": {},
   "outputs": [],
   "source": [
    "# Fit the model to the data\n",
    "fitted_model = loaded_model.fit()\n",
    "\n",
    "# Make predictions\n",
    "df['Predictions'] = fitted_model.predict(start=0, end=len(df)-1)\n",
    "\n",
    "# Save the DataFrame to a CSV file\n",
    "df.to_csv('ETS_predictions.csv')"
   ]
  }
 ],
 "metadata": {
  "kernelspec": {
   "display_name": "Python 3",
   "language": "python",
   "name": "python3"
  },
  "language_info": {
   "codemirror_mode": {
    "name": "ipython",
    "version": 3
   },
   "file_extension": ".py",
   "mimetype": "text/x-python",
   "name": "python",
   "nbconvert_exporter": "python",
   "pygments_lexer": "ipython3",
   "version": "3.10.12"
  }
 },
 "nbformat": 4,
 "nbformat_minor": 2
}
